{
  "cells": [
    {
      "cell_type": "markdown",
      "metadata": {
        "id": "4foVEKhrlqcH"
      },
      "source": [
        "#📌 Extracción"
      ]
    },
    {
      "cell_type": "code",
      "execution_count": 2,
      "metadata": {
        "id": "1--uPM88l7JH"
      },
      "outputs": [
        {
          "data": {
            "text/html": [
              "<div>\n",
              "<style scoped>\n",
              "    .dataframe tbody tr th:only-of-type {\n",
              "        vertical-align: middle;\n",
              "    }\n",
              "\n",
              "    .dataframe tbody tr th {\n",
              "        vertical-align: top;\n",
              "    }\n",
              "\n",
              "    .dataframe thead th {\n",
              "        text-align: right;\n",
              "    }\n",
              "</style>\n",
              "<table border=\"1\" class=\"dataframe\">\n",
              "  <thead>\n",
              "    <tr style=\"text-align: right;\">\n",
              "      <th></th>\n",
              "      <th>customerID</th>\n",
              "      <th>Churn</th>\n",
              "      <th>customer.gender</th>\n",
              "      <th>customer.SeniorCitizen</th>\n",
              "      <th>customer.Partner</th>\n",
              "      <th>customer.Dependents</th>\n",
              "      <th>customer.tenure</th>\n",
              "      <th>phone.PhoneService</th>\n",
              "      <th>phone.MultipleLines</th>\n",
              "      <th>internet.InternetService</th>\n",
              "      <th>...</th>\n",
              "      <th>internet.OnlineBackup</th>\n",
              "      <th>internet.DeviceProtection</th>\n",
              "      <th>internet.TechSupport</th>\n",
              "      <th>internet.StreamingTV</th>\n",
              "      <th>internet.StreamingMovies</th>\n",
              "      <th>account.Contract</th>\n",
              "      <th>account.PaperlessBilling</th>\n",
              "      <th>account.PaymentMethod</th>\n",
              "      <th>account.Charges.Monthly</th>\n",
              "      <th>account.Charges.Total</th>\n",
              "    </tr>\n",
              "  </thead>\n",
              "  <tbody>\n",
              "    <tr>\n",
              "      <th>0</th>\n",
              "      <td>0002-ORFBO</td>\n",
              "      <td>No</td>\n",
              "      <td>Female</td>\n",
              "      <td>0</td>\n",
              "      <td>Yes</td>\n",
              "      <td>Yes</td>\n",
              "      <td>9</td>\n",
              "      <td>Yes</td>\n",
              "      <td>No</td>\n",
              "      <td>DSL</td>\n",
              "      <td>...</td>\n",
              "      <td>Yes</td>\n",
              "      <td>No</td>\n",
              "      <td>Yes</td>\n",
              "      <td>Yes</td>\n",
              "      <td>No</td>\n",
              "      <td>One year</td>\n",
              "      <td>Yes</td>\n",
              "      <td>Mailed check</td>\n",
              "      <td>65.6</td>\n",
              "      <td>593.3</td>\n",
              "    </tr>\n",
              "    <tr>\n",
              "      <th>1</th>\n",
              "      <td>0003-MKNFE</td>\n",
              "      <td>No</td>\n",
              "      <td>Male</td>\n",
              "      <td>0</td>\n",
              "      <td>No</td>\n",
              "      <td>No</td>\n",
              "      <td>9</td>\n",
              "      <td>Yes</td>\n",
              "      <td>Yes</td>\n",
              "      <td>DSL</td>\n",
              "      <td>...</td>\n",
              "      <td>No</td>\n",
              "      <td>No</td>\n",
              "      <td>No</td>\n",
              "      <td>No</td>\n",
              "      <td>Yes</td>\n",
              "      <td>Month-to-month</td>\n",
              "      <td>No</td>\n",
              "      <td>Mailed check</td>\n",
              "      <td>59.9</td>\n",
              "      <td>542.4</td>\n",
              "    </tr>\n",
              "    <tr>\n",
              "      <th>2</th>\n",
              "      <td>0004-TLHLJ</td>\n",
              "      <td>Yes</td>\n",
              "      <td>Male</td>\n",
              "      <td>0</td>\n",
              "      <td>No</td>\n",
              "      <td>No</td>\n",
              "      <td>4</td>\n",
              "      <td>Yes</td>\n",
              "      <td>No</td>\n",
              "      <td>Fiber optic</td>\n",
              "      <td>...</td>\n",
              "      <td>No</td>\n",
              "      <td>Yes</td>\n",
              "      <td>No</td>\n",
              "      <td>No</td>\n",
              "      <td>No</td>\n",
              "      <td>Month-to-month</td>\n",
              "      <td>Yes</td>\n",
              "      <td>Electronic check</td>\n",
              "      <td>73.9</td>\n",
              "      <td>280.85</td>\n",
              "    </tr>\n",
              "    <tr>\n",
              "      <th>3</th>\n",
              "      <td>0011-IGKFF</td>\n",
              "      <td>Yes</td>\n",
              "      <td>Male</td>\n",
              "      <td>1</td>\n",
              "      <td>Yes</td>\n",
              "      <td>No</td>\n",
              "      <td>13</td>\n",
              "      <td>Yes</td>\n",
              "      <td>No</td>\n",
              "      <td>Fiber optic</td>\n",
              "      <td>...</td>\n",
              "      <td>Yes</td>\n",
              "      <td>Yes</td>\n",
              "      <td>No</td>\n",
              "      <td>Yes</td>\n",
              "      <td>Yes</td>\n",
              "      <td>Month-to-month</td>\n",
              "      <td>Yes</td>\n",
              "      <td>Electronic check</td>\n",
              "      <td>98.0</td>\n",
              "      <td>1237.85</td>\n",
              "    </tr>\n",
              "    <tr>\n",
              "      <th>4</th>\n",
              "      <td>0013-EXCHZ</td>\n",
              "      <td>Yes</td>\n",
              "      <td>Female</td>\n",
              "      <td>1</td>\n",
              "      <td>Yes</td>\n",
              "      <td>No</td>\n",
              "      <td>3</td>\n",
              "      <td>Yes</td>\n",
              "      <td>No</td>\n",
              "      <td>Fiber optic</td>\n",
              "      <td>...</td>\n",
              "      <td>No</td>\n",
              "      <td>No</td>\n",
              "      <td>Yes</td>\n",
              "      <td>Yes</td>\n",
              "      <td>No</td>\n",
              "      <td>Month-to-month</td>\n",
              "      <td>Yes</td>\n",
              "      <td>Mailed check</td>\n",
              "      <td>83.9</td>\n",
              "      <td>267.4</td>\n",
              "    </tr>\n",
              "  </tbody>\n",
              "</table>\n",
              "<p>5 rows × 21 columns</p>\n",
              "</div>"
            ],
            "text/plain": [
              "   customerID Churn customer.gender  customer.SeniorCitizen customer.Partner  \\\n",
              "0  0002-ORFBO    No          Female                       0              Yes   \n",
              "1  0003-MKNFE    No            Male                       0               No   \n",
              "2  0004-TLHLJ   Yes            Male                       0               No   \n",
              "3  0011-IGKFF   Yes            Male                       1              Yes   \n",
              "4  0013-EXCHZ   Yes          Female                       1              Yes   \n",
              "\n",
              "  customer.Dependents  customer.tenure phone.PhoneService phone.MultipleLines  \\\n",
              "0                 Yes                9                Yes                  No   \n",
              "1                  No                9                Yes                 Yes   \n",
              "2                  No                4                Yes                  No   \n",
              "3                  No               13                Yes                  No   \n",
              "4                  No                3                Yes                  No   \n",
              "\n",
              "  internet.InternetService  ... internet.OnlineBackup  \\\n",
              "0                      DSL  ...                   Yes   \n",
              "1                      DSL  ...                    No   \n",
              "2              Fiber optic  ...                    No   \n",
              "3              Fiber optic  ...                   Yes   \n",
              "4              Fiber optic  ...                    No   \n",
              "\n",
              "  internet.DeviceProtection internet.TechSupport internet.StreamingTV  \\\n",
              "0                        No                  Yes                  Yes   \n",
              "1                        No                   No                   No   \n",
              "2                       Yes                   No                   No   \n",
              "3                       Yes                   No                  Yes   \n",
              "4                        No                  Yes                  Yes   \n",
              "\n",
              "  internet.StreamingMovies account.Contract account.PaperlessBilling  \\\n",
              "0                       No         One year                      Yes   \n",
              "1                      Yes   Month-to-month                       No   \n",
              "2                       No   Month-to-month                      Yes   \n",
              "3                      Yes   Month-to-month                      Yes   \n",
              "4                       No   Month-to-month                      Yes   \n",
              "\n",
              "  account.PaymentMethod account.Charges.Monthly  account.Charges.Total  \n",
              "0          Mailed check                    65.6                  593.3  \n",
              "1          Mailed check                    59.9                  542.4  \n",
              "2      Electronic check                    73.9                 280.85  \n",
              "3      Electronic check                    98.0                1237.85  \n",
              "4          Mailed check                    83.9                  267.4  \n",
              "\n",
              "[5 rows x 21 columns]"
            ]
          },
          "execution_count": 2,
          "metadata": {},
          "output_type": "execute_result"
        }
      ],
      "source": [
        "import pandas as pd \n",
        "import json\n",
        "url = 'https://raw.githubusercontent.com/ingridcristh/challenge2-data-science-LATAM/refs/heads/main/TelecomX_Data.json'\n",
        "\n",
        "#obtener datos desde la api\n",
        "\n",
        "df_telecom = pd.read_json(url)\n",
        "data = df_telecom.to_dict(orient='records')\n",
        "\n",
        "#df_telecom.columns\n",
        "\n",
        "df_tel = pd.json_normalize(data)\n",
        "\n",
        "df_tel.head()\n"
      ]
    },
    {
      "cell_type": "markdown",
      "metadata": {
        "id": "1lSZP8zmmGZu"
      },
      "source": [
        "#🔧 Transformación"
      ]
    },
    {
      "cell_type": "code",
      "execution_count": 3,
      "metadata": {},
      "outputs": [
        {
          "data": {
            "text/html": [
              "<div>\n",
              "<style scoped>\n",
              "    .dataframe tbody tr th:only-of-type {\n",
              "        vertical-align: middle;\n",
              "    }\n",
              "\n",
              "    .dataframe tbody tr th {\n",
              "        vertical-align: top;\n",
              "    }\n",
              "\n",
              "    .dataframe thead th {\n",
              "        text-align: right;\n",
              "    }\n",
              "</style>\n",
              "<table border=\"1\" class=\"dataframe\">\n",
              "  <thead>\n",
              "    <tr style=\"text-align: right;\">\n",
              "      <th></th>\n",
              "      <th>customerID</th>\n",
              "      <th>Churn</th>\n",
              "      <th>customer.gender</th>\n",
              "      <th>customer.SeniorCitizen</th>\n",
              "      <th>customer.Partner</th>\n",
              "      <th>customer.Dependents</th>\n",
              "      <th>customer.tenure</th>\n",
              "      <th>phone.PhoneService</th>\n",
              "      <th>phone.MultipleLines</th>\n",
              "      <th>internet.InternetService</th>\n",
              "      <th>...</th>\n",
              "      <th>internet.OnlineBackup</th>\n",
              "      <th>internet.DeviceProtection</th>\n",
              "      <th>internet.TechSupport</th>\n",
              "      <th>internet.StreamingTV</th>\n",
              "      <th>internet.StreamingMovies</th>\n",
              "      <th>account.Contract</th>\n",
              "      <th>account.PaperlessBilling</th>\n",
              "      <th>account.PaymentMethod</th>\n",
              "      <th>account.Charges.Monthly</th>\n",
              "      <th>account.Charges.Total</th>\n",
              "    </tr>\n",
              "  </thead>\n",
              "  <tbody>\n",
              "    <tr>\n",
              "      <th>0</th>\n",
              "      <td>0002-ORFBO</td>\n",
              "      <td>No</td>\n",
              "      <td>Female</td>\n",
              "      <td>0</td>\n",
              "      <td>Yes</td>\n",
              "      <td>Yes</td>\n",
              "      <td>9</td>\n",
              "      <td>Yes</td>\n",
              "      <td>No</td>\n",
              "      <td>DSL</td>\n",
              "      <td>...</td>\n",
              "      <td>Yes</td>\n",
              "      <td>No</td>\n",
              "      <td>Yes</td>\n",
              "      <td>Yes</td>\n",
              "      <td>No</td>\n",
              "      <td>One year</td>\n",
              "      <td>Yes</td>\n",
              "      <td>Mailed check</td>\n",
              "      <td>65.60</td>\n",
              "      <td>593.3</td>\n",
              "    </tr>\n",
              "    <tr>\n",
              "      <th>1</th>\n",
              "      <td>0003-MKNFE</td>\n",
              "      <td>No</td>\n",
              "      <td>Male</td>\n",
              "      <td>0</td>\n",
              "      <td>No</td>\n",
              "      <td>No</td>\n",
              "      <td>9</td>\n",
              "      <td>Yes</td>\n",
              "      <td>Yes</td>\n",
              "      <td>DSL</td>\n",
              "      <td>...</td>\n",
              "      <td>No</td>\n",
              "      <td>No</td>\n",
              "      <td>No</td>\n",
              "      <td>No</td>\n",
              "      <td>Yes</td>\n",
              "      <td>Month-to-month</td>\n",
              "      <td>No</td>\n",
              "      <td>Mailed check</td>\n",
              "      <td>59.90</td>\n",
              "      <td>542.4</td>\n",
              "    </tr>\n",
              "    <tr>\n",
              "      <th>2</th>\n",
              "      <td>0004-TLHLJ</td>\n",
              "      <td>Yes</td>\n",
              "      <td>Male</td>\n",
              "      <td>0</td>\n",
              "      <td>No</td>\n",
              "      <td>No</td>\n",
              "      <td>4</td>\n",
              "      <td>Yes</td>\n",
              "      <td>No</td>\n",
              "      <td>Fiber optic</td>\n",
              "      <td>...</td>\n",
              "      <td>No</td>\n",
              "      <td>Yes</td>\n",
              "      <td>No</td>\n",
              "      <td>No</td>\n",
              "      <td>No</td>\n",
              "      <td>Month-to-month</td>\n",
              "      <td>Yes</td>\n",
              "      <td>Electronic check</td>\n",
              "      <td>73.90</td>\n",
              "      <td>280.85</td>\n",
              "    </tr>\n",
              "    <tr>\n",
              "      <th>3</th>\n",
              "      <td>0011-IGKFF</td>\n",
              "      <td>Yes</td>\n",
              "      <td>Male</td>\n",
              "      <td>1</td>\n",
              "      <td>Yes</td>\n",
              "      <td>No</td>\n",
              "      <td>13</td>\n",
              "      <td>Yes</td>\n",
              "      <td>No</td>\n",
              "      <td>Fiber optic</td>\n",
              "      <td>...</td>\n",
              "      <td>Yes</td>\n",
              "      <td>Yes</td>\n",
              "      <td>No</td>\n",
              "      <td>Yes</td>\n",
              "      <td>Yes</td>\n",
              "      <td>Month-to-month</td>\n",
              "      <td>Yes</td>\n",
              "      <td>Electronic check</td>\n",
              "      <td>98.00</td>\n",
              "      <td>1237.85</td>\n",
              "    </tr>\n",
              "    <tr>\n",
              "      <th>4</th>\n",
              "      <td>0013-EXCHZ</td>\n",
              "      <td>Yes</td>\n",
              "      <td>Female</td>\n",
              "      <td>1</td>\n",
              "      <td>Yes</td>\n",
              "      <td>No</td>\n",
              "      <td>3</td>\n",
              "      <td>Yes</td>\n",
              "      <td>No</td>\n",
              "      <td>Fiber optic</td>\n",
              "      <td>...</td>\n",
              "      <td>No</td>\n",
              "      <td>No</td>\n",
              "      <td>Yes</td>\n",
              "      <td>Yes</td>\n",
              "      <td>No</td>\n",
              "      <td>Month-to-month</td>\n",
              "      <td>Yes</td>\n",
              "      <td>Mailed check</td>\n",
              "      <td>83.90</td>\n",
              "      <td>267.4</td>\n",
              "    </tr>\n",
              "    <tr>\n",
              "      <th>...</th>\n",
              "      <td>...</td>\n",
              "      <td>...</td>\n",
              "      <td>...</td>\n",
              "      <td>...</td>\n",
              "      <td>...</td>\n",
              "      <td>...</td>\n",
              "      <td>...</td>\n",
              "      <td>...</td>\n",
              "      <td>...</td>\n",
              "      <td>...</td>\n",
              "      <td>...</td>\n",
              "      <td>...</td>\n",
              "      <td>...</td>\n",
              "      <td>...</td>\n",
              "      <td>...</td>\n",
              "      <td>...</td>\n",
              "      <td>...</td>\n",
              "      <td>...</td>\n",
              "      <td>...</td>\n",
              "      <td>...</td>\n",
              "      <td>...</td>\n",
              "    </tr>\n",
              "    <tr>\n",
              "      <th>7262</th>\n",
              "      <td>9987-LUTYD</td>\n",
              "      <td>No</td>\n",
              "      <td>Female</td>\n",
              "      <td>0</td>\n",
              "      <td>No</td>\n",
              "      <td>No</td>\n",
              "      <td>13</td>\n",
              "      <td>Yes</td>\n",
              "      <td>No</td>\n",
              "      <td>DSL</td>\n",
              "      <td>...</td>\n",
              "      <td>No</td>\n",
              "      <td>No</td>\n",
              "      <td>Yes</td>\n",
              "      <td>No</td>\n",
              "      <td>No</td>\n",
              "      <td>One year</td>\n",
              "      <td>No</td>\n",
              "      <td>Mailed check</td>\n",
              "      <td>55.15</td>\n",
              "      <td>742.9</td>\n",
              "    </tr>\n",
              "    <tr>\n",
              "      <th>7263</th>\n",
              "      <td>9992-RRAMN</td>\n",
              "      <td>Yes</td>\n",
              "      <td>Male</td>\n",
              "      <td>0</td>\n",
              "      <td>Yes</td>\n",
              "      <td>No</td>\n",
              "      <td>22</td>\n",
              "      <td>Yes</td>\n",
              "      <td>Yes</td>\n",
              "      <td>Fiber optic</td>\n",
              "      <td>...</td>\n",
              "      <td>No</td>\n",
              "      <td>No</td>\n",
              "      <td>No</td>\n",
              "      <td>No</td>\n",
              "      <td>Yes</td>\n",
              "      <td>Month-to-month</td>\n",
              "      <td>Yes</td>\n",
              "      <td>Electronic check</td>\n",
              "      <td>85.10</td>\n",
              "      <td>1873.7</td>\n",
              "    </tr>\n",
              "    <tr>\n",
              "      <th>7264</th>\n",
              "      <td>9992-UJOEL</td>\n",
              "      <td>No</td>\n",
              "      <td>Male</td>\n",
              "      <td>0</td>\n",
              "      <td>No</td>\n",
              "      <td>No</td>\n",
              "      <td>2</td>\n",
              "      <td>Yes</td>\n",
              "      <td>No</td>\n",
              "      <td>DSL</td>\n",
              "      <td>...</td>\n",
              "      <td>Yes</td>\n",
              "      <td>No</td>\n",
              "      <td>No</td>\n",
              "      <td>No</td>\n",
              "      <td>No</td>\n",
              "      <td>Month-to-month</td>\n",
              "      <td>Yes</td>\n",
              "      <td>Mailed check</td>\n",
              "      <td>50.30</td>\n",
              "      <td>92.75</td>\n",
              "    </tr>\n",
              "    <tr>\n",
              "      <th>7265</th>\n",
              "      <td>9993-LHIEB</td>\n",
              "      <td>No</td>\n",
              "      <td>Male</td>\n",
              "      <td>0</td>\n",
              "      <td>Yes</td>\n",
              "      <td>Yes</td>\n",
              "      <td>67</td>\n",
              "      <td>Yes</td>\n",
              "      <td>No</td>\n",
              "      <td>DSL</td>\n",
              "      <td>...</td>\n",
              "      <td>No</td>\n",
              "      <td>Yes</td>\n",
              "      <td>Yes</td>\n",
              "      <td>No</td>\n",
              "      <td>Yes</td>\n",
              "      <td>Two year</td>\n",
              "      <td>No</td>\n",
              "      <td>Mailed check</td>\n",
              "      <td>67.85</td>\n",
              "      <td>4627.65</td>\n",
              "    </tr>\n",
              "    <tr>\n",
              "      <th>7266</th>\n",
              "      <td>9995-HOTOH</td>\n",
              "      <td>No</td>\n",
              "      <td>Male</td>\n",
              "      <td>0</td>\n",
              "      <td>Yes</td>\n",
              "      <td>Yes</td>\n",
              "      <td>63</td>\n",
              "      <td>No</td>\n",
              "      <td>No phone service</td>\n",
              "      <td>DSL</td>\n",
              "      <td>...</td>\n",
              "      <td>Yes</td>\n",
              "      <td>Yes</td>\n",
              "      <td>No</td>\n",
              "      <td>Yes</td>\n",
              "      <td>Yes</td>\n",
              "      <td>Two year</td>\n",
              "      <td>No</td>\n",
              "      <td>Electronic check</td>\n",
              "      <td>59.00</td>\n",
              "      <td>3707.6</td>\n",
              "    </tr>\n",
              "  </tbody>\n",
              "</table>\n",
              "<p>7267 rows × 21 columns</p>\n",
              "</div>"
            ],
            "text/plain": [
              "      customerID Churn customer.gender  customer.SeniorCitizen  \\\n",
              "0     0002-ORFBO    No          Female                       0   \n",
              "1     0003-MKNFE    No            Male                       0   \n",
              "2     0004-TLHLJ   Yes            Male                       0   \n",
              "3     0011-IGKFF   Yes            Male                       1   \n",
              "4     0013-EXCHZ   Yes          Female                       1   \n",
              "...          ...   ...             ...                     ...   \n",
              "7262  9987-LUTYD    No          Female                       0   \n",
              "7263  9992-RRAMN   Yes            Male                       0   \n",
              "7264  9992-UJOEL    No            Male                       0   \n",
              "7265  9993-LHIEB    No            Male                       0   \n",
              "7266  9995-HOTOH    No            Male                       0   \n",
              "\n",
              "     customer.Partner customer.Dependents  customer.tenure phone.PhoneService  \\\n",
              "0                 Yes                 Yes                9                Yes   \n",
              "1                  No                  No                9                Yes   \n",
              "2                  No                  No                4                Yes   \n",
              "3                 Yes                  No               13                Yes   \n",
              "4                 Yes                  No                3                Yes   \n",
              "...               ...                 ...              ...                ...   \n",
              "7262               No                  No               13                Yes   \n",
              "7263              Yes                  No               22                Yes   \n",
              "7264               No                  No                2                Yes   \n",
              "7265              Yes                 Yes               67                Yes   \n",
              "7266              Yes                 Yes               63                 No   \n",
              "\n",
              "     phone.MultipleLines internet.InternetService  ... internet.OnlineBackup  \\\n",
              "0                     No                      DSL  ...                   Yes   \n",
              "1                    Yes                      DSL  ...                    No   \n",
              "2                     No              Fiber optic  ...                    No   \n",
              "3                     No              Fiber optic  ...                   Yes   \n",
              "4                     No              Fiber optic  ...                    No   \n",
              "...                  ...                      ...  ...                   ...   \n",
              "7262                  No                      DSL  ...                    No   \n",
              "7263                 Yes              Fiber optic  ...                    No   \n",
              "7264                  No                      DSL  ...                   Yes   \n",
              "7265                  No                      DSL  ...                    No   \n",
              "7266    No phone service                      DSL  ...                   Yes   \n",
              "\n",
              "     internet.DeviceProtection internet.TechSupport internet.StreamingTV  \\\n",
              "0                           No                  Yes                  Yes   \n",
              "1                           No                   No                   No   \n",
              "2                          Yes                   No                   No   \n",
              "3                          Yes                   No                  Yes   \n",
              "4                           No                  Yes                  Yes   \n",
              "...                        ...                  ...                  ...   \n",
              "7262                        No                  Yes                   No   \n",
              "7263                        No                   No                   No   \n",
              "7264                        No                   No                   No   \n",
              "7265                       Yes                  Yes                   No   \n",
              "7266                       Yes                   No                  Yes   \n",
              "\n",
              "     internet.StreamingMovies account.Contract account.PaperlessBilling  \\\n",
              "0                          No         One year                      Yes   \n",
              "1                         Yes   Month-to-month                       No   \n",
              "2                          No   Month-to-month                      Yes   \n",
              "3                         Yes   Month-to-month                      Yes   \n",
              "4                          No   Month-to-month                      Yes   \n",
              "...                       ...              ...                      ...   \n",
              "7262                       No         One year                       No   \n",
              "7263                      Yes   Month-to-month                      Yes   \n",
              "7264                       No   Month-to-month                      Yes   \n",
              "7265                      Yes         Two year                       No   \n",
              "7266                      Yes         Two year                       No   \n",
              "\n",
              "     account.PaymentMethod account.Charges.Monthly  account.Charges.Total  \n",
              "0             Mailed check                   65.60                  593.3  \n",
              "1             Mailed check                   59.90                  542.4  \n",
              "2         Electronic check                   73.90                 280.85  \n",
              "3         Electronic check                   98.00                1237.85  \n",
              "4             Mailed check                   83.90                  267.4  \n",
              "...                    ...                     ...                    ...  \n",
              "7262          Mailed check                   55.15                  742.9  \n",
              "7263      Electronic check                   85.10                 1873.7  \n",
              "7264          Mailed check                   50.30                  92.75  \n",
              "7265          Mailed check                   67.85                4627.65  \n",
              "7266      Electronic check                   59.00                 3707.6  \n",
              "\n",
              "[7267 rows x 21 columns]"
            ]
          },
          "execution_count": 3,
          "metadata": {},
          "output_type": "execute_result"
        }
      ],
      "source": [
        "df_tel"
      ]
    },
    {
      "cell_type": "code",
      "execution_count": 4,
      "metadata": {
        "id": "bsm-WTLjmHvt"
      },
      "outputs": [
        {
          "name": "stdout",
          "output_type": "stream",
          "text": [
            "\n",
            "🧾 customerID:\n",
            "['0002-ORFBO' '0003-MKNFE' '0004-TLHLJ' ... '9992-UJOEL' '9993-LHIEB'\n",
            " '9995-HOTOH']\n",
            "\n",
            "🧾 Churn:\n",
            "['No' 'Yes' '']\n",
            "\n",
            "🧾 customer.gender:\n",
            "['Female' 'Male']\n",
            "\n",
            "🧾 customer.Partner:\n",
            "['Yes' 'No']\n",
            "\n",
            "🧾 customer.Dependents:\n",
            "['Yes' 'No']\n",
            "\n",
            "🧾 phone.PhoneService:\n",
            "['Yes' 'No']\n",
            "\n",
            "🧾 phone.MultipleLines:\n",
            "['No' 'Yes' 'No phone service']\n",
            "\n",
            "🧾 internet.InternetService:\n",
            "['DSL' 'Fiber optic' 'No']\n",
            "\n",
            "🧾 internet.OnlineSecurity:\n",
            "['No' 'Yes' 'No internet service']\n",
            "\n",
            "🧾 internet.OnlineBackup:\n",
            "['Yes' 'No' 'No internet service']\n",
            "\n",
            "🧾 internet.DeviceProtection:\n",
            "['No' 'Yes' 'No internet service']\n",
            "\n",
            "🧾 internet.TechSupport:\n",
            "['Yes' 'No' 'No internet service']\n",
            "\n",
            "🧾 internet.StreamingTV:\n",
            "['Yes' 'No' 'No internet service']\n",
            "\n",
            "🧾 internet.StreamingMovies:\n",
            "['No' 'Yes' 'No internet service']\n",
            "\n",
            "🧾 account.Contract:\n",
            "['One year' 'Month-to-month' 'Two year']\n",
            "\n",
            "🧾 account.PaperlessBilling:\n",
            "['Yes' 'No']\n",
            "\n",
            "🧾 account.PaymentMethod:\n",
            "['Mailed check' 'Electronic check' 'Credit card (automatic)'\n",
            " 'Bank transfer (automatic)']\n",
            "\n",
            "🧾 account.Charges.Total:\n",
            "['593.3' '542.4' '280.85' ... '742.9' '4627.65' '3707.6']\n",
            "customerID                   0\n",
            "Churn                        0\n",
            "customer.gender              0\n",
            "customer.SeniorCitizen       0\n",
            "customer.Partner             0\n",
            "customer.Dependents          0\n",
            "customer.tenure              0\n",
            "phone.PhoneService           0\n",
            "phone.MultipleLines          0\n",
            "internet.InternetService     0\n",
            "internet.OnlineSecurity      0\n",
            "internet.OnlineBackup        0\n",
            "internet.DeviceProtection    0\n",
            "internet.TechSupport         0\n",
            "internet.StreamingTV         0\n",
            "internet.StreamingMovies     0\n",
            "account.Contract             0\n",
            "account.PaperlessBilling     0\n",
            "account.PaymentMethod        0\n",
            "account.Charges.Monthly      0\n",
            "account.Charges.Total        0\n",
            "dtype: int64\n",
            "0\n",
            "\n",
            "🔍 Tipos de datos por columna:\n",
            "float64\n"
          ]
        },
        {
          "name": "stderr",
          "output_type": "stream",
          "text": [
            "C:\\Users\\aluna\\AppData\\Local\\Temp\\ipykernel_1124\\1289057232.py:24: SettingWithCopyWarning: \n",
            "A value is trying to be set on a copy of a slice from a DataFrame.\n",
            "Try using .loc[row_indexer,col_indexer] = value instead\n",
            "\n",
            "See the caveats in the documentation: https://pandas.pydata.org/pandas-docs/stable/user_guide/indexing.html#returning-a-view-versus-a-copy\n",
            "  df_tel['account.Charges.Total'] = pd.to_numeric(df_tel['account.Charges.Total'], errors='coerce')\n",
            "C:\\Users\\aluna\\AppData\\Local\\Temp\\ipykernel_1124\\1289057232.py:34: SettingWithCopyWarning: \n",
            "A value is trying to be set on a copy of a slice from a DataFrame.\n",
            "Try using .loc[row_indexer,col_indexer] = value instead\n",
            "\n",
            "See the caveats in the documentation: https://pandas.pydata.org/pandas-docs/stable/user_guide/indexing.html#returning-a-view-versus-a-copy\n",
            "  df_tel['cuentas_diarias'] = (df_tel['account.Charges.Monthly'] / 30)\n"
          ]
        },
        {
          "data": {
            "text/html": [
              "<div>\n",
              "<style scoped>\n",
              "    .dataframe tbody tr th:only-of-type {\n",
              "        vertical-align: middle;\n",
              "    }\n",
              "\n",
              "    .dataframe tbody tr th {\n",
              "        vertical-align: top;\n",
              "    }\n",
              "\n",
              "    .dataframe thead th {\n",
              "        text-align: right;\n",
              "    }\n",
              "</style>\n",
              "<table border=\"1\" class=\"dataframe\">\n",
              "  <thead>\n",
              "    <tr style=\"text-align: right;\">\n",
              "      <th></th>\n",
              "      <th>customerID</th>\n",
              "      <th>Churn</th>\n",
              "      <th>customer.gender</th>\n",
              "      <th>customer.SeniorCitizen</th>\n",
              "      <th>customer.Partner</th>\n",
              "      <th>customer.Dependents</th>\n",
              "      <th>customer.tenure</th>\n",
              "      <th>phone.PhoneService</th>\n",
              "      <th>phone.MultipleLines</th>\n",
              "      <th>internet.InternetService</th>\n",
              "      <th>...</th>\n",
              "      <th>internet.DeviceProtection</th>\n",
              "      <th>internet.TechSupport</th>\n",
              "      <th>internet.StreamingTV</th>\n",
              "      <th>internet.StreamingMovies</th>\n",
              "      <th>account.Contract</th>\n",
              "      <th>account.PaperlessBilling</th>\n",
              "      <th>account.PaymentMethod</th>\n",
              "      <th>account.Charges.Monthly</th>\n",
              "      <th>account.Charges.Total</th>\n",
              "      <th>cuentas_diarias</th>\n",
              "    </tr>\n",
              "  </thead>\n",
              "  <tbody>\n",
              "    <tr>\n",
              "      <th>0</th>\n",
              "      <td>0002-ORFBO</td>\n",
              "      <td>No</td>\n",
              "      <td>Female</td>\n",
              "      <td>0</td>\n",
              "      <td>Yes</td>\n",
              "      <td>Yes</td>\n",
              "      <td>9</td>\n",
              "      <td>Yes</td>\n",
              "      <td>No</td>\n",
              "      <td>DSL</td>\n",
              "      <td>...</td>\n",
              "      <td>No</td>\n",
              "      <td>Yes</td>\n",
              "      <td>Yes</td>\n",
              "      <td>No</td>\n",
              "      <td>One year</td>\n",
              "      <td>Yes</td>\n",
              "      <td>Mailed check</td>\n",
              "      <td>65.60</td>\n",
              "      <td>593.30</td>\n",
              "      <td>2.186667</td>\n",
              "    </tr>\n",
              "    <tr>\n",
              "      <th>1</th>\n",
              "      <td>0003-MKNFE</td>\n",
              "      <td>No</td>\n",
              "      <td>Male</td>\n",
              "      <td>0</td>\n",
              "      <td>No</td>\n",
              "      <td>No</td>\n",
              "      <td>9</td>\n",
              "      <td>Yes</td>\n",
              "      <td>Yes</td>\n",
              "      <td>DSL</td>\n",
              "      <td>...</td>\n",
              "      <td>No</td>\n",
              "      <td>No</td>\n",
              "      <td>No</td>\n",
              "      <td>Yes</td>\n",
              "      <td>Month-to-month</td>\n",
              "      <td>No</td>\n",
              "      <td>Mailed check</td>\n",
              "      <td>59.90</td>\n",
              "      <td>542.40</td>\n",
              "      <td>1.996667</td>\n",
              "    </tr>\n",
              "    <tr>\n",
              "      <th>2</th>\n",
              "      <td>0004-TLHLJ</td>\n",
              "      <td>Yes</td>\n",
              "      <td>Male</td>\n",
              "      <td>0</td>\n",
              "      <td>No</td>\n",
              "      <td>No</td>\n",
              "      <td>4</td>\n",
              "      <td>Yes</td>\n",
              "      <td>No</td>\n",
              "      <td>Fiber optic</td>\n",
              "      <td>...</td>\n",
              "      <td>Yes</td>\n",
              "      <td>No</td>\n",
              "      <td>No</td>\n",
              "      <td>No</td>\n",
              "      <td>Month-to-month</td>\n",
              "      <td>Yes</td>\n",
              "      <td>Electronic check</td>\n",
              "      <td>73.90</td>\n",
              "      <td>280.85</td>\n",
              "      <td>2.463333</td>\n",
              "    </tr>\n",
              "    <tr>\n",
              "      <th>3</th>\n",
              "      <td>0011-IGKFF</td>\n",
              "      <td>Yes</td>\n",
              "      <td>Male</td>\n",
              "      <td>1</td>\n",
              "      <td>Yes</td>\n",
              "      <td>No</td>\n",
              "      <td>13</td>\n",
              "      <td>Yes</td>\n",
              "      <td>No</td>\n",
              "      <td>Fiber optic</td>\n",
              "      <td>...</td>\n",
              "      <td>Yes</td>\n",
              "      <td>No</td>\n",
              "      <td>Yes</td>\n",
              "      <td>Yes</td>\n",
              "      <td>Month-to-month</td>\n",
              "      <td>Yes</td>\n",
              "      <td>Electronic check</td>\n",
              "      <td>98.00</td>\n",
              "      <td>1237.85</td>\n",
              "      <td>3.266667</td>\n",
              "    </tr>\n",
              "    <tr>\n",
              "      <th>4</th>\n",
              "      <td>0013-EXCHZ</td>\n",
              "      <td>Yes</td>\n",
              "      <td>Female</td>\n",
              "      <td>1</td>\n",
              "      <td>Yes</td>\n",
              "      <td>No</td>\n",
              "      <td>3</td>\n",
              "      <td>Yes</td>\n",
              "      <td>No</td>\n",
              "      <td>Fiber optic</td>\n",
              "      <td>...</td>\n",
              "      <td>No</td>\n",
              "      <td>Yes</td>\n",
              "      <td>Yes</td>\n",
              "      <td>No</td>\n",
              "      <td>Month-to-month</td>\n",
              "      <td>Yes</td>\n",
              "      <td>Mailed check</td>\n",
              "      <td>83.90</td>\n",
              "      <td>267.40</td>\n",
              "      <td>2.796667</td>\n",
              "    </tr>\n",
              "    <tr>\n",
              "      <th>...</th>\n",
              "      <td>...</td>\n",
              "      <td>...</td>\n",
              "      <td>...</td>\n",
              "      <td>...</td>\n",
              "      <td>...</td>\n",
              "      <td>...</td>\n",
              "      <td>...</td>\n",
              "      <td>...</td>\n",
              "      <td>...</td>\n",
              "      <td>...</td>\n",
              "      <td>...</td>\n",
              "      <td>...</td>\n",
              "      <td>...</td>\n",
              "      <td>...</td>\n",
              "      <td>...</td>\n",
              "      <td>...</td>\n",
              "      <td>...</td>\n",
              "      <td>...</td>\n",
              "      <td>...</td>\n",
              "      <td>...</td>\n",
              "      <td>...</td>\n",
              "    </tr>\n",
              "    <tr>\n",
              "      <th>7262</th>\n",
              "      <td>9987-LUTYD</td>\n",
              "      <td>No</td>\n",
              "      <td>Female</td>\n",
              "      <td>0</td>\n",
              "      <td>No</td>\n",
              "      <td>No</td>\n",
              "      <td>13</td>\n",
              "      <td>Yes</td>\n",
              "      <td>No</td>\n",
              "      <td>DSL</td>\n",
              "      <td>...</td>\n",
              "      <td>No</td>\n",
              "      <td>Yes</td>\n",
              "      <td>No</td>\n",
              "      <td>No</td>\n",
              "      <td>One year</td>\n",
              "      <td>No</td>\n",
              "      <td>Mailed check</td>\n",
              "      <td>55.15</td>\n",
              "      <td>742.90</td>\n",
              "      <td>1.838333</td>\n",
              "    </tr>\n",
              "    <tr>\n",
              "      <th>7263</th>\n",
              "      <td>9992-RRAMN</td>\n",
              "      <td>Yes</td>\n",
              "      <td>Male</td>\n",
              "      <td>0</td>\n",
              "      <td>Yes</td>\n",
              "      <td>No</td>\n",
              "      <td>22</td>\n",
              "      <td>Yes</td>\n",
              "      <td>Yes</td>\n",
              "      <td>Fiber optic</td>\n",
              "      <td>...</td>\n",
              "      <td>No</td>\n",
              "      <td>No</td>\n",
              "      <td>No</td>\n",
              "      <td>Yes</td>\n",
              "      <td>Month-to-month</td>\n",
              "      <td>Yes</td>\n",
              "      <td>Electronic check</td>\n",
              "      <td>85.10</td>\n",
              "      <td>1873.70</td>\n",
              "      <td>2.836667</td>\n",
              "    </tr>\n",
              "    <tr>\n",
              "      <th>7264</th>\n",
              "      <td>9992-UJOEL</td>\n",
              "      <td>No</td>\n",
              "      <td>Male</td>\n",
              "      <td>0</td>\n",
              "      <td>No</td>\n",
              "      <td>No</td>\n",
              "      <td>2</td>\n",
              "      <td>Yes</td>\n",
              "      <td>No</td>\n",
              "      <td>DSL</td>\n",
              "      <td>...</td>\n",
              "      <td>No</td>\n",
              "      <td>No</td>\n",
              "      <td>No</td>\n",
              "      <td>No</td>\n",
              "      <td>Month-to-month</td>\n",
              "      <td>Yes</td>\n",
              "      <td>Mailed check</td>\n",
              "      <td>50.30</td>\n",
              "      <td>92.75</td>\n",
              "      <td>1.676667</td>\n",
              "    </tr>\n",
              "    <tr>\n",
              "      <th>7265</th>\n",
              "      <td>9993-LHIEB</td>\n",
              "      <td>No</td>\n",
              "      <td>Male</td>\n",
              "      <td>0</td>\n",
              "      <td>Yes</td>\n",
              "      <td>Yes</td>\n",
              "      <td>67</td>\n",
              "      <td>Yes</td>\n",
              "      <td>No</td>\n",
              "      <td>DSL</td>\n",
              "      <td>...</td>\n",
              "      <td>Yes</td>\n",
              "      <td>Yes</td>\n",
              "      <td>No</td>\n",
              "      <td>Yes</td>\n",
              "      <td>Two year</td>\n",
              "      <td>No</td>\n",
              "      <td>Mailed check</td>\n",
              "      <td>67.85</td>\n",
              "      <td>4627.65</td>\n",
              "      <td>2.261667</td>\n",
              "    </tr>\n",
              "    <tr>\n",
              "      <th>7266</th>\n",
              "      <td>9995-HOTOH</td>\n",
              "      <td>No</td>\n",
              "      <td>Male</td>\n",
              "      <td>0</td>\n",
              "      <td>Yes</td>\n",
              "      <td>Yes</td>\n",
              "      <td>63</td>\n",
              "      <td>No</td>\n",
              "      <td>No phone service</td>\n",
              "      <td>DSL</td>\n",
              "      <td>...</td>\n",
              "      <td>Yes</td>\n",
              "      <td>No</td>\n",
              "      <td>Yes</td>\n",
              "      <td>Yes</td>\n",
              "      <td>Two year</td>\n",
              "      <td>No</td>\n",
              "      <td>Electronic check</td>\n",
              "      <td>59.00</td>\n",
              "      <td>3707.60</td>\n",
              "      <td>1.966667</td>\n",
              "    </tr>\n",
              "  </tbody>\n",
              "</table>\n",
              "<p>7043 rows × 22 columns</p>\n",
              "</div>"
            ],
            "text/plain": [
              "      customerID Churn customer.gender  customer.SeniorCitizen  \\\n",
              "0     0002-ORFBO    No          Female                       0   \n",
              "1     0003-MKNFE    No            Male                       0   \n",
              "2     0004-TLHLJ   Yes            Male                       0   \n",
              "3     0011-IGKFF   Yes            Male                       1   \n",
              "4     0013-EXCHZ   Yes          Female                       1   \n",
              "...          ...   ...             ...                     ...   \n",
              "7262  9987-LUTYD    No          Female                       0   \n",
              "7263  9992-RRAMN   Yes            Male                       0   \n",
              "7264  9992-UJOEL    No            Male                       0   \n",
              "7265  9993-LHIEB    No            Male                       0   \n",
              "7266  9995-HOTOH    No            Male                       0   \n",
              "\n",
              "     customer.Partner customer.Dependents  customer.tenure phone.PhoneService  \\\n",
              "0                 Yes                 Yes                9                Yes   \n",
              "1                  No                  No                9                Yes   \n",
              "2                  No                  No                4                Yes   \n",
              "3                 Yes                  No               13                Yes   \n",
              "4                 Yes                  No                3                Yes   \n",
              "...               ...                 ...              ...                ...   \n",
              "7262               No                  No               13                Yes   \n",
              "7263              Yes                  No               22                Yes   \n",
              "7264               No                  No                2                Yes   \n",
              "7265              Yes                 Yes               67                Yes   \n",
              "7266              Yes                 Yes               63                 No   \n",
              "\n",
              "     phone.MultipleLines internet.InternetService  ...  \\\n",
              "0                     No                      DSL  ...   \n",
              "1                    Yes                      DSL  ...   \n",
              "2                     No              Fiber optic  ...   \n",
              "3                     No              Fiber optic  ...   \n",
              "4                     No              Fiber optic  ...   \n",
              "...                  ...                      ...  ...   \n",
              "7262                  No                      DSL  ...   \n",
              "7263                 Yes              Fiber optic  ...   \n",
              "7264                  No                      DSL  ...   \n",
              "7265                  No                      DSL  ...   \n",
              "7266    No phone service                      DSL  ...   \n",
              "\n",
              "     internet.DeviceProtection internet.TechSupport internet.StreamingTV  \\\n",
              "0                           No                  Yes                  Yes   \n",
              "1                           No                   No                   No   \n",
              "2                          Yes                   No                   No   \n",
              "3                          Yes                   No                  Yes   \n",
              "4                           No                  Yes                  Yes   \n",
              "...                        ...                  ...                  ...   \n",
              "7262                        No                  Yes                   No   \n",
              "7263                        No                   No                   No   \n",
              "7264                        No                   No                   No   \n",
              "7265                       Yes                  Yes                   No   \n",
              "7266                       Yes                   No                  Yes   \n",
              "\n",
              "     internet.StreamingMovies account.Contract account.PaperlessBilling  \\\n",
              "0                          No         One year                      Yes   \n",
              "1                         Yes   Month-to-month                       No   \n",
              "2                          No   Month-to-month                      Yes   \n",
              "3                         Yes   Month-to-month                      Yes   \n",
              "4                          No   Month-to-month                      Yes   \n",
              "...                       ...              ...                      ...   \n",
              "7262                       No         One year                       No   \n",
              "7263                      Yes   Month-to-month                      Yes   \n",
              "7264                       No   Month-to-month                      Yes   \n",
              "7265                      Yes         Two year                       No   \n",
              "7266                      Yes         Two year                       No   \n",
              "\n",
              "     account.PaymentMethod account.Charges.Monthly account.Charges.Total  \\\n",
              "0             Mailed check                   65.60                593.30   \n",
              "1             Mailed check                   59.90                542.40   \n",
              "2         Electronic check                   73.90                280.85   \n",
              "3         Electronic check                   98.00               1237.85   \n",
              "4             Mailed check                   83.90                267.40   \n",
              "...                    ...                     ...                   ...   \n",
              "7262          Mailed check                   55.15                742.90   \n",
              "7263      Electronic check                   85.10               1873.70   \n",
              "7264          Mailed check                   50.30                 92.75   \n",
              "7265          Mailed check                   67.85               4627.65   \n",
              "7266      Electronic check                   59.00               3707.60   \n",
              "\n",
              "      cuentas_diarias  \n",
              "0            2.186667  \n",
              "1            1.996667  \n",
              "2            2.463333  \n",
              "3            3.266667  \n",
              "4            2.796667  \n",
              "...               ...  \n",
              "7262         1.838333  \n",
              "7263         2.836667  \n",
              "7264         1.676667  \n",
              "7265         2.261667  \n",
              "7266         1.966667  \n",
              "\n",
              "[7043 rows x 22 columns]"
            ]
          },
          "execution_count": 4,
          "metadata": {},
          "output_type": "execute_result"
        }
      ],
      "source": [
        "\n",
        "# --- 4. Verificar valores únicos en columnas categóricas ---\n",
        "columnas_categoricas = df_tel.select_dtypes(include='object').columns\n",
        "nombres = df_tel.select_dtypes(include='object').columns #Selecciona solo las columnas del DataFrame df_tel que tienen tipo de dato object.\n",
        "#print(nombres)\n",
        "# print(\"\\n🔍 Valores únicos en columnas categóricas (posibles inconsistencias):\")\n",
        "\n",
        "\n",
        "\n",
        "\n",
        "for col in columnas_categoricas:\n",
        "    print(f\"\\n🧾 {col}:\")\n",
        "    print(df_tel[col].unique())\n",
        "\n",
        "\n",
        "#Verificar Valores Ausentes\n",
        "print(df_tel.isnull().sum())\n",
        "#Verificar Duplicados\n",
        "print(df_tel.duplicated().sum())\n",
        "#Verificar tipos de datos y posibles errores de formato\n",
        "print(\"\\n🔍 Tipos de datos por columna:\")\n",
        "df_tel = df_tel[df_tel['Churn'].str.strip() != '']\n",
        "#Cambiando la columna \"account.Charges.Total\" a Float\n",
        "\n",
        "df_tel['account.Charges.Total'] = pd.to_numeric(df_tel['account.Charges.Total'], errors='coerce')\n",
        "print(df_tel['account.Charges.Total'].dtype)\n",
        "\n",
        "# Vacíos o en blanco\n",
        "df_tel.apply(lambda x: x.astype(str).str.strip() == '').sum()\n",
        "df_tel\n",
        "\n",
        "\n",
        "\n",
        "\n",
        "df_tel['cuentas_diarias'] = (df_tel['account.Charges.Monthly'] / 30)\n",
        "df_tel = df_tel.drop('Cuentas_Diarias', errors='ignore')\n",
        "df_tel\n"
      ]
    },
    {
      "cell_type": "markdown",
      "metadata": {},
      "source": [
        "#Estandarización y transformación de datos (opcional)"
      ]
    },
    {
      "cell_type": "code",
      "execution_count": 5,
      "metadata": {},
      "outputs": [
        {
          "data": {
            "text/html": [
              "<div>\n",
              "<style scoped>\n",
              "    .dataframe tbody tr th:only-of-type {\n",
              "        vertical-align: middle;\n",
              "    }\n",
              "\n",
              "    .dataframe tbody tr th {\n",
              "        vertical-align: top;\n",
              "    }\n",
              "\n",
              "    .dataframe thead th {\n",
              "        text-align: right;\n",
              "    }\n",
              "</style>\n",
              "<table border=\"1\" class=\"dataframe\">\n",
              "  <thead>\n",
              "    <tr style=\"text-align: right;\">\n",
              "      <th></th>\n",
              "      <th>customerID</th>\n",
              "      <th>Churn</th>\n",
              "      <th>customer.gender</th>\n",
              "      <th>customer.SeniorCitizen</th>\n",
              "      <th>customer.Partner</th>\n",
              "      <th>customer.Dependents</th>\n",
              "      <th>customer.tenure</th>\n",
              "      <th>phone.PhoneService</th>\n",
              "      <th>phone.MultipleLines</th>\n",
              "      <th>internet.InternetService</th>\n",
              "      <th>...</th>\n",
              "      <th>internet.DeviceProtection</th>\n",
              "      <th>internet.TechSupport</th>\n",
              "      <th>internet.StreamingTV</th>\n",
              "      <th>internet.StreamingMovies</th>\n",
              "      <th>account.Contract</th>\n",
              "      <th>account.PaperlessBilling</th>\n",
              "      <th>account.PaymentMethod</th>\n",
              "      <th>account.Charges.Monthly</th>\n",
              "      <th>account.Charges.Total</th>\n",
              "      <th>cuentas_diarias</th>\n",
              "    </tr>\n",
              "  </thead>\n",
              "  <tbody>\n",
              "    <tr>\n",
              "      <th>0</th>\n",
              "      <td>0002-ORFBO</td>\n",
              "      <td>0</td>\n",
              "      <td>Female</td>\n",
              "      <td>0</td>\n",
              "      <td>1</td>\n",
              "      <td>1</td>\n",
              "      <td>9</td>\n",
              "      <td>Yes</td>\n",
              "      <td>0</td>\n",
              "      <td>DSL</td>\n",
              "      <td>...</td>\n",
              "      <td>0</td>\n",
              "      <td>1</td>\n",
              "      <td>1</td>\n",
              "      <td>0</td>\n",
              "      <td>One year</td>\n",
              "      <td>1</td>\n",
              "      <td>Mailed check</td>\n",
              "      <td>65.60</td>\n",
              "      <td>593.30</td>\n",
              "      <td>2.186667</td>\n",
              "    </tr>\n",
              "    <tr>\n",
              "      <th>1</th>\n",
              "      <td>0003-MKNFE</td>\n",
              "      <td>0</td>\n",
              "      <td>Male</td>\n",
              "      <td>0</td>\n",
              "      <td>0</td>\n",
              "      <td>0</td>\n",
              "      <td>9</td>\n",
              "      <td>Yes</td>\n",
              "      <td>1</td>\n",
              "      <td>DSL</td>\n",
              "      <td>...</td>\n",
              "      <td>0</td>\n",
              "      <td>0</td>\n",
              "      <td>0</td>\n",
              "      <td>1</td>\n",
              "      <td>Month-to-month</td>\n",
              "      <td>0</td>\n",
              "      <td>Mailed check</td>\n",
              "      <td>59.90</td>\n",
              "      <td>542.40</td>\n",
              "      <td>1.996667</td>\n",
              "    </tr>\n",
              "    <tr>\n",
              "      <th>2</th>\n",
              "      <td>0004-TLHLJ</td>\n",
              "      <td>1</td>\n",
              "      <td>Male</td>\n",
              "      <td>0</td>\n",
              "      <td>0</td>\n",
              "      <td>0</td>\n",
              "      <td>4</td>\n",
              "      <td>Yes</td>\n",
              "      <td>0</td>\n",
              "      <td>Fiber optic</td>\n",
              "      <td>...</td>\n",
              "      <td>1</td>\n",
              "      <td>0</td>\n",
              "      <td>0</td>\n",
              "      <td>0</td>\n",
              "      <td>Month-to-month</td>\n",
              "      <td>1</td>\n",
              "      <td>Electronic check</td>\n",
              "      <td>73.90</td>\n",
              "      <td>280.85</td>\n",
              "      <td>2.463333</td>\n",
              "    </tr>\n",
              "    <tr>\n",
              "      <th>3</th>\n",
              "      <td>0011-IGKFF</td>\n",
              "      <td>1</td>\n",
              "      <td>Male</td>\n",
              "      <td>1</td>\n",
              "      <td>1</td>\n",
              "      <td>0</td>\n",
              "      <td>13</td>\n",
              "      <td>Yes</td>\n",
              "      <td>0</td>\n",
              "      <td>Fiber optic</td>\n",
              "      <td>...</td>\n",
              "      <td>1</td>\n",
              "      <td>0</td>\n",
              "      <td>1</td>\n",
              "      <td>1</td>\n",
              "      <td>Month-to-month</td>\n",
              "      <td>1</td>\n",
              "      <td>Electronic check</td>\n",
              "      <td>98.00</td>\n",
              "      <td>1237.85</td>\n",
              "      <td>3.266667</td>\n",
              "    </tr>\n",
              "    <tr>\n",
              "      <th>4</th>\n",
              "      <td>0013-EXCHZ</td>\n",
              "      <td>1</td>\n",
              "      <td>Female</td>\n",
              "      <td>1</td>\n",
              "      <td>1</td>\n",
              "      <td>0</td>\n",
              "      <td>3</td>\n",
              "      <td>Yes</td>\n",
              "      <td>0</td>\n",
              "      <td>Fiber optic</td>\n",
              "      <td>...</td>\n",
              "      <td>0</td>\n",
              "      <td>1</td>\n",
              "      <td>1</td>\n",
              "      <td>0</td>\n",
              "      <td>Month-to-month</td>\n",
              "      <td>1</td>\n",
              "      <td>Mailed check</td>\n",
              "      <td>83.90</td>\n",
              "      <td>267.40</td>\n",
              "      <td>2.796667</td>\n",
              "    </tr>\n",
              "    <tr>\n",
              "      <th>...</th>\n",
              "      <td>...</td>\n",
              "      <td>...</td>\n",
              "      <td>...</td>\n",
              "      <td>...</td>\n",
              "      <td>...</td>\n",
              "      <td>...</td>\n",
              "      <td>...</td>\n",
              "      <td>...</td>\n",
              "      <td>...</td>\n",
              "      <td>...</td>\n",
              "      <td>...</td>\n",
              "      <td>...</td>\n",
              "      <td>...</td>\n",
              "      <td>...</td>\n",
              "      <td>...</td>\n",
              "      <td>...</td>\n",
              "      <td>...</td>\n",
              "      <td>...</td>\n",
              "      <td>...</td>\n",
              "      <td>...</td>\n",
              "      <td>...</td>\n",
              "    </tr>\n",
              "    <tr>\n",
              "      <th>7262</th>\n",
              "      <td>9987-LUTYD</td>\n",
              "      <td>0</td>\n",
              "      <td>Female</td>\n",
              "      <td>0</td>\n",
              "      <td>0</td>\n",
              "      <td>0</td>\n",
              "      <td>13</td>\n",
              "      <td>Yes</td>\n",
              "      <td>0</td>\n",
              "      <td>DSL</td>\n",
              "      <td>...</td>\n",
              "      <td>0</td>\n",
              "      <td>1</td>\n",
              "      <td>0</td>\n",
              "      <td>0</td>\n",
              "      <td>One year</td>\n",
              "      <td>0</td>\n",
              "      <td>Mailed check</td>\n",
              "      <td>55.15</td>\n",
              "      <td>742.90</td>\n",
              "      <td>1.838333</td>\n",
              "    </tr>\n",
              "    <tr>\n",
              "      <th>7263</th>\n",
              "      <td>9992-RRAMN</td>\n",
              "      <td>1</td>\n",
              "      <td>Male</td>\n",
              "      <td>0</td>\n",
              "      <td>1</td>\n",
              "      <td>0</td>\n",
              "      <td>22</td>\n",
              "      <td>Yes</td>\n",
              "      <td>1</td>\n",
              "      <td>Fiber optic</td>\n",
              "      <td>...</td>\n",
              "      <td>0</td>\n",
              "      <td>0</td>\n",
              "      <td>0</td>\n",
              "      <td>1</td>\n",
              "      <td>Month-to-month</td>\n",
              "      <td>1</td>\n",
              "      <td>Electronic check</td>\n",
              "      <td>85.10</td>\n",
              "      <td>1873.70</td>\n",
              "      <td>2.836667</td>\n",
              "    </tr>\n",
              "    <tr>\n",
              "      <th>7264</th>\n",
              "      <td>9992-UJOEL</td>\n",
              "      <td>0</td>\n",
              "      <td>Male</td>\n",
              "      <td>0</td>\n",
              "      <td>0</td>\n",
              "      <td>0</td>\n",
              "      <td>2</td>\n",
              "      <td>Yes</td>\n",
              "      <td>0</td>\n",
              "      <td>DSL</td>\n",
              "      <td>...</td>\n",
              "      <td>0</td>\n",
              "      <td>0</td>\n",
              "      <td>0</td>\n",
              "      <td>0</td>\n",
              "      <td>Month-to-month</td>\n",
              "      <td>1</td>\n",
              "      <td>Mailed check</td>\n",
              "      <td>50.30</td>\n",
              "      <td>92.75</td>\n",
              "      <td>1.676667</td>\n",
              "    </tr>\n",
              "    <tr>\n",
              "      <th>7265</th>\n",
              "      <td>9993-LHIEB</td>\n",
              "      <td>0</td>\n",
              "      <td>Male</td>\n",
              "      <td>0</td>\n",
              "      <td>1</td>\n",
              "      <td>1</td>\n",
              "      <td>67</td>\n",
              "      <td>Yes</td>\n",
              "      <td>0</td>\n",
              "      <td>DSL</td>\n",
              "      <td>...</td>\n",
              "      <td>1</td>\n",
              "      <td>1</td>\n",
              "      <td>0</td>\n",
              "      <td>1</td>\n",
              "      <td>Two year</td>\n",
              "      <td>0</td>\n",
              "      <td>Mailed check</td>\n",
              "      <td>67.85</td>\n",
              "      <td>4627.65</td>\n",
              "      <td>2.261667</td>\n",
              "    </tr>\n",
              "    <tr>\n",
              "      <th>7266</th>\n",
              "      <td>9995-HOTOH</td>\n",
              "      <td>0</td>\n",
              "      <td>Male</td>\n",
              "      <td>0</td>\n",
              "      <td>1</td>\n",
              "      <td>1</td>\n",
              "      <td>63</td>\n",
              "      <td>No</td>\n",
              "      <td>1</td>\n",
              "      <td>DSL</td>\n",
              "      <td>...</td>\n",
              "      <td>1</td>\n",
              "      <td>0</td>\n",
              "      <td>1</td>\n",
              "      <td>1</td>\n",
              "      <td>Two year</td>\n",
              "      <td>0</td>\n",
              "      <td>Electronic check</td>\n",
              "      <td>59.00</td>\n",
              "      <td>3707.60</td>\n",
              "      <td>1.966667</td>\n",
              "    </tr>\n",
              "  </tbody>\n",
              "</table>\n",
              "<p>7043 rows × 22 columns</p>\n",
              "</div>"
            ],
            "text/plain": [
              "      customerID  Churn customer.gender  customer.SeniorCitizen  \\\n",
              "0     0002-ORFBO      0          Female                       0   \n",
              "1     0003-MKNFE      0            Male                       0   \n",
              "2     0004-TLHLJ      1            Male                       0   \n",
              "3     0011-IGKFF      1            Male                       1   \n",
              "4     0013-EXCHZ      1          Female                       1   \n",
              "...          ...    ...             ...                     ...   \n",
              "7262  9987-LUTYD      0          Female                       0   \n",
              "7263  9992-RRAMN      1            Male                       0   \n",
              "7264  9992-UJOEL      0            Male                       0   \n",
              "7265  9993-LHIEB      0            Male                       0   \n",
              "7266  9995-HOTOH      0            Male                       0   \n",
              "\n",
              "      customer.Partner  customer.Dependents  customer.tenure  \\\n",
              "0                    1                    1                9   \n",
              "1                    0                    0                9   \n",
              "2                    0                    0                4   \n",
              "3                    1                    0               13   \n",
              "4                    1                    0                3   \n",
              "...                ...                  ...              ...   \n",
              "7262                 0                    0               13   \n",
              "7263                 1                    0               22   \n",
              "7264                 0                    0                2   \n",
              "7265                 1                    1               67   \n",
              "7266                 1                    1               63   \n",
              "\n",
              "     phone.PhoneService  phone.MultipleLines internet.InternetService  ...  \\\n",
              "0                   Yes                    0                      DSL  ...   \n",
              "1                   Yes                    1                      DSL  ...   \n",
              "2                   Yes                    0              Fiber optic  ...   \n",
              "3                   Yes                    0              Fiber optic  ...   \n",
              "4                   Yes                    0              Fiber optic  ...   \n",
              "...                 ...                  ...                      ...  ...   \n",
              "7262                Yes                    0                      DSL  ...   \n",
              "7263                Yes                    1              Fiber optic  ...   \n",
              "7264                Yes                    0                      DSL  ...   \n",
              "7265                Yes                    0                      DSL  ...   \n",
              "7266                 No                    1                      DSL  ...   \n",
              "\n",
              "     internet.DeviceProtection internet.TechSupport  internet.StreamingTV  \\\n",
              "0                            0                    1                     1   \n",
              "1                            0                    0                     0   \n",
              "2                            1                    0                     0   \n",
              "3                            1                    0                     1   \n",
              "4                            0                    1                     1   \n",
              "...                        ...                  ...                   ...   \n",
              "7262                         0                    1                     0   \n",
              "7263                         0                    0                     0   \n",
              "7264                         0                    0                     0   \n",
              "7265                         1                    1                     0   \n",
              "7266                         1                    0                     1   \n",
              "\n",
              "      internet.StreamingMovies  account.Contract  account.PaperlessBilling  \\\n",
              "0                            0          One year                         1   \n",
              "1                            1    Month-to-month                         0   \n",
              "2                            0    Month-to-month                         1   \n",
              "3                            1    Month-to-month                         1   \n",
              "4                            0    Month-to-month                         1   \n",
              "...                        ...               ...                       ...   \n",
              "7262                         0          One year                         0   \n",
              "7263                         1    Month-to-month                         1   \n",
              "7264                         0    Month-to-month                         1   \n",
              "7265                         1          Two year                         0   \n",
              "7266                         1          Two year                         0   \n",
              "\n",
              "     account.PaymentMethod  account.Charges.Monthly account.Charges.Total  \\\n",
              "0             Mailed check                    65.60                593.30   \n",
              "1             Mailed check                    59.90                542.40   \n",
              "2         Electronic check                    73.90                280.85   \n",
              "3         Electronic check                    98.00               1237.85   \n",
              "4             Mailed check                    83.90                267.40   \n",
              "...                    ...                      ...                   ...   \n",
              "7262          Mailed check                    55.15                742.90   \n",
              "7263      Electronic check                    85.10               1873.70   \n",
              "7264          Mailed check                    50.30                 92.75   \n",
              "7265          Mailed check                    67.85               4627.65   \n",
              "7266      Electronic check                    59.00               3707.60   \n",
              "\n",
              "      cuentas_diarias  \n",
              "0            2.186667  \n",
              "1            1.996667  \n",
              "2            2.463333  \n",
              "3            3.266667  \n",
              "4            2.796667  \n",
              "...               ...  \n",
              "7262         1.838333  \n",
              "7263         2.836667  \n",
              "7264         1.676667  \n",
              "7265         2.261667  \n",
              "7266         1.966667  \n",
              "\n",
              "[7043 rows x 22 columns]"
            ]
          },
          "execution_count": 5,
          "metadata": {},
          "output_type": "execute_result"
        }
      ],
      "source": [
        "columnas_booleanas = ['Churn', 'customer.Partner', 'customer.Dependents', 'phone.MultipleLines', 'internet.DeviceProtection','internet.TechSupport','internet.StreamingTV','internet.StreamingMovies','account.PaperlessBilling']\n",
        "df_tel[columnas_booleanas] = df_tel[columnas_booleanas].replace({'Yes': True, 'No': False})\n",
        "df_tel[columnas_booleanas] = df_tel[columnas_booleanas].astype(bool)\n",
        "df_tel[columnas_booleanas] = df_tel[columnas_booleanas].astype(int)\n",
        "df_tel\n",
        "\n",
        "\n"
      ]
    },
    {
      "cell_type": "markdown",
      "metadata": {
        "id": "6XnTC2NTmMRL"
      },
      "source": [
        "#📊 Carga y análisis"
      ]
    },
    {
      "cell_type": "code",
      "execution_count": 6,
      "metadata": {
        "id": "1jgUnLqTmPdd"
      },
      "outputs": [
        {
          "data": {
            "text/html": [
              "<div>\n",
              "<style scoped>\n",
              "    .dataframe tbody tr th:only-of-type {\n",
              "        vertical-align: middle;\n",
              "    }\n",
              "\n",
              "    .dataframe tbody tr th {\n",
              "        vertical-align: top;\n",
              "    }\n",
              "\n",
              "    .dataframe thead th {\n",
              "        text-align: right;\n",
              "    }\n",
              "</style>\n",
              "<table border=\"1\" class=\"dataframe\">\n",
              "  <thead>\n",
              "    <tr style=\"text-align: right;\">\n",
              "      <th></th>\n",
              "      <th>Churn</th>\n",
              "      <th>customer.SeniorCitizen</th>\n",
              "      <th>customer.Partner</th>\n",
              "      <th>customer.Dependents</th>\n",
              "      <th>customer.tenure</th>\n",
              "      <th>phone.MultipleLines</th>\n",
              "      <th>internet.DeviceProtection</th>\n",
              "      <th>internet.TechSupport</th>\n",
              "      <th>internet.StreamingTV</th>\n",
              "      <th>internet.StreamingMovies</th>\n",
              "      <th>account.PaperlessBilling</th>\n",
              "      <th>account.Charges.Monthly</th>\n",
              "      <th>account.Charges.Total</th>\n",
              "      <th>cuentas_diarias</th>\n",
              "    </tr>\n",
              "  </thead>\n",
              "  <tbody>\n",
              "    <tr>\n",
              "      <th>count</th>\n",
              "      <td>7043.000000</td>\n",
              "      <td>7043.000000</td>\n",
              "      <td>7043.000000</td>\n",
              "      <td>7043.000000</td>\n",
              "      <td>7043.000000</td>\n",
              "      <td>7043.000000</td>\n",
              "      <td>7043.000000</td>\n",
              "      <td>7043.000000</td>\n",
              "      <td>7043.000000</td>\n",
              "      <td>7043.000000</td>\n",
              "      <td>7043.000000</td>\n",
              "      <td>7043.000000</td>\n",
              "      <td>7032.000000</td>\n",
              "      <td>7043.000000</td>\n",
              "    </tr>\n",
              "    <tr>\n",
              "      <th>mean</th>\n",
              "      <td>0.265370</td>\n",
              "      <td>0.162147</td>\n",
              "      <td>0.483033</td>\n",
              "      <td>0.299588</td>\n",
              "      <td>32.371149</td>\n",
              "      <td>0.518671</td>\n",
              "      <td>0.560557</td>\n",
              "      <td>0.506886</td>\n",
              "      <td>0.601022</td>\n",
              "      <td>0.604572</td>\n",
              "      <td>0.592219</td>\n",
              "      <td>64.761692</td>\n",
              "      <td>2283.300441</td>\n",
              "      <td>2.158723</td>\n",
              "    </tr>\n",
              "    <tr>\n",
              "      <th>std</th>\n",
              "      <td>0.441561</td>\n",
              "      <td>0.368612</td>\n",
              "      <td>0.499748</td>\n",
              "      <td>0.458110</td>\n",
              "      <td>24.559481</td>\n",
              "      <td>0.499687</td>\n",
              "      <td>0.496355</td>\n",
              "      <td>0.499988</td>\n",
              "      <td>0.489723</td>\n",
              "      <td>0.488977</td>\n",
              "      <td>0.491457</td>\n",
              "      <td>30.090047</td>\n",
              "      <td>2266.771362</td>\n",
              "      <td>1.003002</td>\n",
              "    </tr>\n",
              "    <tr>\n",
              "      <th>min</th>\n",
              "      <td>0.000000</td>\n",
              "      <td>0.000000</td>\n",
              "      <td>0.000000</td>\n",
              "      <td>0.000000</td>\n",
              "      <td>0.000000</td>\n",
              "      <td>0.000000</td>\n",
              "      <td>0.000000</td>\n",
              "      <td>0.000000</td>\n",
              "      <td>0.000000</td>\n",
              "      <td>0.000000</td>\n",
              "      <td>0.000000</td>\n",
              "      <td>18.250000</td>\n",
              "      <td>18.800000</td>\n",
              "      <td>0.608333</td>\n",
              "    </tr>\n",
              "    <tr>\n",
              "      <th>25%</th>\n",
              "      <td>0.000000</td>\n",
              "      <td>0.000000</td>\n",
              "      <td>0.000000</td>\n",
              "      <td>0.000000</td>\n",
              "      <td>9.000000</td>\n",
              "      <td>0.000000</td>\n",
              "      <td>0.000000</td>\n",
              "      <td>0.000000</td>\n",
              "      <td>0.000000</td>\n",
              "      <td>0.000000</td>\n",
              "      <td>0.000000</td>\n",
              "      <td>35.500000</td>\n",
              "      <td>401.450000</td>\n",
              "      <td>1.183333</td>\n",
              "    </tr>\n",
              "    <tr>\n",
              "      <th>50%</th>\n",
              "      <td>0.000000</td>\n",
              "      <td>0.000000</td>\n",
              "      <td>0.000000</td>\n",
              "      <td>0.000000</td>\n",
              "      <td>29.000000</td>\n",
              "      <td>1.000000</td>\n",
              "      <td>1.000000</td>\n",
              "      <td>1.000000</td>\n",
              "      <td>1.000000</td>\n",
              "      <td>1.000000</td>\n",
              "      <td>1.000000</td>\n",
              "      <td>70.350000</td>\n",
              "      <td>1397.475000</td>\n",
              "      <td>2.345000</td>\n",
              "    </tr>\n",
              "    <tr>\n",
              "      <th>75%</th>\n",
              "      <td>1.000000</td>\n",
              "      <td>0.000000</td>\n",
              "      <td>1.000000</td>\n",
              "      <td>1.000000</td>\n",
              "      <td>55.000000</td>\n",
              "      <td>1.000000</td>\n",
              "      <td>1.000000</td>\n",
              "      <td>1.000000</td>\n",
              "      <td>1.000000</td>\n",
              "      <td>1.000000</td>\n",
              "      <td>1.000000</td>\n",
              "      <td>89.850000</td>\n",
              "      <td>3794.737500</td>\n",
              "      <td>2.995000</td>\n",
              "    </tr>\n",
              "    <tr>\n",
              "      <th>max</th>\n",
              "      <td>1.000000</td>\n",
              "      <td>1.000000</td>\n",
              "      <td>1.000000</td>\n",
              "      <td>1.000000</td>\n",
              "      <td>72.000000</td>\n",
              "      <td>1.000000</td>\n",
              "      <td>1.000000</td>\n",
              "      <td>1.000000</td>\n",
              "      <td>1.000000</td>\n",
              "      <td>1.000000</td>\n",
              "      <td>1.000000</td>\n",
              "      <td>118.750000</td>\n",
              "      <td>8684.800000</td>\n",
              "      <td>3.958333</td>\n",
              "    </tr>\n",
              "  </tbody>\n",
              "</table>\n",
              "</div>"
            ],
            "text/plain": [
              "             Churn  customer.SeniorCitizen  customer.Partner  \\\n",
              "count  7043.000000             7043.000000       7043.000000   \n",
              "mean      0.265370                0.162147          0.483033   \n",
              "std       0.441561                0.368612          0.499748   \n",
              "min       0.000000                0.000000          0.000000   \n",
              "25%       0.000000                0.000000          0.000000   \n",
              "50%       0.000000                0.000000          0.000000   \n",
              "75%       1.000000                0.000000          1.000000   \n",
              "max       1.000000                1.000000          1.000000   \n",
              "\n",
              "       customer.Dependents  customer.tenure  phone.MultipleLines  \\\n",
              "count          7043.000000      7043.000000          7043.000000   \n",
              "mean              0.299588        32.371149             0.518671   \n",
              "std               0.458110        24.559481             0.499687   \n",
              "min               0.000000         0.000000             0.000000   \n",
              "25%               0.000000         9.000000             0.000000   \n",
              "50%               0.000000        29.000000             1.000000   \n",
              "75%               1.000000        55.000000             1.000000   \n",
              "max               1.000000        72.000000             1.000000   \n",
              "\n",
              "       internet.DeviceProtection  internet.TechSupport  internet.StreamingTV  \\\n",
              "count                7043.000000           7043.000000           7043.000000   \n",
              "mean                    0.560557              0.506886              0.601022   \n",
              "std                     0.496355              0.499988              0.489723   \n",
              "min                     0.000000              0.000000              0.000000   \n",
              "25%                     0.000000              0.000000              0.000000   \n",
              "50%                     1.000000              1.000000              1.000000   \n",
              "75%                     1.000000              1.000000              1.000000   \n",
              "max                     1.000000              1.000000              1.000000   \n",
              "\n",
              "       internet.StreamingMovies  account.PaperlessBilling  \\\n",
              "count               7043.000000               7043.000000   \n",
              "mean                   0.604572                  0.592219   \n",
              "std                    0.488977                  0.491457   \n",
              "min                    0.000000                  0.000000   \n",
              "25%                    0.000000                  0.000000   \n",
              "50%                    1.000000                  1.000000   \n",
              "75%                    1.000000                  1.000000   \n",
              "max                    1.000000                  1.000000   \n",
              "\n",
              "       account.Charges.Monthly  account.Charges.Total  cuentas_diarias  \n",
              "count              7043.000000            7032.000000      7043.000000  \n",
              "mean                 64.761692            2283.300441         2.158723  \n",
              "std                  30.090047            2266.771362         1.003002  \n",
              "min                  18.250000              18.800000         0.608333  \n",
              "25%                  35.500000             401.450000         1.183333  \n",
              "50%                  70.350000            1397.475000         2.345000  \n",
              "75%                  89.850000            3794.737500         2.995000  \n",
              "max                 118.750000            8684.800000         3.958333  "
            ]
          },
          "execution_count": 6,
          "metadata": {},
          "output_type": "execute_result"
        }
      ],
      "source": [
        "df_tel.describe()"
      ]
    },
    {
      "cell_type": "markdown",
      "metadata": {
        "id": "v-WzfSvTmaw9"
      },
      "source": [
        "#📄Distribución de evasión"
      ]
    },
    {
      "cell_type": "code",
      "execution_count": 7,
      "metadata": {},
      "outputs": [
        {
          "data": {
            "image/png": "[encoded data removed]",
            "text/plain": [
              "<Figure size 700x700 with 1 Axes>"
            ]
          },
          "metadata": {},
          "output_type": "display_data"
        }
      ],
      "source": [
        "\n",
        "import matplotlib.pyplot as plt\n",
        "\n",
        "\n",
        "labels_map = {0: 'Permanece en la empresa', 1: 'Se fue de la empresa'}\n",
        "churn_mapeado = df_tel['Churn'].map(labels_map)\n",
        "conteo = churn_mapeado.value_counts()\n",
        "\n",
        "colores = [\n",
        "    (0.0, 0.8, 0.2, 0.1),\n",
        "    (0.9, 0.1, 0.1, 0.3)\n",
        "]\n",
        "\n",
        "plt.figure(figsize=(7, 7))\n",
        "plt.pie(\n",
        "    conteo,\n",
        "    labels=conteo.index,\n",
        "    colors=colores,\n",
        "    startangle=90,\n",
        "    autopct=lambda p: f'{int(round(p * sum(conteo) / 100))} clientes\\n({p:.1f}%)',\n",
        "    textprops={'fontsize': 14, 'fontweight': 'bold'}\n",
        ")\n",
        "\n",
        "plt.title('Distribución de clientes', fontsize=16, fontweight='bold')\n",
        "plt.axis('equal')\n",
        "plt.show()"
      ]
    },
    {
      "cell_type": "markdown",
      "metadata": {},
      "source": [
        "#Recuento de la evasión por variables categóricas"
      ]
    },
    {
      "cell_type": "code",
      "execution_count": 8,
      "metadata": {
        "id": "XMTac0YJmeK9"
      },
      "outputs": [
        {
          "data": {
            "image/png": "[encoded data removed]",
            "text/plain": [
              "<Figure size 800x800 with 1 Axes>"
            ]
          },
          "metadata": {},
          "output_type": "display_data"
        }
      ],
      "source": [
        "import seaborn as sns\n",
        "\n",
        "conteo_contrato = df_tel.groupby(['customer.gender','Churn']).size().reset_index(name='Total')\n",
        "\n",
        "palette = {\n",
        "    'Permanece': '#0063d5',\n",
        "    'Se fue': '#d56a00'\n",
        "}\n",
        "\n",
        "conteo_contrato['Churn'] = conteo_contrato['Churn'].map({0: 'Permanece', 1: 'Se fue'})\n",
        "\n",
        "fig, ax = plt.subplots(figsize=(8, 8))\n",
        "sns.despine()\n",
        "\n",
        "sns.barplot(\n",
        "    data=conteo_contrato,\n",
        "    x='customer.gender',\n",
        "    y='Total',\n",
        "    hue='Churn',\n",
        "    palette=palette,\n",
        "    ax=ax\n",
        ")\n",
        "\n",
        "ax.set_title('Cantidad de clientes en la empresa por GÉNERO', fontsize=16, loc='left', fontweight='bold')\n",
        "ax.set_xlabel('GÉNERO', fontsize=12, fontweight='bold')\n",
        "ax.set_ylabel('NÚMERO DE CLIENTES', fontsize=12, fontweight='bold')\n",
        "ax.tick_params(axis='x', rotation=20)\n",
        "ax.legend(title='Churn', loc='center left', bbox_to_anchor=(1, 0.5))\n",
        "\n",
        "for container in ax.containers:\n",
        "    ax.bar_label(container, fmt='%d', fontsize=10, padding=3)\n",
        "\n",
        "plt.tight_layout()\n",
        "plt.show()"
      ]
    },
    {
      "cell_type": "markdown",
      "metadata": {},
      "source": [
        "#Conteo de evasión por variables numéricas"
      ]
    },
    {
      "cell_type": "code",
      "execution_count": 10,
      "metadata": {},
      "outputs": [],
      "source": [
        "import seaborn as sns\n",
        "import matplotlib.pyplot as plt\n",
        "import numpy as np\n",
        "\n",
        "palette = {\n",
        "    0: '#8A2BE2',\n",
        "    1: '#FFD700'\n",
        "}\n",
        "\n",
        "colores_lineas = {\n",
        "    'Mediana churn=0': '#000000',\n",
        "    'Media churn=0': '#00FF00',\n",
        "    'Mediana churn=1': '#FF0000',\n",
        "    'Media churn=1': '#00FFFF'\n",
        "}\n",
        "\n",
        "nombres_ejes = {\n",
        "    'meses_de_contrato': 'MESES DE CONTRATO',\n",
        "    'cargos_mensuales': 'CARGOS MENSUALES',\n",
        "    'cargos_totales': 'CARGOS TOTALES'\n",
        "}\n",
        "\n",
        "def graficar_distribucion_numericas(df_tel,columnas):\n",
        "    df_temp = df_tel.copy()\n",
        "\n",
        "    for col in columnas:\n",
        "        nombre_legible = nombres_ejes.get(col, col.capitalize())\n",
        "\n",
        "        fig, axes = plt.subplots(nrows=1, ncols=3, figsize=(21, 5))\n",
        "        sns.despine()\n",
        "\n",
        "        # BOXPLOT\n",
        "        sns.boxplot(\n",
        "            data=df_temp,\n",
        "            x='Churn',\n",
        "            y=col,\n",
        "            hue='Churn',\n",
        "            palette=palette,\n",
        "            ax=axes[0],\n",
        "            legend=False\n",
        "        )\n",
        "\n",
        "        mediana = df_temp.groupby('Churn')[col].median()\n",
        "        media = df_temp.groupby('Churn')[col].mean()\n",
        "\n",
        "        for estado in [0, 1]:\n",
        "          label_mediana = f'Mediana churn={estado}'\n",
        "          label_media = f'Media churn={estado}'\n",
        "\n",
        "          axes[0].axhline(\n",
        "              y=mediana[estado],\n",
        "              color=colores_lineas[label_mediana],\n",
        "              linestyle='--',\n",
        "              linewidth=2,\n",
        "              alpha=0.9,\n",
        "              label=label_mediana\n",
        "              )\n",
        "          axes[0].axhline(\n",
        "              y=media[estado],\n",
        "              color=colores_lineas[label_media],\n",
        "              linestyle='-',\n",
        "              linewidth=2,\n",
        "              alpha=0.9,\n",
        "              label=label_media\n",
        "              )\n",
        "          axes[0].legend(framealpha=0.5, fontsize=8, loc='upper center')\n",
        "\n",
        "        axes[0].set_title(f'BOXPLOT DE {nombre_legible}', fontsize=13, fontweight='bold')\n",
        "        axes[0].set_xlabel('ESTADO DE CLIENTE', fontsize=10, fontweight='bold')\n",
        "        axes[0].set_ylabel(nombre_legible, fontsize=10, fontweight='bold')\n",
        "\n",
        "        # VIOLIN PLOT\n",
        "        sns.violinplot(\n",
        "            data=df_temp,\n",
        "            x='Churn',\n",
        "            y=col,\n",
        "            hue='Churn',\n",
        "            palette=palette,\n",
        "            ax=axes[1],\n",
        "            legend=False\n",
        "        )\n",
        "\n",
        "        for estado in [0, 1]:\n",
        "          label_mediana = f'Mediana churn={estado}'\n",
        "          label_media = f'Media churn={estado}'\n",
        "\n",
        "          axes[1].axhline(\n",
        "              y=mediana[estado],\n",
        "              color=colores_lineas[label_mediana],\n",
        "              linestyle='--',\n",
        "              linewidth=2,\n",
        "              alpha=0.9,\n",
        "              label=label_mediana\n",
        "              )\n",
        "          axes[1].axhline(\n",
        "              y=media[estado],\n",
        "              color=colores_lineas[label_media],\n",
        "              linestyle='-',\n",
        "              linewidth=2,\n",
        "              alpha=0.9,\n",
        "              label=label_media\n",
        "              )\n",
        "          axes[1].legend(framealpha=0.5, fontsize=8, loc='upper center')\n",
        "\n",
        "        axes[1].set_title(f'VIOLIN PLOT DE {nombre_legible}', fontsize=13, fontweight='bold')\n",
        "        axes[1].set_xlabel('ESTADO DE CLIENTE', fontsize=10, fontweight='bold')\n",
        "        axes[1].set_ylabel(nombre_legible, fontsize=10, fontweight='bold')\n",
        "\n",
        "        # KDE\n",
        "        for estado, label in zip([0, 1], ['Permanece', 'Se fue']):\n",
        "            subset = df_temp[df_temp['Churn'] == estado]\n",
        "            sns.kdeplot(\n",
        "                subset[col].astype(float),\n",
        "                fill=True,\n",
        "                label=label,\n",
        "                ax=axes[2],\n",
        "                color=palette[estado],\n",
        "                alpha=0.8,\n",
        "                linewidth=2\n",
        "            )\n",
        "\n",
        "        axes[2].set_title(f'DISTRIBUCIÓN KDE de {nombre_legible}', fontsize=13, fontweight='bold')\n",
        "        axes[2].set_xlabel(nombre_legible, fontsize=10, fontweight='bold')\n",
        "        axes[2].set_ylabel('DENSIDAD', fontsize=10, fontweight='bold')\n",
        "        axes[2].legend(title='Churn')\n",
        "\n",
        "        plt.tight_layout()\n",
        "        plt.subplots_adjust(bottom=0.15)\n",
        "        plt.show()\n",
        "        \n"
      ]
    },
    {
      "cell_type": "code",
      "execution_count": 11,
      "metadata": {},
      "outputs": [
        {
          "data": {
            "image/png": "[encoded data removed]",
            "text/plain": [
              "<Figure size 2100x500 with 3 Axes>"
            ]
          },
          "metadata": {},
          "output_type": "display_data"
        },
        {
          "data": {
            "image/png": "[encoded data removed]",
            "text/plain": [
              "<Figure size 2100x500 with 3 Axes>"
            ]
          },
          "metadata": {},
          "output_type": "display_data"
        },
        {
          "data": {
            "image/png": "[encoded data removed]",
            "text/plain": [
              "<Figure size 2100x500 with 3 Axes>"
            ]
          },
          "metadata": {},
          "output_type": "display_data"
        }
      ],
      "source": [
        "columnas_numericas = ['customer.tenure', 'account.Charges.Monthly', 'account.Charges.Total']\n",
        "graficar_distribucion_numericas(df_tel, columnas_numericas)"
      ]
    },
    {
      "cell_type": "markdown",
      "metadata": {},
      "source": [
        "🔗 Análisis de correlación"
      ]
    },
    {
      "cell_type": "code",
      "execution_count": 12,
      "metadata": {},
      "outputs": [
        {
          "data": {
            "application/vnd.plotly.v1+json": {
              "config": {
                "plotlyServerURL": "https://plot.ly"
              },
              "data": [
                {
                  "alignmentgroup": "True",
                  "boxpoints": "all",
                  "fillcolor": "rgba(255,255,255,0)",
                  "hoveron": "points",
                  "hovertemplate": "Churn=%{x}<br>CUENTAS DIARIAS=%{y}<extra></extra>",
                  "legendgroup": "0",
                  "line": {
                    "color": "rgba(255,255,255,0)"
                  },
                  "marker": {
                    "color": "#0083d5"
                  },
                  "name": "0",
                  "offsetgroup": "0",
                  "orientation": "v",
                  "pointpos": 0,
                  "showlegend": true,
                  "type": "box",
                  "x": {
                    "bdata": "AAAAAAAAAAAAAAAAAAAAAAAAAAAAAAAAAAAAAAAAAAAAAAAAAAAAAAAAAAAAAAAAAAAAAAAAAAAAAAAAAAAAAAAAAAAAAAAAAAAAAAAAAAAAAAAAAAAAAAAAAAAAAAAAAAAAAAAAAAAAAAAAAAAAAAAAAAAAAAAAAAAAAAAAAAAAAAAAAAAAAAAAAAAAAAAAAAAAAAAAAAAAAAAAAAAAAAAAAAAAAAAAAAAAAAAAAAAAAAAAAAAAAAAAAAAAAAAAAAAAAAAAAAAAAAAAAAAAAAAAAAAAAAAAAAAAAAAAAAAAAAAAAAAAAAAAAAAAAAAAAAAAAAAAAAAAAAAAAAAAAAAAAAAAAAAAAAAAAAAAAAAAAAAAAAAAAAAAAAAAAAAAAAAAAAAAAAAAAAAAAAAAAAAAAAAAAAAAAAAAAAAAAAAAAAAAAAAAAAAAAAAAAAAAAAAAAAAAAAAAAAAAAAAAAAAAAAAAAAAAAAAAAAAAAAAAAAAAAAAAAAAAAAAAAAAAAAAAAAAAAAAAAAAAAAAAAAAAAAAAAAAAAAAAAAAAAAAAAAAAAAAAAAAAAAAAAAAAAAAAAAAAAAAAAAAAAAAAAAAAAAAAAAAAAAAAAAAAAAAAAAAAAAAAAAAAAAAAAAAAAAAAAAAAAAAAAAAAAAAAAAAAAAAAAAAAAAAAAAAAAAAAAAAAAAAAAAAAAAAAAAAAAAAAAAAAAAAAAAAAAAAAAAAAAAAAAAAAAAAAAAAAAAAAAAAAAAAAAAAAAAAAAAAAAAAAAAAAAAAAAAAAAAAAAAAAAAAAAAAAAAAAAAAAAAAAAAAAAAAAAAAAAAAAAAAAAAAAAAAAAAAAAAAAAAAAAAAAAAAAAAAAAAAAAAAAAAAAAAAAAAAAAAAAAAAAAAAAAAAAAAAAAAAAAAAAAAAAAAAAAAAAAAAAAAAAAAAAAAAAAAAAAAAAAAAAAAAAAAAAAAAAAAAAAAAAAAAAAAAAAAAAAAAAAAAAAAAAAAAAAAAAAAAAAAAAAAAAAAAAAAAAAAAAAAAAAAAAAAAAAAAAAAAAAAAAAAAAAAAAAAAAAAAAAAAAAAAAAAAAAAAAAAAAAAAAAAAAAAAAAAAAAAAAAAAAAAAAAAAAAAAAAAAAAAAAAAAAAAAAAAAAAAAAAAAAAAAAAAAAAAAAAAAAAAAAAAAAAAAAAAAAAAAAAAAAAAAAAAAAAAAAAAAAAAAAAAAAAAAAAAAAAAAAAAAAAAAAAAAAAAAAAAAAAAAAAAAAAAAAAAAAAAAAAAAAAAAAAAAAAAAAAAAAAAAAAAAAAAAAAAAAAAAAAAAAAAAAAAAAAAAAAAAAAAAAAAAAAAAAAAAAAAAAAAAAAAAAAAAAAAAAAAAAAAAAAAAAAAAAAAAAAAAAAAAAAAAAAAAAAAAAAAAAAAAAAAAAAAAAAAAAAAAAAAAAAAAAAAAAAAAAAAAAAAAAAAAAAAAAAAAAAAAAAAAAAAAAAAAAAAAAAAAAAAAAAAAAAAAAAAAAAAAAAAAAAAAAAAAAAAAAAAAAAAAAAAAAAAAAAAAAAAAAAAAAAAAAAAAAAAAAAAAAAAAAAAAAAAAAAAAAAAAAAAAAAAAAAAAAAAAAAAAAAAAAAAAAAAAAAAAAAAAAAAAAAAAAAAAAAAAAAAAAAAAAAAAAAAAAAAAAAAAAAAAAAAAAAAAAAAAAAAAAAAAAAAAAAAAAAAAAAAAAAAAAAAAAAAAAAAAAAAAAAAAAAAAAAAAAAAAAAAAAAAAAAAAAAAAAAAAAAAAAAAAAAAAAAAAAAAAAAAAAAAAAAAAAAAAAAAAAAAAAAAAAAAAAAAAAAAAAAAAAAAAAAAAAAAAAAAAAAAAAAAAAAAAAAAAAAAAAAAAAAAAAAAAAAAAAAAAAAAAAAAAAAAAAAAAAAAAAAAAAAAAAAAAAAAAAAAAAAAAAAAAAAAAAAAAAAAAAAAAAAAAAAAAAAAAAAAAAAAAAAAAAAAAAAAAAAAAAAAAAAAAAAAAAAAAAAAAAAAAAAAAAAAAAAAAAAAAAAAAAAAAAAAAAAAAAAAAAAAAAAAAAAAAAAAAAAAAAAAAAAAAAAAAAAAAAAAAAAAAAAAAAAAAAAAAAAAAAAAAAAAAAAAAAAAAAAAAAAAAAAAAAAAAAAAAAAAAAAAAAAAAAAAAAAAAAAAAAAAAAAAAAAAAAAAAAAAAAAAAAAAAAAAAAAAAAAAAAAAAAAAAAAAAAAAAAAAAAAAAAAAAAAAAAAAAAAAAAAAAAAAAAAAAAAAAAAAAAAAAAAAAAAAAAAAAAAAAAAAAAAAAAAAAAAAAAAAAAAAAAAAAAAAAAAAAAAAAAAAAAAAAAAAAAAAAAAAAAAAAAAAAAAAAAAAAAAAAAAAAAAAAAAAAAAAAAAAAAAAAAAAAAAAAAAAAAAAAAAAAAAAAAAAAAAAAAAAAAAAAAAAAAAAAAAAAAAAAAAAAAAAAAAAAAAAAAAAAAAAAAAAAAAAAAAAAAAAAAAAAAAAAAAAAAAAAAAAAAAAAAAAAAAAAAAAAAAAAAAAAAAAAAAAAAAAAAAAAAAAAAAAAAAAAAAAAAAAAAAAAAAAAAAAAAAAAAAAAAAAAAAAAAAAAAAAAAAAAAAAAAAAAAAAAAAAAAAAAAAAAAAAAAAAAAAAAAAAAAAAAAAAAAAAAAAAAAAAAAAAAAAAAAAAAAAAAAAAAAAAAAAAAAAAAAAAAAAAAAAAAAAAAAAAAAAAAAAAAAAAAAAAAAAAAAAAAAAAAAAAAAAAAAAAAAAAAAAAAAAAAAAAAAAAAAAAAAAAAAAAAAAAAAAAAAAAAAAAAAAAAAAAAAAAAAAAAAAAAAAAAAAAAAAAAAAAAAAAAAAAAAAAAAAAAAAAAAAAAAAAAAAAAAAAAAAAAAAAAAAAAAAAAAAAAAAAAAAAAAAAAAAAAAAAAAAAAAAAAAAAAAAAAAAAAAAAAAAAAAAAAAAAAAAAAAAAAAAAAAAAAAAAAAAAAAAAAAAAAAAAAAAAAAAAAAAAAAAAAAAAAAAAAAAAAAAAAAAAAAAAAAAAAAAAAAAAAAAAAAAAAAAAAAAAAAAAAAAAAAAAAAAAAAAAAAAAAAAAAAAAAAAAAAAAAAAAAAAAAAAAAAAAAAAAAAAAAAAAAAAAAAAAAAAAAAAAAAAAAAAAAAAAAAAAAAAAAAAAAAAAAAAAAAAAAAAAAAAAAAAAAAAAAAAAAAAAAAAAAAAAAAAAAAAAAAAAAAAAAAAAAAAAAAAAAAAAAAAAAAAAAAAAAAAAAAAAAAAAAAAAAAAAAAAAAAAAAAAAAAAAAAAAAAAAAAAAAAAAAAAAAAAAAAAAAAAAAAAAAAAAAAAAAAAAAAAAAAAAAAAAAAAAAAAAAAAAAAAAAAAAAAAAAAAAAAAAAAAAAAAAAAAAAAAAAAAAAAAAAAAAAAAAAAAAAAAAAAAAAAAAAAAAAAAAAAAAAAAAAAAAAAAAAAAAAAAAAAAAAAAAAAAAAAAAAAAAAAAAAAAAAAAAAAAAAAAAAAAAAAAAAAAAAAAAAAAAAAAAAAAAAAAAAAAAAAAAAAAAAAAAAAAAAAAAAAAAAAAAAAAAAAAAAAAAAAAAAAAAAAAAAAAAAAAAAAAAAAAAAAAAAAAAAAAAAAAAAAAAAAAAAAAAAAAAAAAAAAAAAAAAAAAAAAAAAAAAAAAAAAAAAAAAAAAAAAAAAAAAAAAAAAAAAAAAAAAAAAAAAAAAAAAAAAAAAAAAAAAAAAAAAAAAAAAAAAAAAAAAAAAAAAAAAAAAAAAAAAAAAAAAAAAAAAAAAAAAAAAAAAAAAAAAAAAAAAAAAAAAAAAAAAAAAAAAAAAAAAAAAAAAAAAAAAAAAAAAAAAAAAAAAAAAAAAAAAAAAAAAAAAAAAAAAAAAAAAAAAAAAAAAAAAAAAAAAAAAAAAAAAAAAAAAAAAAAAAAAAAAAAAAAAAAAAAAAAAAAAAAAAAAAAAAAAAAAAAAAAAAAAAAAAAAAAAAAAAAAAAAAAAAAAAAAAAAAAAAAAAAAAAAAAAAAAAAAAAAAAAAAAAAAAAAAAAAAAAAAAAAAAAAAAAAAAAAAAAAAAAAAAAAAAAAAAAAAAAAAAAAAAAAAAAAAAAAAAAAAAAAAAAAAAAAAAAAAAAAAAAAAAAAAAAAAAAAAAAAAAAAAAAAAAAAAAAAAAAAAAAAAAAAAAAAAAAAAAAAAAAAAAAAAAAAAAAAAAAAAAAAAAAAAAAAAAAAAAAAAAAAAAAAAAAAAAAAAAAAAAAAAAAAAAAAAAAAAAAAAAAAAAAAAAAAAAAAAAAAAAAAAAAAAAAAAAAAAAAAAAAAAAAAAAAAAAAAAAAAAAAAAAAAAAAAAAAAAAAAAAAAAAAAAAAAAAAAAAAAAAAAAAAAAAAAAAAAAAAAAAAAAAAAAAAAAAAAAAAAAAAAAAAAAAAAAAAAAAAAAAAAAAAAAAAAAAAAAAAAAAAAAAAAAAAAAAAAAAAAAAAAAAAAAAAAAAAAAAAAAAAAAAAAAAAAAAAAAAAAAAAAAAAAAAAAAAAAAAAAAAAAAAAAAAAAAAAAAAAAAAAAAAAAAAAAAAAAAAAAAAAAAAAAAAAAAAAAAAAAAAAAAAAAAAAAAAAAAAAAAAAAAAAAAAAAAAAAAAAAAAAAAAAAAAAAAAAAAAAAAAAAAAAAAAAAAAAAAAAAAAAAAAAAAAAAAAAAAAAAAAAAAAAAAAAAAAAAAAAAAAAAAAAAAAAAAAAAAAAAAAAAAAAAAAAAAAAAAAAAAAAAAAAAAAAAAAAAAAAAAAAAAAAAAAAAAAAAAAAAAAAAAAAAAAAAAAAAAAAAAAAAAAAAAAAAAAAAAAAAAAAAAAAAAAAAAAAAAAAAAAAAAAAAAAAAAAAAAAAAAAAAAAAAAAAAAAAAAAAAAAAAAAAAAAAAAAAAAAAAAAAAAAAAAAAAAAAAAAAAAAAAAAAAAAAAAAAAAAAAAAAAAAAAAAAAAAAAAAAAAAAAAAAAAAAAAAAAAAAAAAAAAAAAAAAAAAAAAAAAAAAAAAAAAAAAAAAAAAAAAAAAAAAAAAAAAAAAAAAAAAAAAAAAAAAAAAAAAAAAAAAAAAAAAAAAAAAAAAAAAAAAAAAAAAAAAAAAAAAAAAAAAAAAAAAAAAAAAAAAAAAAAAAAAAAAAAAAAAAAAAAAAAAAAAAAAAAAAAAAAAAAAAAAAAAAAAAAAAAAAAAAAAAAAAAAAAAAAAAAAAAAAAAAAAAAAAAAAAAAAAAAAAAAAAAAAAAAAAAAAAAAAAAAAAAAAAAAAAAAAAAAAAAAAAAAAAAAAAAAAAAAAAAAAAAAAAAAAAAAAAAAAAAAAAAAAAAAAAAAAAAAAAAAAAAAAAAAAAAAAAAAAAAAAAAAAAAAAAAAAAAAAAAAAAAAAAAAAAAAAAAAAAAAAAAAAAAAAAAAAAAAAAAAAAAAAAAAAAAAAAAAAAAAAAAAAAAAAAAAAAAAAAAAAAAAAAAAAAAAAAAAAAAAAAAAAAAAAAAAAAAAAAAAAAAAAAAAAAAAAAAAAAAAAAAAAAAAAAAAAAAAAAAAAAAAAAAAAAAAAAAAAAAAAAAAAAAAAAAAAAAAAAAAAAAAAAAAAAAAAAAAAAAAAAAAAAAAAAAAAAAAAAAAAAAAAAAAAAAAAAAAAAAAAAAAAAAAAAAAAAAAAAAAAAAAAAAAAAAAAAAAAAAAAAAAAAAAAAAAAAAAAAAAAAAAAAAAAAAAAAAAAAAAAAAAAAAAAAAAAAAAAAAAAAAAAAAAAAAAAAAAAAAAAAAAAAAAAAAAAAAAAAAAAAAAAAAAAAAAAAAAAAAAAAAAAAAAAAAAAAAAAAAAAAAAAAAAAAAAAAAAAAAAAAAAAAAAAAAAAAAAAAAAAAAAAAAAAAAAAAAAAAAAAAAAAAAAAAAAAAAAAAAAAAAAAAAAAAAAAAAAAAAAAAAAAAAAAAAAAAAAAAAAAAAAAAAAAAAAAAAAAAAAAAAAAAAAAAAAAAAAAAAAAAAAAAAAAAAAAAAAAAAAAAAAAAAAAAAAAAAAAAAAAAAAAAAAAAAAAAAAAAAAAAAAAAAAAAAAAAAAAAAAAAAAAAAAAAAAAAAAAAAAAAAAAAAAAAAAAAAAAAAAAAAAAAAAAAAAAAAAAAAAAAAAAAAAAAAAAAAAAAAAAAAAAAAAAAAAAAAAAAAAAAAAAAAAAAAAAAAAAAAAAAAAAAAAAAAAAAAAAAAAAAAAAAAAAAAAAAAAAAAAAAAAAAAAAAAAAAAAAAAAAAAAAAAAAAAAAAAAAAAAAAAAAAAAAAAAAAAAAAAAAAAAAAAAAAAAAAAAAAAAAAAAAAAAAAAAAAAAAAAAAAAAAAAAAAAAAAAAAAAAAAAAAAAAAAAAAAAAAAAAAAAAAAAAAAAAAAAAAAAAAAAAAAAAAAAAAAAAAAAAAAAAAAAAAAAAAAAAAAAAAAAAAAAAAAAAAAAAAAAAAAAAAAAAAAAAAAAAAAAAAAAAAAAAAAAAAAAAAAAAAAAAAAAAAAAAAAAAAAAAAAAAAAAAAAAAAAAAAAAAAAAAAAAAAAAAAAAAAAAAAAAAAAAAAAAAAAAAAAAAAAAAAAAAAAAAAAAAAAAAAAAAAAAAAAAAAAAAAAAAAAAAAAAAAAAAAAAAAAAAAAAAAAAAAAAAAAAAAAAAAAAAAAAAAAAAAAAAAAAAAAAAAAAAAAAAAAAAAAAAAAAAAAAAAAAAAAAAAAAAAAAAAAAAAAAAAAAAAAAAAAAAAAAAAAAAAAAAAAAAAAAAAAAAAAAAAAAAAAAAAAAAAAAAAAAAAAAAAAAAAAAAAAAAAAAAAAAAAAAAAAAAAAAAAAAAAAAAAAAAAAAAAAAAAAAAAAAAAAAAAAAAAAAAAAAAAAAAAAAAAAAAAAAAAAAAAAAAAAAAAAAAAAAAAAAAAAAAAAAAAAAAAAAAAAAAAAAAAAAAAAAAAAAAAAAAAAAAAAAAAAAAAAAAAAAAAAAAAAAAAAAAAAAAAAAAAAAAAAAAAAAAAAAAAAAAAAAAAAAAAAAAAAAAAAAAAAAAAAAAAAAAAAAAAAAAAAAAAAAAAAAAAAAAAAAAAAAAAAAAAAAAAAAAAAAAAAAAAAAAAAAAAAAAAAAAAAAAAAAAAAAAAAAAAAAAAAAAAAAAAAAAAAAAAAAAAAAAAAAAAAAAAAAAAAAAAAAAAAAAAAAAAAAAAAAAAAAAAAAAAAAAAAAAAAAAAAAAAAAAAAAAAAAAAAAAAAAAAAAAAAAAAAAAAAAAAAAAAAAAAAAAAAAAAAAAAAAAAAAAAAAAAAAAAAAAAAAAAAAAAAAAAAAAAAAAAAAAAAAAAAAAAAAAAAAAAAAAAAAAAAAAAAAAAAAAAAAAAAAAAAAAAAAAAAAAAAAAAAAAAAAAAAAAAAAAAAAAAAAAAAAAAAAAAAAAAAAAAAAAAAAAAAAAAAAAAAAAAAAAAAAAAAAAAAAAAAAAAAAAAAAAAAAAAAAAAAAAAAAAAAAAAAAAAAAAAAAAAAAAAAAAAAAAAAAAAAAAAAAAAAAAAAAAAAAAAAAAAAAAAAAAAAAAAAAAAAAAAAAAAAAAAAAAAAAAAAAAAAAAAAAAAAAAAAAAAAAAAAAAAAAAAAAAAAAAAAAAAAAAAAAAAAAAAAAAAAAAAAAAAAAAAAAAAAAAAAAAAAAAAAAAAAAAAAAAAAAAAAAAAAAAAAAAAAAAAAAAAAAAAAAAAAAAAAAAAAAAAAAAAAAAAAAAAAAAAAAAAAAAAAAAAAAAAAAAAAAAAAAAAAAAAAAAAAAAAAAAAAAAAAAAAAAAAAAAAAAAAAAAAAAAAAAAAAAAAAAAAAAAAAAAAAAAAAAAAAAAAAAAAAAAAAAAAAAAAAAAAAAAAAAAAAAAAAAAAAAAAAAAAAAAAAAAAAAAAAAAAAAAAAAAAAAAAAAAAAAAAAAAAAAAAAAAAAAAAAAAAAAAAAAAAAAAAAAAAAAAAAAAAAAAAAAAAAAAAAAAAAAAAAAAAAAAAAAAAAAAAAAAAAAAAAAAAAAAAAAAAAAAAAAAAAAAAAAAAAAAAAAAAAAAAAAAAAAAAAAAAAAAAAAAAAAAAAAAAAAAAAAAAAAAAAAAAAAAAAAAAAAAAAAAAAAAAAAAAAAAAAAAAAAAAAAAAAAAAAAAAAAAAAAAAAAAAAAAAAAAAAAAAAAAAAAAAAAAAAAAAAAAAAAAAAAAAAAAAAAAAAAAAAAAAAAAAAAAAAAAAAAAAAAAAAAAAAAAAAAAAAAAAAAAAAAAAAAAAAAAAAAAAAAAAAAAAAAAAAAAAAAAAAAAAAAAAAAAAAAAAAAAAAAAAAAAAAAAAAAAAAAAAAAAAAAAAAAAAAAAAAAAAAAAAAAAAAAAAAAAAAAAAAAAAAAAAAAAAAAAAAAAAAAAAAAAAAAAAAAAAAAAAAAAAAAAAAAAAAAAAAAAAAAAAAAAAAAAAAAAAAAAAAAAAAAAAAAAAAAAAAAAAAAAAAAAAAAAAAAAAAAAAAAAAAAAAAAAAAAAAAAAAAAAAAAAAAAAAAAAAAAAAAAAAAAAAAAAAAAAAAAAAAAAAAAAAAAAAAAAAAAAAAAAAAAAAAAAAAAAAAAAAAAAAAAAAAAAAAAAAAAAAAAAAAAAAAAAAAAAAAAAAAAAAAAAAAAAAAAAAAAAAAAAAAAAAAAAAAAAAAAAAAAAAAAAAAAAAAAAAAAAAAAAAAAAAAAAAAAAAAAAAAAAAAAAAAAAAAAAAAAAAAAAAAAAAAAAAAAAAAAAAAAAAAAAAAAAAAAAAAAAAAAAAAAAAAAAAAAAAAAAAAAAAAAAAAAAAAAAAAAAAAAAAAAAAAAAAAAAAAAAAAAAAAAAAAAAAAAAAAAAAAAAAAAAAAAAAAAAAAAAAAAAAAAAAAAAAAAAAAAAAAAAAAAAAAAAAAAAAAAAAAAAAAAAAAAAAAAAAAAAAAAAAAAAAAAAAAAAAAAAAAAAAAAAAAAAAAAAAAAAAAAAAAAAAAAAAAAAAAAAAAAAAAAAAAAAAAAAAAAAAAAAAAAAAAAAAAAAAAAAAAAAAAAAAAAAAAAAAAAAAAAAAAAAAAAAAAAAAAAAAAAAAAAAAAAAAAAAAAAAAAAAAAAAAAAAAAAAAAAAAAAAAAAAAAAAAAAAAAAAAAAAAAAAAAAAAAAAAAAAAAAAAAAAAAAAAAAAAAAAAAAAAAAAAAAAAAAAAAAAAAAAAAAAAAAAAAAAAAAAAAAAAAAAAAAAAAAAAAAAAAAAAAAAAAAAAAAAAAAAAAAAAAAAAAAAAAAAAAAAAAAAAAAAAAAAAAAAAAAAAAAAAAAAAAAAAAAAAAAAAAAAAAAAAAAAAAAAAAAAAAAAAAAAAAAAAAAAAAAAAAAAAAAAAAAAAAAAAAAAAAAAAAAAAAAAAAAAAAAAAAAAAAAAAAAAAAAAAAAAAAAAAAAAAAAAAAAAAAAAAAAAAAAAAAAAAAAAAAAAAAAAAAAAAAAAAAAAAAAAAAAAAAAAAAAAAAAAAAAAAAAAAAAAAAAAAAAAAAAAAAAAAAAAAAAAAAAAAAAAAAAAAAAAAAAAAAAAAAAAAAAAAAAAAAAAAAAAAAAAAAAAAAAAAAAAAAAAAAAAAAAAAAAAAAAAAAAAAAAAAAAAAAAAAAAAAAAAAAAAAAAAAAAAAAAAAAAAAAAAAAAAAAAAAAAAAAAAAAAAAAAAAAAAAAAAAAAAAAAAAAAAAAAAAAAAAAAAAAAAAAAAAAAAAAAAAAAAAAAAAAAAAAAAAAAAAAAAAAAAAAAAAAAAAAAAAAAAAAAAAAAAAAAAAAAAAAAAAAAAAAAAAAAAAAAAAAAAAAAAAAAAAAAAAAAAAAAAAAAAAAAAAAAAAAAAAAAAAAAAAAAAAAAAAAAAAAAAAAAAAAAAAAAAAAAAAAAAAAAAAAAAAAAAAAAAAAAAAAAAAAAAAAAAAAAAAAAAAAAAAAAAAAAAAAAAAAAAAAAAAAAAAAAAAAAAAAAAAAAAAAAAAAAAAAAAAAAAAAAAAAAAAAAAAAAAAAAAAAAAAAAAAAAAAAAAAAAAAAAAAAAAAAAAAAAAAAAAAAAAAAAAAAAAAAAAAAAAAAAAAAAAAAAAAAAAAAAAAAAAAAAAAAAAAAAAAAAAAAAAAAAAAAAAAAAAAAAAAAAAAAAAAAAAAAAAAAAAAAAAAAAAAAAAAAAAAAAAAAAAAAAAAAAAAAAAAAAAAAAAAAAAAAAAAAAAAAAAAAAAAAAAAAAAAAAAAAAAAAAAAAAAAAAAAAAAAAAAAAAAAAAAAAAAAAAAAAAAAAAAAAAAAAAAAAAAAAAAAAAAAAAAAAAAAAAAAAAAAAAAAAAAAAAAAAAAAAAAAAAAAAAAAAAAAAAAAAAAAAAAAAAAAAAAAAAAAAAAAAAAAAAAAAAAAAAAAAAAAAAAAAAAAAAAAAAAAAAAAAAAAAAAAAAAAAAAAAAAAAAAAAAAAAAAAAAAAAAAAAAAAAAAAAAAAAAAAAAAAAAAAAAAAAAAAAAAAAAAAAAAAAAAAAAAAAAAAAAAAAAAAAAAAAAAAAAAAAAAAAAAAAAAAAAAAAAAAAAAAAAAAAAAAAAAAAAAAAAAAAAAAAAAAAAAAAAAAAAAAAAAAAAAAAAAAAAAAAAAAAAAAAAAAAAAAAAAAAAAAAAAAAAAAAAAAAAAAAAAAAAAAAAAAAAAAAAAAAAAAAAAAAAAAAAAAAAAAAAAAAAAAAAAAAAAAAAAAAAAAAAAAAAAAAAAAAAAAAAAAAAAAAAAAAAAAAAAAAAAAAAAAAAAAAAAAAAAAAAAAAAAAAAAAAAAAAAAAAAAAAAAAAAAAAAAAAAAAAAAAAAAAAAAAAAAAAAAAAAAAAAAAAAAAAAAAAAAAAAAAAAAAAAAAAAAAAAAAAAAAAAAAAAAAAAAAAAAAAAAAAAAAAAAAAAAAAAAAAAAAAAAAAAAAAAAAAAAAAAAAAAAAAAAAAAAAAAAAAAAAAAAAAAAAAAAAAAAAAAAAAAAAAAAAAAAAAAAAAAAAAAAAAAAAAAAAAAAAAAAAAAAAAAAAAAAAAAAAAAAAAAAAAAAAAAAAAAAAAAAAAAAAAAAAAAAAAAAAAAAAAAAAAAAAAAAAAAAAAAAAAAAAAAAAAAAAAAAAAAAAAAAAAAAAAAAAAAAAAAAAAAAAAAAAAAAAAAAAAAAAAAAAAAAAAAAAAAAAAAAAAAAAAAAAAAAAAAAAAAAAAAAAAAAAAAAAAAAAAAAAAAAAAAAAAAAAAAAAAAAAAAAAAAAAAAAAAAAAAAAAAAAAAAAAAAAAAAAAAAAAAAAAAAAAAAAAAAAAAAAAAAAAAAAAAAAAAAAAAAAAAAAAAAAAAAAAAAAAAAAAAAAAAAAAAAAAAAAAAAAAAAAAAAAAAAAAAAAAAAAAAAAAAAAAAAAAAAAAAAAAAAAAAAAAAAAAAAAAAAAAAAAAAAAAAAAAAAAAAAAAAAAAAAAAAAAAAAAAAAAAAAAAAAAAAAAAAAAAAAAAAAAAAAAAAAAAAAAAAAAAAAAAAAAAAAAAAAAAAAAAAAAAAAAAAAAAAAAAAAAAAAAAAAAAAAAAAAAAAAAAAAAAAAAAAAAAAAAAAAAAAAAAAAAAAAAAAAAAAAAAAAAAAAAAAAAAAAAAAAAAAAAAAAAAAAAAAAAAAAAAAAAAAAAAAAAAAAAAAAAAAAAAAAAAAAAAAAAAAAAAAAAAAAAAAAAAAAAAAAAAAAAAAAAAAAAAAAAAAAAAAAAAAAAAAAAAAAAAAAAAAAAAAAAAAAAAAAAAAAAAAAAAAAAAAAAAAAAAAAAAAAAAAAAAAAAAAAAAAAAAAAAAAAAAAAAAAAAAAAAAAAAAAAAAAAAAAAAAAAAAAAAAAAAAAAAAAAAAAAAAAAAAAAAAAAAAAAAAAAAAAAAAAAAAAAAAAAAAAAAAAAAAAAAAAAAAAAAAAAAAAAAAAAAAAAAAAAAAAAAAAAAAAAAAAAAAAAAAAAAAAAAAAAAAAAAAAAAAAAAAAAAAAAAAAAAAAAAAAAAAAAAAAAAAAAAAAAAAAAAAAAAAAAAAAAAAAAAAAAAAAAAAAAAAAAAAAAAAAAAAAAAAAAAAAAAAAAAAAAAAAAAAAAAAAAAAAAAAAAAAAAAAAAAAAAAAAAAAAAAAAAAAAAAAAAAAAAAAAAAAAAAAAAAAAAAAAAAAAAAAAAAAAAAAAAAAAAAAAAAAAAAAAAAAAAAAAAAAAAAAAAAAAAAAAAAAAAAAAAAAAAAAAAAAAAAAAAAAAAAAAAAAAAAAAAAAAAAAAAAAAAAAAAAAAAAAAAAAAAAAAAAAAAAAAAAAAAAAAAAAAAAAAAAAAAAAAAAAAAAAAAAAAAAAAAAAAAAAAAAAAAAAAAAAAAAAAAAAAAAAAAAAAAAAAAAAAAAAAAAAAAAAAAAAAAAAAAAAAAAAAAAAAAAAAAAAAAAAAAAAAAAAAAAAAAAAAAAAAAAAAAAAAAAAAAAAAAAAAAAAAAAAAAAAAAAAAAAAAAAAAAAAAAAAAAAAAAAAAAAAAAAAAAAAAAAAAAAAAAAAAAAAAAAAAAAAAAAAAAAAAAAAAAAAAAAAAAAAAAAAAAAAAAAAAAAAAAAAAAAAAAAAAAAAAAAAAAAAAAAAAAAAAAAAAAAAAAAAAAAAAAAAAAAAAAAAAAAAAAAAAAAAAAAAAAAAAAAAAAAAAAAAAAAAAAAAAAAAAAAAAAAAAAAAAAAAAAAAAAAAAAAAAAAAAAAAAAAAAAAAAAAAAAAAAAAAAAAAAAAAAAAAAAAAAAAAAAAAAAAAAAAAAAAAAAAAAAAAAAAAAAAAAAAAAAAAAAAAAAAAAAAAAAAAAAAAAAAAAAAAAAAAAAAAAAAAAAAAAAAAAAAAAAAAAAAAAAAAAAAAAAAAAAAAAAAAAAAAAAAAAAAAAAAAAAAAAAAAAAAAAAAAAAAAAAAAAAAAAAAAAAAAAAAAAAAAAAAAAAAAAAAAAAAAAAAAAAAAAAAAAAAAAAAAAAAAAAAAAAAAAAAAAAAAAAAAAAAAAAAAAAAAAAAAAAAAAAAAAAAAAAAAAAAAAAAAAAAAAAAAAAAAAAAAAAAAAAAAAAAAAAAAAAAAAAAAAAAAAAAAAAAAAAAAAAAAAAAAAAAAAAAAAAAAAAAAAAAAAAAAAAAAAAAAAAAAAAAAAAAAAAAAAAAAAAAAAAAAAAAAAAAAAAAAAAAAAAAAAAAAAAAAAAAAAAAAAAAAAAAAAAAAAAAAAAAAAAAAAAAAAAAAAAAAAAAAAAAAAAAAAAAAAAAAAAAAAAAAAAAAAAAAAAAAAAAAAAAAAAAAAAAAAAAAAAAAAAAAAAAAAAAAAAAAAAAAAAAAAAAAAAAAAAAAAAAAAAAAAAAAAAAAAAAAAAAAAAAAAAAAAAAAAAAAAAAAAAAAAAAAAAAAAAAAAAAAAAAAAAAAAAAAAAAAAAAAAAAAAAAAAAAAAAAAAAAAAAAAAAAAAAAAAAAAAAAAAAAAAAAAAAAAAAAAAAAAAAAAAAAAAAAAAAAAAAAAAAAAAAAAAAAAAAAAAAAAAAAAAAAAAAAAAAAAAAAAAAAAAAAAAAAAAAAAAAAAAAAAAAAAAAAAAAAAAAAAAAAAAAAAAAAAAAAAAAAAAAAAAAAAAAAAAAAAAAAAAAAAAAAAAAAAAAAAAAAAAAAAAAAAAAAAAAAAAAAAAAAAAAAAAAAAAAAAAAAAAAAAAAAAAAAAAAAAAAAAAAAAAAAAAAAAAAAAAAAAAAAAAAAAAAAAAAAAAAAAAAAAAAAAAAAAAAAAAAAAAAAAAAAAAAAAAAAAAAAAAAAAAAAAAAAAAAAAAAAAAAAAAAAAAAAAAAAAAAAAAAAAAAAAAAAAAAAAAAAAAAAAAAAAAAAAAAAAAAAAAAAAAAAAAAAAAAAAAAAAAAAAAAAAAAAAAAAAAAAAAAAAAAAAAAAAAAAAAAAAAAAAAAAAAAAAAAAAAAAAAAAAAAAAAAAAAAAAAAAAAAAAAAAAAAAAAAAAAAAAAAAAAAAAAAAAAAAAAAAAAAAAAAAAAAAAAAAAAAAAAAAAAAAAAAAAAAAAAAAAAAAAAAAAAAAAAAAAAAAAAAAAAAAAAAAAAAAAAAAAAAAAAAAAAAAAAAAAAAAAAAAAAAAAAAAAAAAAAAAAAAAAAAAAAAAAAAAAAAAAAAAAAAAAAAAAAAAAAAAAAAAAAAAAAAAAAAAAAAAAAAAAAAAAAAAAAAAAAAAAAAAAAAAAAAAAAAAAAAAAAAAAAAAAAAAAAAAAAAAAAAAAAAAAAAAAAAAAAAAAAAAAAAAAAAAAAAAAAAAAAAAAAAAAAAAAAAAAAAAAAAAAAAAAAAAAAAAAAAAAAAAAAAAAAAAAAAAAAAAAAAAAAAAAAAAAAAAAAAAAAAAAAAAAAAAAAAAAAAAAAAAAAAAAAAAAAAAAAAAAAAAAAAAAAAAAAAAAAAAAAAAAAAAAAAAAAAAAAAAAAAAAAAAAAAAAAAAAAAAAAAAAAAAAAAAAAAAAAAAAAAAAAAAAAAAAAAAAAAAAAAAAAAAAAAAAAAAAAAAAAAAAAAAAAAAAAAAAAAAAAAAAAAAAAAAAAAAAAAAAAAAAAAAAAAAAAAAAAAAAAAAAAAAAAAAAAAAAAAAAAAAAAAAAAAAAAAAAAAAAAAAAAAAAAAAAAAAAAAAAAAAAAAAAAAAAAAAAAAAAAAAAAAAAAAAAAAAAAAAAAAAAAAAAAAAAAAAAAAAAAAAAAAAAAAAAAAAAAAAAAAAAAAAAAAAAAAAAAAAAAAAAAAAAAAAAAAAAAAAAAAAAAAAAAAAAAAAAAAAAAAAAAAAAAAAAAAAAAAAAAAAAAAAAAAAAAAAAAAAAAAAAAAAAAAAAAAAAAAAAAAAAAAAAAAAAAAAAAAAAAAAAAAAAAAAAAAAAAAAAAAAAAAAAAAAAAAAAAAAAAAAAAAAAAAAAAAAAAAAAAAAAAAAAAAAAAAAAAAAAAAAAAAAAAAAAAAAAAAAAAAAAAAAAAAAAAAAAAAAAAAAAAAAAAAAAAAAAAAAAAAAAAAAAAAAAAAAAAAAAAAAAAAAAAAAAAAAAAAAAAAAAAAAAAAAAAAAAAAAAAAAAAAAAAAAAAAAAAAAAAAAAAAAAAAAAAAAAAAAAAAAAAAAAAAAAAAAAAAAAAAAAAAAAAAAAAAAAAAAAAAAAAAAAAAAAAAAAAAAAAAAAAAAAAAAAAAAAAAAAAAAAAAAAAAAAAAAAAAAAAAAAAAAAAAAAAAAAAAAAAAAAAAAAAAAAAAAAAAAAAAAAAAAAAAAAAAAAAAAAAAAAAAAAAAAAAAAAAAAAAAAAAAAAAAAAAAAAAAAAAAAAAAAAAAAAAAAAAAAAAAAAAAAAAAAAAAAAAAAAAAAAAAAAAAAAAAAAAAAAAAAAAAAAAAAAAAAAAAAAAAAAAAAAAAAAAAAAAAAAAAAAAAAAAAAAAAAAAAAAAAAAAAAAAAAAAAAAAAAAAAAAAAAAAAAAAAAAAAAAAAAAAAAAAAAAAAAAAAAAAAAAAAAAAAAAAAAAAAAAAAAAAAAAAAAAAAAAAAAAAAAAAAAAAAAAAAAAAAAAAAAAAAAAAAAAAAAAAAAAAAAAAAAAAAAAAAAAAAAAAAAAAAAAAAAAAAAAAAAAAAAAAAAAAAAAAAAAAAAAAAAAAAAAAAAAAAAAAAAAAAAAAAAAAAAAAAAAAAAAAAAAAAAAAAAAAAAAAAAAAAAAAAAAAAAAAAAAAAAAAAAAAAAAAAAAAAAAAAAAAAAAAAAAAAAAAAAAAAAAAAAAAAAAAAAAAAAAAAAAAAAAAAAAAAAAAAAAAAAAAAAAAAAAAAAAAAAAAAAAAAAAAAAAAAAAAAAAAAAAAAAAAAAAAAAAAAAAAAAAAAAAAAAAAAAAAAAAAAAAAAAAAAAAAAAAAAAAAAAAAAAAAAAAAAAAAAAAAAAAAAAAAAAAAAAAAAAAAAAAAAAAAAAAAAAAAAAAAAAAAAAAAAAAAAAAAAAAAAAAAAAAAAAAAAAAAAAAAAAAAAAAAAAAAAAAAAAAAAAAAAAAAAAAAAAAAAAAAAAAAAAAAAAAAAAAAAAAAAAAAAAAAAAAAAAAAAAAAAAAAAAAAAAAAAAAAAAAAAAAAAAAAAAAAAAAAAAAAAAAAAAAAAAAAAAAAAAAAAAAAAAAAAAAAAAAAAAAAAAAAAAAAAAAAAAAAAAAAAAAAAAAAAAAAAAAAAAAAAAAAAAAAAAAAAAAAAAAAAAAAAAAAAAAAAAAAAAAAAAAAAAAAAAAAAAAAAAAAAAAAAAAAAAAAAAAAAAAAAAAAAAAAAAAAAAAAAAAAAAAAAAAAAAAAAAAAAAAAAAAAAAAAAAAAAAAAAAAAAAAAAAAAAAAAAAAAAAAAAAAAAAAAAAAAAAAAAAAAAAAAAAAAAAAAAAAAAAAAAAAAAAAAAAAAAAAAAAAAAAAAAAAAAAAAAAAAAAAAAAAAAAAAAAAAAAAAAAAAAAAAAAAAAAAAAAAAAAAAAAAAAAAAAAAAAAAAAAAAAAAAAAAAAAAAAAAAAAAAAAAAAAAAAAAAAAAAAAAAAAAAAAAAAAAAAAAAAAAAAAAAAAAAAAAAAAAAAAAAAAAAAAAAAAAAAAAAAAAAAAAAAAAAAAAAAAAAAAAAAAAAAAAAAAAAAAAAAAAAAAAAAAAAAAAAAAAAAAAAAAAAAAAAAAAAAAAAAAAAAAAAAAAAAAAAAAAAAAAAAAAAAAAAAAAAAAAAAAAAAAAAAAAAAAAAAAAAAAAAAAAAAAAAAAAAAAAAAAAAAAAAAAAAAAAAAAAAAAAAAAAAAAAAAAAAAAAAAAAAAAAAAAAAAAAAAAAAAAAAAAAAAAAAAAAAAAAAAAAAAAAAAAAAAAAAAAAAAAAAAAAAAAAAAAAAAAAAAAAAAAAAAAAAAAAAAAAAAAAAAAAAAAAAAAAAAAAAAAAAAAAAAAAAAAAAAAAAAAAAAAAAAAAAAAAAAAAAAAAAAAAAAAAAAAAAAAAAAAAAAAAAAAAAAAAAAAAAAAAAAAAAAAAAAAAAAAAAAAAAAAAAAAAAAAAAAAAAAAAAAAAAAAAAAAAAAAAAAAAAAAAAAAAAAAAAAAAAAAAAAAAAAAAAAAAAAAAAAAAAAAAAAAAAAAAAAAAAAAAAAAAAAAAAAAAAAAAAAAAAAAAAAAAAAAAAAAAAAAAAAAAAAAAAAAAAAAAAAAAAAAAAAAAAAAAAAAAAAAAAAAAAAAAAAAAAAAAAAAAAAAAAAAAAAAAAAAAAAAAAAAAAAAAAAAAAAAAAAAAAAAAAAAAAAAAAAAAAAAAAAAAAAAAAAAAAAAAAAAAAAAAAAAAAAAAAAAAAAAAAAAAAAAAAAAAAAAAAAAAAAAAAAAAAAAAAAAAAAAAAAAAAAAAAAAAAAAAAAAAAAAAAAAAAAAAAAAAAAAAAAAAAAAAAAAAAAAAAAAAAAAAAAAAAAAAAAAAAAAAAAAAAAAAAAAAAAAAAAAAAAAAAAAAAAAAAAAAAAAAAAAAAAAAAAAAAAAAAAAAAAAAAAAAAAAAAAAAAAAAAAAAAAAAAAAAAAAAAAAAAAAAAAAAAAAAAAAAAAAAAAAAAAAAAAAAAAAAAAAAAAAAAAAAAAAAAAAAAAAAAAAAAAAAAAAAAAAAAAAAAAAAAAAAAAAAAAAAAAAAAAAAAAAAAAAAAAAAAAAAAAAAAAAAAAAAAAAAAAAAAAAAAAAAAAAAAAAAAAAAAAAAAAAAAAAAAAAAAAAAAAAAAAAAAAAAAAAAAAAAAAAAAAAAAAAAAAAAAAAAAAAAAAAAAAAAAAAAAAAAAAAAAAAAAAAAAAAAAAAAAAAAAAAAAAAAAAAAAAAAAAAAAAAAAAAAAAAAAAAAAAAAAAAAAAAAAAAAAAAAAAAAAAAAAAAAAAAAAAAAAAAAAAAAAAAAAAAAAAAAAAAAAAAAAAAAAAAAAAAAAAAAAAAAAAAAAAAAAAAAAAAAAAAAAAAAAAAAAAAAAAAAAAAAAAAAAAAAAAAAAAAAAAAAAAAAAAAAAAAAAAAAAAAAAAAAAAAAAAAAAAAAAAAAAAAAAAAAAAAAAAAAAAAAAAAAAAAAAAAAAAAAAAAAAAAAAAAAAAAAAAAAAAAAAAAAAAAAAAAAAAAAAAAAAAAAAAAAAAAAAAAAAAAAAAAAAAAAAAAAAAAAAAAAAAAAAAAAAAAAAAAAAAAAAAAAAAAAAAAAAAAAAAAAAAAAAAAAAAAAAAAAAAAAAAAAAAAAAAAAAAAAAAAAAAAAAAAAAAAAAAAAAAAAAAAAAAAAAAAAAAAAAAAAAAAAAAAAAAAAAAAAAAAAAAAAAAAAAAAAAAAAAAAAAAAAAAAAAAAAAAAAAAAAAAAAAAAAAAAAAAAAAAAAAAAAAAAAAAAAAAAAAAAAAAAAAAAAAAAAAAAAAAAAAAAAAAAAAAAAAAAAAAAAAAAAAAAAAAAAAAAAAAAAAAAAAAAAAAAAAAAAAAAAAAAAAAAAAAAAAAAAAAAAAAAAAAAAAAAAAAAAAAAAAAAAAAAAAAAAAAAAAAAAAAAAAAAAAAAAAAAAAAAAAAAAAAAAAAAAAAAAAAAAAAAAAAAAAAAAAAAAAAAAAAAAAAAAAAAAAAAAAAAAAAAAAAAAAAAAAAAAAAAAAAAAAAAAAAAAAAAAAAAAAAAAAAAAAAAAAAAAAAAAAAAAAAAAAAAAAAAAAAAAAAAAAAAAAAAAAAAAAAAAAAAAAAAAAAAAAAAAAAAAAAAAAAAAAAAAAAAAAAAAAAAAAAAAAAAAAAAAAAAAAAAAAAAAAAAAAAAAAAAAAAAAAAAAAAAAAAAAAAAAAAAAAAAAAAAAAAAAAAAAAAAAAAAAAAAAAAAAAAAAAAAAAAAAAAAAAAAAAAAAAAAAAAAAAAAAAAAAAAAAAAAAAAAAAAAAAAAAAAAAAAAAAAAAAAAAAAAAAAAAAAAAAAAAAAAAAAAAAAAAAAAAAAAAAAAAAAAAAAAAAAAAAAAAAAAAAAAAAAAAAAAAAAAAAAAAAAAAAAAAAAAAAAAAAAAAAAAAAAAAAAAAAAAAAAAAAAAAAAAAAAAAAAAAAAAAAAAAAAAAAAAAAAAAAAAAAAAAAAAAAAAAAAAAAAAAAAAAAAAAAAAAAAAAAAAAAAAAAAAAAAAAAAAAAAAAAAAAAAAAAAAAAAAAAAAAAAAAAAAAAAAAAAAAAAAAAAAAAAAAAAAAAAAAAAAAAAAAAAAAAAAAAAAAAAAAAAAAAAAAAAAAAAAAAAAAAAAAAAAAAAAAAAAAAAAAAAAAAAAAAAAAAAAAAAAAAAAAAAAAAAAAAAAAAAAAAAAAAAAAAAAAAAAAAAAAAAAAAAAAAAAAAAAAAAAAAAAAAAAAAAAAAAAAAAAAAAAAAAAAAAAAAAAAAAAAAAAAAAAAAAAAAAAAAAAAAAAAAAAAAAAAAAAAAAAAAAAAAAAAAAAAAAAAAAAAAAAAAAAAAAAAAAAAAAAAAAAAAAAAAAAAAAAAAAAAAAAAAAAAAAAAAAAAAAAAAAAAAAAAAAAAAAAAAAAAAAAAAAAAAAAAAAAAAAAAAAAAAAAAAAAAAAAAAAAAAAAAAAAAAAAAAAAAAAAAAAAAAAAAAAAAAAAAAAAAAAAAAAAAAAAAAAAAAAAAAAAAAAAAAAAAAAAAAAAAAAAAAAAAAAAAAAAAAAAAAAAAAAAAAAAAAAAAAAAAAAAAAAAAAAAAAAAAAAAAAAAAAAAAAAAAAAAAAAAAAAAAAAAAAAAAAAAAAAAAAAAAAAAAAAAAAAAAAAAAAAAAAAAAAAAAAAAAAAAAAAAAAAAAAAAAAAAAAAAAAAAAAAAAAAAAAAAAAAAAAAAAAAAAAAAAAAAAAAAAAAAAAAAAAAAAAAAAAAAAAAAAAAAAAAAAAAAAAAAAAAAAAAAAAAAAAAAAAAAAAAAAAAAAAAAAAAAAAAAAAAAAAAAAAAAAAAAAAAAAAAAAAAAAAAAAAAAAAAAAAAAAAAAAAAAAAAAAAAAAAAAAAAAAAAAAAAAAAAAAAAAAAAAAAAAAAAAAAAAAAAAAAAAAAAAAAAAAAAAAAAAAAAAAAAAAAAAAAAAAAAAAAAAAAAAAAAAAAAAAAAAAAAAAAAAAAAAAAAAAAAAAAAAAAAAAAAAAAAAAAAAAAAAAAAAAAAAAAAAAAAAAAAAAAAAAAAAAAAAAAAAAAAAAAAAAAAAAAAAAAAAAAAAAAAAAAAAAAAAAAAAAAAAAAAAAAAAAAAAAAAAAAAAAAAAAAAAAAAAAAAAAAAAAAAAAAAAAAAAAAAAAAAAAAAAAAAAAAAAAAAAAAAAAAAAAAAAAAAAAAAAAAAAAAAAAAAAAAAAAAAAAAAAAAAAAAAAAAAAAAAAAAAAAAAAAAAAAAAAAAAAAAAAAAAAAAAAAAAAAAAAAAAAAAAAAAAAAAAAAAAAAAAAAAAAAAAAAAAAAAAAAAAAAAAAAAAAAAAAAAAAAAAAAAAAAAAAAAAAAAAAAAAAAAAAAAAAAAAAAAAAAAAAAAAAAAAAAAAAAAAAAAAAAAAAAAAAAAAAAAAAAAAAAAAAAAAAAAAAAAAAAAAAAAAAAAAAAAAAAAAAAAAAAAAAAAAAAAAAAAAAAAAAAAAAAAAAAAAAAAAAAAAAAAAAAAAAAAAAAAAAAAAAAAAAAAAAAAAAAAAAAAAAAAAAAAAAAAAAAAAAAAAAAAAAAAAAAAAAAAAAAAAAAAAAAAAAAAAAAAAAAAAAAAAAAAAAAAAAAAAAAAAAAAAAAAAAAAAAAAAAAAAAAAAAAAAAAAAAAAAAAAAAAAAAAAAAAAAAAAAAAAAAAAAAAAAAAAAAAAAAAAAAAAAAAAAAAAAAAAAAAAAAAAAAAAAAAAAAAAAAAAAAAAAAAAAAAAAAAAAAAAAAAAAAAAAAAAAAAAAAAAAAAAAAAAAAAAAAAAAAAAAAAAAAAAAAAAAAAAAAAAAAAAAAAAAAAAAAAAAAAAAAAAAAAAAAAAAAAAAAAAAAAAAAAAAAAAAAAAAAAAAAAAAAAAAAAAAAAAAAAAAAAAAAAAAAAAAAAAAAAAAAAAAAAAAAAAAAAAAAAAAAAAAAAAAAAAAAAAAAAAAAAAAAAAAAAAAAAAAAAAAAAAAAAAAAAAAAAAAAAAAAAAAAAAAAAAAAAAAAAAAAAAAAAAAAAAAAAAAAAAAAAAAAAAAAAAAAAAAAAAAAAAAAAAAAAAAAAAAAAAAAAAAAAAAAAAAAAAAAAAAAAAAAAAAAAAAAAAAAAAAAAAAAAAAAAAAAAAAAAAAAAAAAAAAAAAAAAAAAAAAAAAAAAAAAAAAAAAAAAAAAAAAAAAAAAAAAAAAAAAAAAAAAAAAAAAAAAAAAAAAAAAAAAAAAAAAAAAAAAAAAAAAAAAAAAAAAAAAAAAAAAAAAAAAAAAAAAAAAAAAAAAAAAAAAAAAAAAAAAAAAAAAAAAAAAAAAAAAAAAAAAAAAAAAAAAAAAAAAAAAAAAAAAAAAAAAAAAAAAAAAAAAAAAAAAAAAAAAAAAAAAAAAAAAAAAAAAAAAAAAAAAAAAAAAAAAAAAAAAAAAAAAAAAAAAAAAAAAAAAAAAAAAAAAAAAAAAAAAAAAAAAAAAAAAAAAAAAAAAAAAAAAAAAAAAAAAAAAAAAAAAAAAAAAAAAAAAAAAAAAAAAAAAAAAAAAAAAAAAAAAAAAAAAAAAAAAAAAAAAAAAAAAAAAAAAAAAAAAAAAAAAAAAAAAAAAAAAAAAAAAAAAAAAAAAAAAAAAAAAAAAAAAAAAAAAAAAAAAAAAAAAAAAAAAAAAAAAAAAAAAAAAAAAAAAAAAAAAAAAAAAAAAAAAAAAAAAAAAAAAAAAAAAAAAAAAAAAAAAAAAAAAAAAAAAAAAAAAAAAAAAAAAAAAAAAAAAAAAAAAAAAAAAAAAAAAAAAAAAAAAAAAAAAAAAAAAAAAAAAAAAAAAAAAAAAAAAAAAAAAAAAAAAAAAAAAAAAAAAAAAAAAAAAAAAAAAAAAAAAAAAAAAAAAAAAAAAAAAAAAAAAAAAAAAAAAAAAAAAAAAAAAAAAAAAAAAAAAAAAAAAAAAAAAAAAAAAAAAAAAAAAAAAAAAAAAAAAAAAAAAAAAAAAAAAAAAAAAAAAAAAAAAAAAAAAAAAAAAAAAAAAAAAAAAAAAAAAAAAAAAAAAAAAAAAAAAAAAAAAAAAAAAAAAAAAAAAAAAAAAAAAAAAAAAAAAAAAAAAAAAAAAAAAAAAAAAAAAAAAAAAAAAAAAAAAAAAAAAAAAAAAAAAAAAAAAAAAAAAAAAAAAAAAAAAAAAAAAAAAAAAAAAAAAAAAAAAAAAAAAAAAAAAAAAAAAAAAAAAAAAAAAAAAAAAAAAAAAAAAAAAAAAAAAAAAAAAAAAAAAAAAAAAAAAAAAAAAAAAAAAAAAAAAAAAAAAAAAAAAAAAAAAAAAAAAAAAAAAAAAAAAAAAAAAAAAAAAAAAAAAAAAAAAAAAAAAAAAAAAAAAAAAAAAAAAAAAAAAAAAAAAAAAAAAAAAAAAAAAAAAAAAAAAAAAAAAAAAAAAAAAAAAAAAAAAAAAAAAAAAAAAAAAAAAAAAAAAAAAAAAAAAAAAAAAAAAAAAAAAAAAAAAAAAAAAAAAAAAAAAAAAAAAAAAAAAAAAAAAAAAAAAAAAAAAAAAAAAAAAAAAAAAAAAAAAAAAAAAAAAAAAAAAAAAAAAAAAAAAAAAAAAAAAAAAAAAAAAAAAAAAAAAAAAAAAAAAAAAAAAAAAAAAAAAAAAAAAAAAAAAAAAAAAAAAAAAAAAAAAAAAAAAAAAAAAAAAAAAAAAAAAAAAAAAAAAAAAAAAAAAAAAAAAAAAAAAAAAAAAAAAAAAAAAAAAAAAAAAAAAAAAAAAAAAAAAAAAAAAAAAAAAAAAAAAAAAAAAAAAAAAAAAAAAAAAAAAAAAAAAAAAAAAAAAAAAAAAAAAAAAAAAAAAAAAAAAAAAAAAAAAAAAAAAAAAAAAAAAAAAAAAAAAAAAAAAAAAAAAAAAAAAAAAAAAAAAAAAAAAAAAAAAAAAAAAAAAAAAAAAAAAAAAAAAAAAAAAAAAAAAAAAAAAAAAAAAAAAAAAAAAAAAAAAAAAAAAAAAAAAAAAAAAAAAAAAAAAAAAAAAAAAAAAAAAAAAAAAAAAAAAAAAAAAAAAAAAAAAAAAAAAAAAAAAAAAAAAAAAAAAAAAAAAAAAAAAAAAAAAAAAAAAAAAAAAAAAAAAAAAAAAAAAAAAAAAAAAAAAAAAAAAAAAAAAAAAAAAAAAAAAAAAAAAAAAAAAAAAAAAAAAAAAAAAAAAAAAAAAAAAAAAAAAAAAAAAAAAAAAAAAAAAAAAAAAAAAAAAAAAAAAAAAAAAAAAAAAAAAAAAAAAAAAAAAAAAAAAAAAAAAAAAAAAAAAAAAAAAAAAAAAAAAAAAAAAAAAAAAAAAAAAAAAAAAAAAAAAAAAAAAAAAAAAAAAAAAAAAAAAAAAAAAAAAAAAAAAAAAAAAAAAAAAAAAAAAAAAAAAAAAAAAAAAAAAAAAAAAAAAAAAAAAAAAAAAAAAAAAAAAAAAAAAAAAAAAAAAAAAAAAAAAAAAAAAAAAAAAAAAAAAAAAAAAAAAAAAAAAAAAAAAAAAAAAAAAAAAAAAAAAAAAAAAAAAAAAAAAAAAAAAAAAAAAAAAAAAAAAAAAAAAAAAAAAAAAAAAAAAAAAAAAAAAAAAAAAAAAAAAAAAAAAAAAAAAAAAAAAAAAAAAAAAAAAAAAAAAAAAAAAAAAAAAAAAAAAAAAAAAAAAAAAAAAAAAAAAAAAAAAAAAAAAAAAAAAAAAAAAAAAAAAAAAAAAAAAAAAAAAAAAAAAAAAAAAAAAAAAAAAAAAAAAAAAAAAAAAAAAAAAAAAAAAAAAAAAAAAAAAAAAAAAAAAAAAAAAAAAAAAAAAAAAAAAAAAAAAAAAAAAAAAAAAAAAAAAAAAAAAAAAAAAAAAAAAAAAAAAAAAAAAAAAAAAAAAAAAAAAAAAAAAAAAAAAAAAAAAAAAAAAAAAAAAAAAAAAAAAAAAAAAAAAAAAAAAAAAAAAAAAAAAAAAAAAAAAAAAAAAAAAAAAAAAAAAAAAAAAAAAAAAAAAAAAAAAAAAAAAAAAAAAAAAAAAAAAAAAAAAAAAAAAAAAAAAAAAAAAAAAAAAAAAAAAAAAAAAAAAAAAAAAAAAAAAAAAAAAAAAAAAAAAAAAAAAAAAAAAAAAAAAAAAAAAAAAAAAAAAAAAAAAAAAAAAAAAAAAAAAAAAAAAAAAAAAAAAAAAAAAAAAAAAAAAAAAAAAAAAAAAAAAAAAAAAAAAAAAAAAAAAAAAAAAAAAAAAAAAAAAAAAAAAAAAAAAAAAAAAAAAAAAAAAAAAAAAAAAAAAAAAAAAAAAAAAAAAAAAAAAAAAAAAAAAAAAAAAAAAAAAAAAAAAAAAAAAAAAAAAAAAAAAAAAAAAAAAAAAAAAAAAAAAAAAAAAAAAAAAAAAAAAAAAAAAAAAAAAAAAAAAAAAAAAAAAAAAAAAAAAAAAAAAAAAAAAAAAAAAAAAAAAAAAAAAAAAAAAAAAAAAAAAAAAAAAAAAAAAAAAAAAAAAAAAAAAAAAAAAAAAAAAAAAAAAAAAAAAAAAAAAAAAAAAAAAAAAAAAAAAAAAAAAAAAAAAAAAAAAAAAAAAAAAAAAAAAAAAAAAAAAAAAAAAAAAAAAAAAAAAAAAAAAAAAAAAAAAAAAAAAAAAAAAAAAAAAAAAAAAAAAAAAAAAAAAAAAAAAAAAAAAAAAAAAAAAAAAAAAAAAAAAAAAAAAAAAAAAAAAAAAAAAAAAAAAAAAAAAAAAAAAAAAAAAAAAAAAAAAAAAAAAAAAAAAAAAAAAAAAAAAAAAAAAAAAAAAAAAAAAAAAAAAAAAAAAAAAAAAAAAAAAAAAAAAAAAAAAAAAAAAAAAAAAAAAAAAAAAAAAAAAAAAAAAAAAAAAAAAAAAAAAAAAAAAAAAAAAAAAAAAAAAAAAAAAAAAAAAAAAAAAAAAAAAAAAAAAAAAAAAAAAAAAAAAAAAAAAAAAAAAAAAAAAAAAAAAAAAAAAAAAAAAAAAAAAAAAAAAAAAAAAAAAAAAAAAAAAAAAAAAAAAAAAAAAAAAAAAAAAAAAAAAAAAAAAAAAAAAAAAAAAAAAAAAAAAAAAAAAAAAAAAAAAAAAAAAAAAAAAAAAAAAAAAAAAAAAAAAAAAAAAAAAAAAAAAAAAAAAAAAAAAAAAAAAAAAAAAAAAAAAAAAAAAAAAAAAAAAAAAAAAAAAAAAAAAAAAAAAAAAAAAAAAAAAAAAAAAAAAAAAAAAAAAAAAAAAAAAAAAAAAAAAAAAAAAAAAAAAAAAAAAAAAAAAAAAAAAAAAAAAAAAAAAAAAAAAAAAAAAAAAAAAAAAAAAAAAAAAAAAAAAAAAAAAAAAAAAAAAAAAAAAAAAAAAAAAAAAAAAAAAAAAAAAAAAAAAAAAAAAAAAAAAAAAAAAAAAAAAAAAAAAAAAAAAAAAAAAAAAAAAAAAAAAAAAAAAAAAAAAAAAAAAAAAAAAAAAAAAAAAAAAAAAAAAAAAAAAAAAAAAAAAAAAAAAAAAAAAAAAAAAAAAAAAAAAAAAAAAAAAAAAAAAAAAAAAAAAAAAAAAAAAAAAAAAAAAAAAAAAAAAAAAAAAAAAAAAAAAAAAAAAAAAAAAAAAAAAAAAAAAAAAAAAAAAAAAAAAAAAAAAAAAAAAAAAAAAAAAAAAAAAAAAAAAAAAAAAAAAAAAAAAAAAAAAAAAAAAAAAAAAAAAAAAAAAAAAAAAAAAAAAAAAAAAAAAAAAAAAAAAAAAAAAAAAAAAAAAAAAAAAAAAAAAAAAAAAAAAAAAAAAAAAAAAAAAAAAAAAAAAAAAAAAAAAAAAAAAAAAAAAAAAAAAAAAAAAAAAAAAAAAAAAAAAAAAAAAAAAAAAAAAAAAAAAAAAAAAAAAAAAAAAAAAAAAAAAAAAAAAAAAAAAAAAAAAAAAAAAAAAAAAAAAAAAAAAAAAAAAAAAAAAAAAAAAAAAAAAAAAAAAAAAAAAAAAAAAAAAAAAAAAAAAAAAAAAAAAAAAAAAAAAAAAAAAAAAAAAAAAAAAAAAAAAAAAAAAAAAAAAAAAAAAAAAAAAAAAAAAAAAAAAAAAAAAAAAAAAAAAAAAAAAAAAAAAAAAAAAAAAAAAAAAAAAAAAAAAAAAAAAAAAAAAAAAAAAAAAAAAAAAAAAAAAAAAAAAAAAAAAAAAAAAAAAAAAAAAAAAAAAAAAAAAAAAAAAAAAAAAAAAAAAAAAAAAAAAAAAAAAAAAAAAAAAAAAAAAAAAAAAAAAAAAAAAAAAAAAAAAAAAAAAAAAAAAAAAAAAAAAAAAAAAAAAAAAAAAAAAAAAAAAAAAAAAAAAAAAAAAAAAAAAAAAAAAAAAAAAAAAAAAAAAAAAAAAAAAAAAAAAAAAAAAAAAAAAAAAAAAAAAAAAAAAAAAAAAAAAAAAAAAAAAAAAAAAAAAAAAAAAAAAAAAAAAAAAAAAAAAAAAAAAAAAAAAAAAAAAAAAAAAAAAAAAAAAAAAAAAAAAAAAAAAAAAAAAAAAAAAAAAAAAAAAAAAAAAAAAAAAAAAAAAAAAAAAAAAAAAAAAAAAAAAAAAAAAAAAAAAAAAAAAAAAAAAAAAAAAAAAAAAAAAAAAAAAAAAAAAAAAAAAAAAAAAAAAAAAAAAAAAAAAAAAAAAAAAAAAAAAAAAAAAAAAAAAAAAAAAAAAAAAAAAAAAAAAAAAAAAAAAAAAAAAAAAAAAAAAAAAAAAAAAAAAAAAAAAAAAAAAAAAAAAAAAAAAAAAAAAAAAAAAAAAAAAAAAAAAAAAAAAAAAAAAAAAAAAAAAAAAAAAAAAAAAAAAAAAAAAAAAAAAAAAAAAAAAAAAAAAAAAAAAAAAAAAAAAAAAAAAAAAAAAAAAAAAAAAAAAAAAAAAAAAAAAAAAAAAAAAAAAAAAAAAAAAAAAAAAAAAAAAAAAAAAAAAAAAAAAAAAAAAAAAAAAAAAAAAAAAAAAAAAAAAAAAAAAAAAAAAAAAAAAAAAAAAAAAAAAAAAAAAAAAAAAAAAAAAAAAAAAAAAAAAAAAAAAAAAAAAAAAAAAAAAAAAAAAAAAAAAAAAAAAAAAAAAAAAAAAAAAAAAAAAAAAAAAAAAAAAAAAAAAAAAAAAAAAAAAAAAAAAAAAAAAAAAAAAAAAAAAAAAAAAAAAAAAAAAAAAAAAAAAAAAAAAAAAAAAAAAAAAAAAAAAAAAAAAAAAAAAAAAAAAAAAAAAAAAAAAAAAAAAAAAAAAAAAAAAAAAAAAAAAAAAAAAAAAAAAAAAAAAAAAAAAAAAAAAAAAAAAAAAAAAAAAAAAAAAAAAAAAAAAAAAAAAAAAAAAAAAAAAAAAAAAAAAAAAAAAAAAAAAAAAAAAAAAAAAAAAAAAAAAAAAAAAAAAAAAAAAAAAAAAAAAAAAAAAAAAAAAAAAAAAAAAAAAAAAAAAAAAAAAAAAAAAAAAAAAAAAAAAAAAAAAAAAAAAAAAAAAAAAAAAAAAAAAAAAAAAAAAAAAAAAAAAAAAAAAAAAAAAAAAAAAAAAAAAAAAAAAAAAAAAAAAAAAAAAAAAAAAAAAAAAAAAAAAAAAAAAAAAAAAAAAAAAAAAAAAAAAAAAAAAAAAAAAAAAAAAAAAAAAAAAAAAAAAAAAAAAAAAAAAAAAAAAAAAAAAAAAAAAAAAAAAAAAAAAAAAAAAAAAAAAAAAAAAAAAAAAAAAAAAAAAAAAAAAAAAAAAAAAAAAAAA=",
                    "dtype": "i4"
                  },
                  "x0": " ",
                  "xaxis": "x",
                  "y": {
                    "bdata": "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",
                    "dtype": "f8"
                  },
                  "y0": " ",
                  "yaxis": "y"
                },
                {
                  "alignmentgroup": "True",
                  "boxpoints": "all",
                  "fillcolor": "rgba(255,255,255,0)",
                  "hoveron": "points",
                  "hovertemplate": "Churn=%{x}<br>CUENTAS DIARIAS=%{y}<extra></extra>",
                  "legendgroup": "1",
                  "line": {
                    "color": "rgba(255,255,255,0)"
                  },
                  "marker": {
                    "color": "#d56e00"
                  },
                  "name": "1",
                  "offsetgroup": "1",
                  "orientation": "v",
                  "pointpos": 0,
                  "showlegend": true,
                  "type": "box",
                  "x": {
                    "bdata": "AQAAAAEAAAABAAAAAQAAAAEAAAABAAAAAQAAAAEAAAABAAAAAQAAAAEAAAABAAAAAQAAAAEAAAABAAAAAQAAAAEAAAABAAAAAQAAAAEAAAABAAAAAQAAAAEAAAABAAAAAQAAAAEAAAABAAAAAQAAAAEAAAABAAAAAQAAAAEAAAABAAAAAQAAAAEAAAABAAAAAQAAAAEAAAABAAAAAQAAAAEAAAABAAAAAQAAAAEAAAABAAAAAQAAAAEAAAABAAAAAQAAAAEAAAABAAAAAQAAAAEAAAABAAAAAQAAAAEAAAABAAAAAQAAAAEAAAABAAAAAQAAAAEAAAABAAAAAQAAAAEAAAABAAAAAQAAAAEAAAABAAAAAQAAAAEAAAABAAAAAQAAAAEAAAABAAAAAQAAAAEAAAABAAAAAQAAAAEAAAABAAAAAQAAAAEAAAABAAAAAQAAAAEAAAABAAAAAQAAAAEAAAABAAAAAQAAAAEAAAABAAAAAQAAAAEAAAABAAAAAQAAAAEAAAABAAAAAQAAAAEAAAABAAAAAQAAAAEAAAABAAAAAQAAAAEAAAABAAAAAQAAAAEAAAABAAAAAQAAAAEAAAABAAAAAQAAAAEAAAABAAAAAQAAAAEAAAABAAAAAQAAAAEAAAABAAAAAQAAAAEAAAABAAAAAQAAAAEAAAABAAAAAQAAAAEAAAABAAAAAQAAAAEAAAABAAAAAQAAAAEAAAABAAAAAQAAAAEAAAABAAAAAQAAAAEAAAABAAAAAQAAAAEAAAABAAAAAQAAAAEAAAABAAAAAQAAAAEAAAABAAAAAQAAAAEAAAABAAAAAQAAAAEAAAABAAAAAQAAAAEAAAABAAAAAQAAAAEAAAABAAAAAQAAAAEAAAABAAAAAQAAAAEAAAABAAAAAQAAAAEAAAABAAAAAQAAAAEAAAABAAAAAQAAAAEAAAABAAAAAQAAAAEAAAABAAAAAQAAAAEAAAABAAAAAQAAAAEAAAABAAAAAQAAAAEAAAABAAAAAQAAAAEAAAABAAAAAQAAAAEAAAABAAAAAQAAAAEAAAABAAAAAQAAAAEAAAABAAAAAQAAAAEAAAABAAAAAQAAAAEAAAABAAAAAQAAAAEAAAABAAAAAQAAAAEAAAABAAAAAQAAAAEAAAABAAAAAQAAAAEAAAABAAAAAQAAAAEAAAABAAAAAQAAAAEAAAABAAAAAQAAAAEAAAABAAAAAQAAAAEAAAABAAAAAQAAAAEAAAABAAAAAQAAAAEAAAABAAAAAQAAAAEAAAABAAAAAQAAAAEAAAABAAAAAQAAAAEAAAABAAAAAQAAAAEAAAABAAAAAQAAAAEAAAABAAAAAQAAAAEAAAABAAAAAQAAAAEAAAABAAAAAQAAAAEAAAABAAAAAQAAAAEAAAABAAAAAQAAAAEAAAABAAAAAQAAAAEAAAABAAAAAQAAAAEAAAABAAAAAQAAAAEAAAABAAAAAQAAAAEAAAABAAAAAQAAAAEAAAABAAAAAQAAAAEAAAABAAAAAQAAAAEAAAABAAAAAQAAAAEAAAABAAAAAQAAAAEAAAABAAAAAQAAAAEAAAABAAAAAQAAAAEAAAABAAAAAQAAAAEAAAABAAAAAQAAAAEAAAABAAAAAQAAAAEAAAABAAAAAQAAAAEAAAABAAAAAQAAAAEAAAABAAAAAQAAAAEAAAABAAAAAQAAAAEAAAABAAAAAQAAAAEAAAABAAAAAQAAAAEAAAABAAAAAQAAAAEAAAABAAAAAQAAAAEAAAABAAAAAQAAAAEAAAABAAAAAQAAAAEAAAABAAAAAQAAAAEAAAABAAAAAQAAAAEAAAABAAAAAQAAAAEAAAABAAAAAQAAAAEAAAABAAAAAQAAAAEAAAABAAAAAQAAAAEAAAABAAAAAQAAAAEAAAABAAAAAQAAAAEAAAABAAAAAQAAAAEAAAABAAAAAQAAAAEAAAABAAAAAQAAAAEAAAABAAAAAQAAAAEAAAABAAAAAQAAAAEAAAABAAAAAQAAAAEAAAABAAAAAQAAAAEAAAABAAAAAQAAAAEAAAABAAAAAQAAAAEAAAABAAAAAQAAAAEAAAABAAAAAQAAAAEAAAABAAAAAQAAAAEAAAABAAAAAQAAAAEAAAABAAAAAQAAAAEAAAABAAAAAQAAAAEAAAABAAAAAQAAAAEAAAABAAAAAQAAAAEAAAABAAAAAQAAAAEAAAABAAAAAQAAAAEAAAABAAAAAQAAAAEAAAABAAAAAQAAAAEAAAABAAAAAQAAAAEAAAABAAAAAQAAAAEAAAABAAAAAQAAAAEAAAABAAAAAQAAAAEAAAABAAAAAQAAAAEAAAABAAAAAQAAAAEAAAABAAAAAQAAAAEAAAABAAAAAQAAAAEAAAABAAAAAQAAAAEAAAABAAAAAQAAAAEAAAABAAAAAQAAAAEAAAABAAAAAQAAAAEAAAABAAAAAQAAAAEAAAABAAAAAQAAAAEAAAABAAAAAQAAAAEAAAABAAAAAQAAAAEAAAABAAAAAQAAAAEAAAABAAAAAQAAAAEAAAABAAAAAQAAAAEAAAABAAAAAQAAAAEAAAABAAAAAQAAAAEAAAABAAAAAQAAAAEAAAABAAAAAQAAAAEAAAABAAAAAQAAAAEAAAABAAAAAQAAAAEAAAABAAAAAQAAAAEAAAABAAAAAQAAAAEAAAABAAAAAQAAAAEAAAABAAAAAQAAAAEAAAABAAAAAQAAAAEAAAABAAAAAQAAAAEAAAABAAAAAQAAAAEAAAABAAAAAQAAAAEAAAABAAAAAQAAAAEAAAABAAAAAQAAAAEAAAABAAAAAQAAAAEAAAABAAAAAQAAAAEAAAABAAAAAQAAAAEAAAABAAAAAQAAAAEAAAABAAAAAQAAAAEAAAABAAAAAQAAAAEAAAABAAAAAQAAAAEAAAABAAAAAQAAAAEAAAABAAAAAQAAAAEAAAABAAAAAQAAAAEAAAABAAAAAQAAAAEAAAABAAAAAQAAAAEAAAABAAAAAQAAAAEAAAABAAAAAQAAAAEAAAABAAAAAQAAAAEAAAABAAAAAQAAAAEAAAABAAAAAQAAAAEAAAABAAAAAQAAAAEAAAABAAAAAQAAAAEAAAABAAAAAQAAAAEAAAABAAAAAQAAAAEAAAABAAAAAQAAAAEAAAABAAAAAQAAAAEAAAABAAAAAQAAAAEAAAABAAAAAQAAAAEAAAABAAAAAQAAAAEAAAABAAAAAQAAAAEAAAABAAAAAQAAAAEAAAABAAAAAQAAAAEAAAABAAAAAQAAAAEAAAABAAAAAQAAAAEAAAABAAAAAQAAAAEAAAABAAAAAQAAAAEAAAABAAAAAQAAAAEAAAABAAAAAQAAAAEAAAABAAAAAQAAAAEAAAABAAAAAQAAAAEAAAABAAAAAQAAAAEAAAABAAAAAQAAAAEAAAABAAAAAQAAAAEAAAABAAAAAQAAAAEAAAABAAAAAQAAAAEAAAABAAAAAQAAAAEAAAABAAAAAQAAAAEAAAABAAAAAQAAAAEAAAABAAAAAQAAAAEAAAABAAAAAQAAAAEAAAABAAAAAQAAAAEAAAABAAAAAQAAAAEAAAABAAAAAQAAAAEAAAABAAAAAQAAAAEAAAABAAAAAQAAAAEAAAABAAAAAQAAAAEAAAABAAAAAQAAAAEAAAABAAAAAQAAAAEAAAABAAAAAQAAAAEAAAABAAAAAQAAAAEAAAABAAAAAQAAAAEAAAABAAAAAQAAAAEAAAABAAAAAQAAAAEAAAABAAAAAQAAAAEAAAABAAAAAQAAAAEAAAABAAAAAQAAAAEAAAABAAAAAQAAAAEAAAABAAAAAQAAAAEAAAABAAAAAQAAAAEAAAABAAAAAQAAAAEAAAABAAAAAQAAAAEAAAABAAAAAQAAAAEAAAABAAAAAQAAAAEAAAABAAAAAQAAAAEAAAABAAAAAQAAAAEAAAABAAAAAQAAAAEAAAABAAAAAQAAAAEAAAABAAAAAQAAAAEAAAABAAAAAQAAAAEAAAABAAAAAQAAAAEAAAABAAAAAQAAAAEAAAABAAAAAQAAAAEAAAABAAAAAQAAAAEAAAABAAAAAQAAAAEAAAABAAAAAQAAAAEAAAABAAAAAQAAAAEAAAABAAAAAQAAAAEAAAABAAAAAQAAAAEAAAABAAAAAQAAAAEAAAABAAAAAQAAAAEAAAABAAAAAQAAAAEAAAABAAAAAQAAAAEAAAABAAAAAQAAAAEAAAABAAAAAQAAAAEAAAABAAAAAQAAAAEAAAABAAAAAQAAAAEAAAABAAAAAQAAAAEAAAABAAAAAQAAAAEAAAABAAAAAQAAAAEAAAABAAAAAQAAAAEAAAABAAAAAQAAAAEAAAABAAAAAQAAAAEAAAABAAAAAQAAAAEAAAABAAAAAQAAAAEAAAABAAAAAQAAAAEAAAABAAAAAQAAAAEAAAABAAAAAQAAAAEAAAABAAAAAQAAAAEAAAABAAAAAQAAAAEAAAABAAAAAQAAAAEAAAABAAAAAQAAAAEAAAABAAAAAQAAAAEAAAABAAAAAQAAAAEAAAABAAAAAQAAAAEAAAABAAAAAQAAAAEAAAABAAAAAQAAAAEAAAABAAAAAQAAAAEAAAABAAAAAQAAAAEAAAABAAAAAQAAAAEAAAABAAAAAQAAAAEAAAABAAAAAQAAAAEAAAABAAAAAQAAAAEAAAABAAAAAQAAAAEAAAABAAAAAQAAAAEAAAABAAAAAQAAAAEAAAABAAAAAQAAAAEAAAABAAAAAQAAAAEAAAABAAAAAQAAAAEAAAABAAAAAQAAAAEAAAABAAAAAQAAAAEAAAABAAAAAQAAAAEAAAABAAAAAQAAAAEAAAABAAAAAQAAAAEAAAABAAAAAQAAAAEAAAABAAAAAQAAAAEAAAABAAAAAQAAAAEAAAABAAAAAQAAAAEAAAABAAAAAQAAAAEAAAABAAAAAQAAAAEAAAABAAAAAQAAAAEAAAABAAAAAQAAAAEAAAABAAAAAQAAAAEAAAABAAAAAQAAAAEAAAABAAAAAQAAAAEAAAABAAAAAQAAAAEAAAABAAAAAQAAAAEAAAABAAAAAQAAAAEAAAABAAAAAQAAAAEAAAABAAAAAQAAAAEAAAABAAAAAQAAAAEAAAABAAAAAQAAAAEAAAABAAAAAQAAAAEAAAABAAAAAQAAAAEAAAABAAAAAQAAAAEAAAABAAAAAQAAAAEAAAABAAAAAQAAAAEAAAABAAAAAQAAAAEAAAABAAAAAQAAAAEAAAABAAAAAQAAAAEAAAABAAAAAQAAAAEAAAABAAAAAQAAAAEAAAABAAAAAQAAAAEAAAABAAAAAQAAAAEAAAABAAAAAQAAAAEAAAABAAAAAQAAAAEAAAABAAAAAQAAAAEAAAABAAAAAQAAAAEAAAABAAAAAQAAAAEAAAABAAAAAQAAAAEAAAABAAAAAQAAAAEAAAABAAAAAQAAAAEAAAABAAAAAQAAAAEAAAABAAAAAQAAAAEAAAABAAAAAQAAAAEAAAABAAAAAQAAAAEAAAABAAAAAQAAAAEAAAABAAAAAQAAAAEAAAABAAAAAQAAAAEAAAABAAAAAQAAAAEAAAABAAAAAQAAAAEAAAABAAAAAQAAAAEAAAABAAAAAQAAAAEAAAABAAAAAQAAAAEAAAABAAAAAQAAAAEAAAABAAAAAQAAAAEAAAABAAAAAQAAAAEAAAABAAAAAQAAAAEAAAABAAAAAQAAAAEAAAABAAAAAQAAAAEAAAABAAAAAQAAAAEAAAABAAAAAQAAAAEAAAABAAAAAQAAAAEAAAABAAAAAQAAAAEAAAABAAAAAQAAAAEAAAABAAAAAQAAAAEAAAABAAAAAQAAAAEAAAABAAAAAQAAAAEAAAABAAAAAQAAAAEAAAABAAAAAQAAAAEAAAABAAAAAQAAAAEAAAABAAAAAQAAAAEAAAABAAAAAQAAAAEAAAABAAAAAQAAAAEAAAABAAAAAQAAAAEAAAABAAAAAQAAAAEAAAABAAAAAQAAAAEAAAABAAAAAQAAAAEAAAABAAAAAQAAAAEAAAABAAAAAQAAAAEAAAABAAAAAQAAAAEAAAABAAAAAQAAAAEAAAABAAAAAQAAAAEAAAABAAAAAQAAAAEAAAABAAAAAQAAAAEAAAABAAAAAQAAAAEAAAABAAAAAQAAAAEAAAABAAAAAQAAAAEAAAABAAAAAQAAAAEAAAABAAAAAQAAAAEAAAABAAAAAQAAAAEAAAABAAAAAQAAAAEAAAABAAAAAQAAAAEAAAABAAAAAQAAAAEAAAABAAAAAQAAAAEAAAABAAAAAQAAAAEAAAABAAAAAQAAAAEAAAABAAAAAQAAAAEAAAABAAAAAQAAAAEAAAABAAAAAQAAAAEAAAABAAAAAQAAAAEAAAABAAAAAQAAAAEAAAABAAAAAQAAAAEAAAABAAAAAQAAAAEAAAABAAAAAQAAAAEAAAABAAAAAQAAAAEAAAABAAAAAQAAAAEAAAABAAAAAQAAAAEAAAABAAAAAQAAAAEAAAABAAAAAQAAAAEAAAABAAAAAQAAAAEAAAABAAAAAQAAAAEAAAABAAAAAQAAAAEAAAABAAAAAQAAAAEAAAABAAAAAQAAAAEAAAABAAAAAQAAAAEAAAABAAAAAQAAAAEAAAABAAAAAQAAAAEAAAABAAAAAQAAAAEAAAABAAAAAQAAAAEAAAABAAAAAQAAAAEAAAABAAAAAQAAAAEAAAABAAAAAQAAAAEAAAABAAAAAQAAAAEAAAABAAAAAQAAAAEAAAABAAAAAQAAAAEAAAABAAAAAQAAAAEAAAABAAAAAQAAAAEAAAABAAAAAQAAAAEAAAABAAAAAQAAAAEAAAABAAAAAQAAAAEAAAABAAAAAQAAAAEAAAABAAAAAQAAAAEAAAABAAAAAQAAAAEAAAABAAAAAQAAAAEAAAABAAAAAQAAAAEAAAABAAAAAQAAAAEAAAABAAAAAQAAAAEAAAABAAAAAQAAAAEAAAABAAAAAQAAAAEAAAABAAAAAQAAAAEAAAABAAAAAQAAAAEAAAABAAAAAQAAAAEAAAABAAAAAQAAAAEAAAABAAAAAQAAAAEAAAABAAAAAQAAAAEAAAABAAAAAQAAAAEAAAABAAAAAQAAAAEAAAABAAAAAQAAAAEAAAABAAAAAQAAAAEAAAABAAAAAQAAAAEAAAABAAAAAQAAAAEAAAABAAAAAQAAAAEAAAABAAAAAQAAAAEAAAABAAAAAQAAAAEAAAABAAAAAQAAAAEAAAABAAAAAQAAAAEAAAABAAAAAQAAAAEAAAABAAAAAQAAAAEAAAABAAAAAQAAAAEAAAABAAAAAQAAAAEAAAABAAAAAQAAAAEAAAABAAAAAQAAAAEAAAABAAAAAQAAAAEAAAABAAAAAQAAAAEAAAABAAAAAQAAAAEAAAABAAAAAQAAAAEAAAABAAAAAQAAAAEAAAABAAAAAQAAAAEAAAABAAAAAQAAAAEAAAABAAAAAQAAAAEAAAABAAAAAQAAAAEAAAABAAAAAQAAAAEAAAABAAAAAQAAAAEAAAABAAAAAQAAAAEAAAABAAAAAQAAAAEAAAABAAAAAQAAAAEAAAABAAAAAQAAAAEAAAABAAAAAQAAAAEAAAABAAAAAQAAAAEAAAABAAAAAQAAAAEAAAABAAAAAQAAAAEAAAABAAAAAQAAAAEAAAABAAAAAQAAAAEAAAABAAAAAQAAAAEAAAABAAAAAQAAAAEAAAABAAAAAQAAAAEAAAABAAAAAQAAAAEAAAABAAAAAQAAAAEAAAABAAAAAQAAAAEAAAABAAAAAQAAAAEAAAABAAAAAQAAAAEAAAABAAAAAQAAAAEAAAABAAAAAQAAAAEAAAABAAAAAQAAAAEAAAABAAAAAQAAAAEAAAABAAAAAQAAAAEAAAABAAAAAQAAAAEAAAABAAAAAQAAAAEAAAABAAAAAQAAAAEAAAABAAAAAQAAAAEAAAABAAAAAQAAAAEAAAABAAAAAQAAAAEAAAABAAAAAQAAAAEAAAABAAAAAQAAAAEAAAABAAAAAQAAAAEAAAABAAAAAQAAAAEAAAABAAAAAQAAAAEAAAABAAAAAQAAAAEAAAABAAAAAQAAAAEAAAABAAAAAQAAAAEAAAABAAAAAQAAAAEAAAABAAAAAQAAAAEAAAABAAAAAQAAAAEAAAABAAAAAQAAAAEAAAABAAAAAQAAAAEAAAABAAAAAQAAAAEAAAABAAAAAQAAAAEAAAABAAAAAQAAAAEAAAABAAAAAQAAAAEAAAABAAAAAQAAAAEAAAABAAAAAQAAAAEAAAABAAAAAQAAAAEAAAABAAAAAQAAAAEAAAABAAAAAQAAAAEAAAABAAAAAQAAAAEAAAABAAAAAQAAAAEAAAABAAAAAQAAAAEAAAABAAAAAQAAAAEAAAABAAAAAQAAAAEAAAABAAAAAQAAAAEAAAABAAAAAQAAAAEAAAABAAAAAQAAAAEAAAABAAAAAQAAAAEAAAABAAAAAQAAAAEAAAABAAAAAQAAAAEAAAABAAAAAQAAAAEAAAABAAAAAQAAAAEAAAABAAAAAQAAAAEAAAABAAAAAQAAAAEAAAABAAAAAQAAAAEAAAABAAAAAQAAAAEAAAABAAAAAQAAAAEAAAABAAAAAQAAAAEAAAABAAAAAQAAAAEAAAABAAAAAQAAAAEAAAABAAAAAQAAAAEAAAABAAAAAQAAAAEAAAABAAAAAQAAAAEAAAABAAAAAQAAAAEAAAABAAAAAQAAAAEAAAABAAAAAQAAAAEAAAABAAAAAQAAAAEAAAABAAAAAQAAAAEAAAABAAAAAQAAAAEAAAABAAAAAQAAAAEAAAABAAAAAQAAAAEAAAABAAAAAQAAAAEAAAABAAAAAQAAAAEAAAABAAAAAQAAAAEAAAABAAAAAQAAAAEAAAABAAAAAQAAAAEAAAABAAAAAQAAAAEAAAABAAAAAQAAAAEAAAABAAAAAQAAAAEAAAABAAAAAQAAAAEAAAABAAAAAQAAAAEAAAABAAAAAQAAAAEAAAABAAAAAQAAAAEAAAABAAAAAQAAAAEAAAABAAAAAQAAAAEAAAABAAAAAQAAAAEAAAABAAAAAQAAAAEAAAABAAAAAQAAAAEAAAABAAAAAQAAAAEAAAABAAAAAQAAAAEAAAABAAAAAQAAAAEAAAABAAAAAQAAAAEAAAABAAAAAQAAAAEAAAABAAAAAQAAAAEAAAABAAAAAQAAAAEAAAABAAAAAQAAAAEAAAABAAAAAQAAAAEAAAABAAAAAQAAAAEAAAABAAAAAQAAAAEAAAABAAAAAQAAAAEAAAABAAAAAQAAAAEAAAABAAAAAQAAAAEAAAABAAAAAQAAAAEAAAABAAAAAQAAAAEAAAABAAAAAQAAAAEAAAABAAAAAQAAAAEAAAABAAAAAQAAAAEAAAABAAAAAQAAAAEAAAABAAAAAQAAAAEAAAABAAAAAQAAAAEAAAABAAAAAQAAAAEAAAABAAAAAQAAAAEAAAABAAAAAQAAAAEAAAABAAAAAQAAAAEAAAABAAAAAQAAAAEAAAABAAAAAQAAAAEAAAABAAAAAQAAAAEAAAABAAAAAQAAAAEAAAABAAAAAQAAAAEAAAABAAAAAQAAAAEAAAABAAAAAQAAAAEAAAABAAAAAQAAAAEAAAABAAAAAQAAAAEAAAABAAAAAQAAAAEAAAABAAAAAQAAAAEAAAABAAAAAQAAAAEAAAABAAAAAQAAAAEAAAABAAAAAQAAAAEAAAABAAAAAQAAAAEAAAABAAAAAQAAAAEAAAABAAAAAQAAAAEAAAABAAAAAQAAAAEAAAABAAAAAQAAAAEAAAABAAAA",
                    "dtype": "i4"
                  },
                  "x0": " ",
                  "xaxis": "x",
                  "y": {
                    "bdata": "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",
                    "dtype": "f8"
                  },
                  "y0": " ",
                  "yaxis": "y"
                }
              ],
              "layout": {
                "boxmode": "overlay",
                "legend": {
                  "title": {
                    "text": "Churn"
                  },
                  "tracegroupgap": 0
                },
                "template": {
                  "data": {
                    "bar": [
                      {
                        "error_x": {
                          "color": "#2a3f5f"
                        },
                        "error_y": {
                          "color": "#2a3f5f"
                        },
                        "marker": {
                          "line": {
                            "color": "#E5ECF6",
                            "width": 0.5
                          },
                          "pattern": {
                            "fillmode": "overlay",
                            "size": 10,
                            "solidity": 0.2
                          }
                        },
                        "type": "bar"
                      }
                    ],
                    "barpolar": [
                      {
                        "marker": {
                          "line": {
                            "color": "#E5ECF6",
                            "width": 0.5
                          },
                          "pattern": {
                            "fillmode": "overlay",
                            "size": 10,
                            "solidity": 0.2
                          }
                        },
                        "type": "barpolar"
                      }
                    ],
                    "carpet": [
                      {
                        "aaxis": {
                          "endlinecolor": "#2a3f5f",
                          "gridcolor": "white",
                          "linecolor": "white",
                          "minorgridcolor": "white",
                          "startlinecolor": "#2a3f5f"
                        },
                        "baxis": {
                          "endlinecolor": "#2a3f5f",
                          "gridcolor": "white",
                          "linecolor": "white",
                          "minorgridcolor": "white",
                          "startlinecolor": "#2a3f5f"
                        },
                        "type": "carpet"
                      }
                    ],
                    "choropleth": [
                      {
                        "colorbar": {
                          "outlinewidth": 0,
                          "ticks": ""
                        },
                        "type": "choropleth"
                      }
                    ],
                    "contour": [
                      {
                        "colorbar": {
                          "outlinewidth": 0,
                          "ticks": ""
                        },
                        "colorscale": [
                          [
                            0,
                            "#0d0887"
                          ],
                          [
                            0.1111111111111111,
                            "#46039f"
                          ],
                          [
                            0.2222222222222222,
                            "#7201a8"
                          ],
                          [
                            0.3333333333333333,
                            "#9c179e"
                          ],
                          [
                            0.4444444444444444,
                            "#bd3786"
                          ],
                          [
                            0.5555555555555556,
                            "#d8576b"
                          ],
                          [
                            0.6666666666666666,
                            "#ed7953"
                          ],
                          [
                            0.7777777777777778,
                            "#fb9f3a"
                          ],
                          [
                            0.8888888888888888,
                            "#fdca26"
                          ],
                          [
                            1,
                            "#f0f921"
                          ]
                        ],
                        "type": "contour"
                      }
                    ],
                    "contourcarpet": [
                      {
                        "colorbar": {
                          "outlinewidth": 0,
                          "ticks": ""
                        },
                        "type": "contourcarpet"
                      }
                    ],
                    "heatmap": [
                      {
                        "colorbar": {
                          "outlinewidth": 0,
                          "ticks": ""
                        },
                        "colorscale": [
                          [
                            0,
                            "#0d0887"
                          ],
                          [
                            0.1111111111111111,
                            "#46039f"
                          ],
                          [
                            0.2222222222222222,
                            "#7201a8"
                          ],
                          [
                            0.3333333333333333,
                            "#9c179e"
                          ],
                          [
                            0.4444444444444444,
                            "#bd3786"
                          ],
                          [
                            0.5555555555555556,
                            "#d8576b"
                          ],
                          [
                            0.6666666666666666,
                            "#ed7953"
                          ],
                          [
                            0.7777777777777778,
                            "#fb9f3a"
                          ],
                          [
                            0.8888888888888888,
                            "#fdca26"
                          ],
                          [
                            1,
                            "#f0f921"
                          ]
                        ],
                        "type": "heatmap"
                      }
                    ],
                    "histogram": [
                      {
                        "marker": {
                          "pattern": {
                            "fillmode": "overlay",
                            "size": 10,
                            "solidity": 0.2
                          }
                        },
                        "type": "histogram"
                      }
                    ],
                    "histogram2d": [
                      {
                        "colorbar": {
                          "outlinewidth": 0,
                          "ticks": ""
                        },
                        "colorscale": [
                          [
                            0,
                            "#0d0887"
                          ],
                          [
                            0.1111111111111111,
                            "#46039f"
                          ],
                          [
                            0.2222222222222222,
                            "#7201a8"
                          ],
                          [
                            0.3333333333333333,
                            "#9c179e"
                          ],
                          [
                            0.4444444444444444,
                            "#bd3786"
                          ],
                          [
                            0.5555555555555556,
                            "#d8576b"
                          ],
                          [
                            0.6666666666666666,
                            "#ed7953"
                          ],
                          [
                            0.7777777777777778,
                            "#fb9f3a"
                          ],
                          [
                            0.8888888888888888,
                            "#fdca26"
                          ],
                          [
                            1,
                            "#f0f921"
                          ]
                        ],
                        "type": "histogram2d"
                      }
                    ],
                    "histogram2dcontour": [
                      {
                        "colorbar": {
                          "outlinewidth": 0,
                          "ticks": ""
                        },
                        "colorscale": [
                          [
                            0,
                            "#0d0887"
                          ],
                          [
                            0.1111111111111111,
                            "#46039f"
                          ],
                          [
                            0.2222222222222222,
                            "#7201a8"
                          ],
                          [
                            0.3333333333333333,
                            "#9c179e"
                          ],
                          [
                            0.4444444444444444,
                            "#bd3786"
                          ],
                          [
                            0.5555555555555556,
                            "#d8576b"
                          ],
                          [
                            0.6666666666666666,
                            "#ed7953"
                          ],
                          [
                            0.7777777777777778,
                            "#fb9f3a"
                          ],
                          [
                            0.8888888888888888,
                            "#fdca26"
                          ],
                          [
                            1,
                            "#f0f921"
                          ]
                        ],
                        "type": "histogram2dcontour"
                      }
                    ],
                    "mesh3d": [
                      {
                        "colorbar": {
                          "outlinewidth": 0,
                          "ticks": ""
                        },
                        "type": "mesh3d"
                      }
                    ],
                    "parcoords": [
                      {
                        "line": {
                          "colorbar": {
                            "outlinewidth": 0,
                            "ticks": ""
                          }
                        },
                        "type": "parcoords"
                      }
                    ],
                    "pie": [
                      {
                        "automargin": true,
                        "type": "pie"
                      }
                    ],
                    "scatter": [
                      {
                        "fillpattern": {
                          "fillmode": "overlay",
                          "size": 10,
                          "solidity": 0.2
                        },
                        "type": "scatter"
                      }
                    ],
                    "scatter3d": [
                      {
                        "line": {
                          "colorbar": {
                            "outlinewidth": 0,
                            "ticks": ""
                          }
                        },
                        "marker": {
                          "colorbar": {
                            "outlinewidth": 0,
                            "ticks": ""
                          }
                        },
                        "type": "scatter3d"
                      }
                    ],
                    "scattercarpet": [
                      {
                        "marker": {
                          "colorbar": {
                            "outlinewidth": 0,
                            "ticks": ""
                          }
                        },
                        "type": "scattercarpet"
                      }
                    ],
                    "scattergeo": [
                      {
                        "marker": {
                          "colorbar": {
                            "outlinewidth": 0,
                            "ticks": ""
                          }
                        },
                        "type": "scattergeo"
                      }
                    ],
                    "scattergl": [
                      {
                        "marker": {
                          "colorbar": {
                            "outlinewidth": 0,
                            "ticks": ""
                          }
                        },
                        "type": "scattergl"
                      }
                    ],
                    "scattermap": [
                      {
                        "marker": {
                          "colorbar": {
                            "outlinewidth": 0,
                            "ticks": ""
                          }
                        },
                        "type": "scattermap"
                      }
                    ],
                    "scattermapbox": [
                      {
                        "marker": {
                          "colorbar": {
                            "outlinewidth": 0,
                            "ticks": ""
                          }
                        },
                        "type": "scattermapbox"
                      }
                    ],
                    "scatterpolar": [
                      {
                        "marker": {
                          "colorbar": {
                            "outlinewidth": 0,
                            "ticks": ""
                          }
                        },
                        "type": "scatterpolar"
                      }
                    ],
                    "scatterpolargl": [
                      {
                        "marker": {
                          "colorbar": {
                            "outlinewidth": 0,
                            "ticks": ""
                          }
                        },
                        "type": "scatterpolargl"
                      }
                    ],
                    "scatterternary": [
                      {
                        "marker": {
                          "colorbar": {
                            "outlinewidth": 0,
                            "ticks": ""
                          }
                        },
                        "type": "scatterternary"
                      }
                    ],
                    "surface": [
                      {
                        "colorbar": {
                          "outlinewidth": 0,
                          "ticks": ""
                        },
                        "colorscale": [
                          [
                            0,
                            "#0d0887"
                          ],
                          [
                            0.1111111111111111,
                            "#46039f"
                          ],
                          [
                            0.2222222222222222,
                            "#7201a8"
                          ],
                          [
                            0.3333333333333333,
                            "#9c179e"
                          ],
                          [
                            0.4444444444444444,
                            "#bd3786"
                          ],
                          [
                            0.5555555555555556,
                            "#d8576b"
                          ],
                          [
                            0.6666666666666666,
                            "#ed7953"
                          ],
                          [
                            0.7777777777777778,
                            "#fb9f3a"
                          ],
                          [
                            0.8888888888888888,
                            "#fdca26"
                          ],
                          [
                            1,
                            "#f0f921"
                          ]
                        ],
                        "type": "surface"
                      }
                    ],
                    "table": [
                      {
                        "cells": {
                          "fill": {
                            "color": "#EBF0F8"
                          },
                          "line": {
                            "color": "white"
                          }
                        },
                        "header": {
                          "fill": {
                            "color": "#C8D4E3"
                          },
                          "line": {
                            "color": "white"
                          }
                        },
                        "type": "table"
                      }
                    ]
                  },
                  "layout": {
                    "annotationdefaults": {
                      "arrowcolor": "#2a3f5f",
                      "arrowhead": 0,
                      "arrowwidth": 1
                    },
                    "autotypenumbers": "strict",
                    "coloraxis": {
                      "colorbar": {
                        "outlinewidth": 0,
                        "ticks": ""
                      }
                    },
                    "colorscale": {
                      "diverging": [
                        [
                          0,
                          "#8e0152"
                        ],
                        [
                          0.1,
                          "#c51b7d"
                        ],
                        [
                          0.2,
                          "#de77ae"
                        ],
                        [
                          0.3,
                          "#f1b6da"
                        ],
                        [
                          0.4,
                          "#fde0ef"
                        ],
                        [
                          0.5,
                          "#f7f7f7"
                        ],
                        [
                          0.6,
                          "#e6f5d0"
                        ],
                        [
                          0.7,
                          "#b8e186"
                        ],
                        [
                          0.8,
                          "#7fbc41"
                        ],
                        [
                          0.9,
                          "#4d9221"
                        ],
                        [
                          1,
                          "#276419"
                        ]
                      ],
                      "sequential": [
                        [
                          0,
                          "#0d0887"
                        ],
                        [
                          0.1111111111111111,
                          "#46039f"
                        ],
                        [
                          0.2222222222222222,
                          "#7201a8"
                        ],
                        [
                          0.3333333333333333,
                          "#9c179e"
                        ],
                        [
                          0.4444444444444444,
                          "#bd3786"
                        ],
                        [
                          0.5555555555555556,
                          "#d8576b"
                        ],
                        [
                          0.6666666666666666,
                          "#ed7953"
                        ],
                        [
                          0.7777777777777778,
                          "#fb9f3a"
                        ],
                        [
                          0.8888888888888888,
                          "#fdca26"
                        ],
                        [
                          1,
                          "#f0f921"
                        ]
                      ],
                      "sequentialminus": [
                        [
                          0,
                          "#0d0887"
                        ],
                        [
                          0.1111111111111111,
                          "#46039f"
                        ],
                        [
                          0.2222222222222222,
                          "#7201a8"
                        ],
                        [
                          0.3333333333333333,
                          "#9c179e"
                        ],
                        [
                          0.4444444444444444,
                          "#bd3786"
                        ],
                        [
                          0.5555555555555556,
                          "#d8576b"
                        ],
                        [
                          0.6666666666666666,
                          "#ed7953"
                        ],
                        [
                          0.7777777777777778,
                          "#fb9f3a"
                        ],
                        [
                          0.8888888888888888,
                          "#fdca26"
                        ],
                        [
                          1,
                          "#f0f921"
                        ]
                      ]
                    },
                    "colorway": [
                      "#636efa",
                      "#EF553B",
                      "#00cc96",
                      "#ab63fa",
                      "#FFA15A",
                      "#19d3f3",
                      "#FF6692",
                      "#B6E880",
                      "#FF97FF",
                      "#FECB52"
                    ],
                    "font": {
                      "color": "#2a3f5f"
                    },
                    "geo": {
                      "bgcolor": "white",
                      "lakecolor": "white",
                      "landcolor": "#E5ECF6",
                      "showlakes": true,
                      "showland": true,
                      "subunitcolor": "white"
                    },
                    "hoverlabel": {
                      "align": "left"
                    },
                    "hovermode": "closest",
                    "mapbox": {
                      "style": "light"
                    },
                    "paper_bgcolor": "white",
                    "plot_bgcolor": "#E5ECF6",
                    "polar": {
                      "angularaxis": {
                        "gridcolor": "white",
                        "linecolor": "white",
                        "ticks": ""
                      },
                      "bgcolor": "#E5ECF6",
                      "radialaxis": {
                        "gridcolor": "white",
                        "linecolor": "white",
                        "ticks": ""
                      }
                    },
                    "scene": {
                      "xaxis": {
                        "backgroundcolor": "#E5ECF6",
                        "gridcolor": "white",
                        "gridwidth": 2,
                        "linecolor": "white",
                        "showbackground": true,
                        "ticks": "",
                        "zerolinecolor": "white"
                      },
                      "yaxis": {
                        "backgroundcolor": "#E5ECF6",
                        "gridcolor": "white",
                        "gridwidth": 2,
                        "linecolor": "white",
                        "showbackground": true,
                        "ticks": "",
                        "zerolinecolor": "white"
                      },
                      "zaxis": {
                        "backgroundcolor": "#E5ECF6",
                        "gridcolor": "white",
                        "gridwidth": 2,
                        "linecolor": "white",
                        "showbackground": true,
                        "ticks": "",
                        "zerolinecolor": "white"
                      }
                    },
                    "shapedefaults": {
                      "line": {
                        "color": "#2a3f5f"
                      }
                    },
                    "ternary": {
                      "aaxis": {
                        "gridcolor": "white",
                        "linecolor": "white",
                        "ticks": ""
                      },
                      "baxis": {
                        "gridcolor": "white",
                        "linecolor": "white",
                        "ticks": ""
                      },
                      "bgcolor": "#E5ECF6",
                      "caxis": {
                        "gridcolor": "white",
                        "linecolor": "white",
                        "ticks": ""
                      }
                    },
                    "title": {
                      "x": 0.05
                    },
                    "xaxis": {
                      "automargin": true,
                      "gridcolor": "white",
                      "linecolor": "white",
                      "ticks": "",
                      "title": {
                        "standoff": 15
                      },
                      "zerolinecolor": "white",
                      "zerolinewidth": 2
                    },
                    "yaxis": {
                      "automargin": true,
                      "gridcolor": "white",
                      "linecolor": "white",
                      "ticks": "",
                      "title": {
                        "standoff": 15
                      },
                      "zerolinecolor": "white",
                      "zerolinewidth": 2
                    }
                  }
                },
                "title": {
                  "text": "RELACIÓN ENTRE LAS CUENTAS DIARAS Y EL ESTADO DEL CLIENTE"
                },
                "xaxis": {
                  "anchor": "y",
                  "categoryarray": [
                    0,
                    1
                  ],
                  "categoryorder": "array",
                  "domain": [
                    0,
                    1
                  ],
                  "title": {
                    "text": "Churn"
                  }
                },
                "yaxis": {
                  "anchor": "x",
                  "domain": [
                    0,
                    1
                  ],
                  "title": {
                    "text": "CUENTAS DIARIAS"
                  }
                }
              }
            }
          },
          "metadata": {},
          "output_type": "display_data"
        }
      ],
      "source": [
        "import plotly.express as px\n",
        "\n",
        "fig = px.strip(\n",
        "    df_tel,\n",
        "    x=\"Churn\",\n",
        "    y=\"cuentas_diarias\",\n",
        "    color=\"Churn\",\n",
        "    color_discrete_map={0: '#0083d5', 1: '#d56e00'},\n",
        "    title=\"RELACIÓN ENTRE LAS CUENTAS DIARAS Y EL ESTADO DEL CLIENTE\",\n",
        "    stripmode='overlay',\n",
        "    labels={'churn': 'ESTADO DEL CLIENTE', 'cuentas_diarias': 'CUENTAS DIARIAS'}\n",
        ")\n",
        "fig.show()"
      ]
    },
    {
      "cell_type": "markdown",
      "metadata": {},
      "source": [
        "#  Gráfico de la relación entre la cantidad de servicios y el estado del cliente"
      ]
    },
    {
      "cell_type": "code",
      "execution_count": 14,
      "metadata": {},
      "outputs": [
        {
          "data": {
            "application/vnd.plotly.v1+json": {
              "config": {
                "plotlyServerURL": "https://plot.ly"
              },
              "data": [
                {
                  "alignmentgroup": "True",
                  "hovertemplate": "ESTADO DEL CLIENTE=%{x}<br>CANTIDAD DE SERVICIOS=%{y}<extra></extra>",
                  "legendgroup": "0",
                  "marker": {
                    "color": "#0083d5"
                  },
                  "name": "0",
                  "notched": false,
                  "offsetgroup": "0",
                  "orientation": "v",
                  "showlegend": true,
                  "type": "box",
                  "x": {
                    "bdata": "AAAAAAAAAAAAAAAAAAAAAAAAAAAAAAAAAAAAAAAAAAAAAAAAAAAAAAAAAAAAAAAAAAAAAAAAAAAAAAAAAAAAAAAAAAAAAAAAAAAAAAAAAAAAAAAAAAAAAAAAAAAAAAAAAAAAAAAAAAAAAAAAAAAAAAAAAAAAAAAAAAAAAAAAAAAAAAAAAAAAAAAAAAAAAAAAAAAAAAAAAAAAAAAAAAAAAAAAAAAAAAAAAAAAAAAAAAAAAAAAAAAAAAAAAAAAAAAAAAAAAAAAAAAAAAAAAAAAAAAAAAAAAAAAAAAAAAAAAAAAAAAAAAAAAAAAAAAAAAAAAAAAAAAAAAAAAAAAAAAAAAAAAAAAAAAAAAAAAAAAAAAAAAAAAAAAAAAAAAAAAAAAAAAAAAAAAAAAAAAAAAAAAAAAAAAAAAAAAAAAAAAAAAAAAAAAAAAAAAAAAAAAAAAAAAAAAAAAAAAAAAAAAAAAAAAAAAAAAAAAAAAAAAAAAAAAAAAAAAAAAAAAAAAAAAAAAAAAAAAAAAAAAAAAAAAAAAAAAAAAAAAAAAAAAAAAAAAAAAAAAAAAAAAAAAAAAAAAAAAAAAAAAAAAAAAAAAAAAAAAAAAAAAAAAAAAAAAAAAAAAAAAAAAAAAAAAAAAAAAAAAAAAAAAAAAAAAAAAAAAAAAAAAAAAAAAAAAAAAAAAAAAAAAAAAAAAAAAAAAAAAAAAAAAAAAAAAAAAAAAAAAAAAAAAAAAAAAAAAAAAAAAAAAAAAAAAAAAAAAAAAAAAAAAAAAAAAAAAAAAAAAAAAAAAAAAAAAAAAAAAAAAAAAAAAAAAAAAAAAAAAAAAAAAAAAAAAAAAAAAAAAAAAAAAAAAAAAAAAAAAAAAAAAAAAAAAAAAAAAAAAAAAAAAAAAAAAAAAAAAAAAAAAAAAAAAAAAAAAAAAAAAAAAAAAAAAAAAAAAAAAAAAAAAAAAAAAAAAAAAAAAAAAAAAAAAAAAAAAAAAAAAAAAAAAAAAAAAAAAAAAAAAAAAAAAAAAAAAAAAAAAAAAAAAAAAAAAAAAAAAAAAAAAAAAAAAAAAAAAAAAAAAAAAAAAAAAAAAAAAAAAAAAAAAAAAAAAAAAAAAAAAAAAAAAAAAAAAAAAAAAAAAAAAAAAAAAAAAAAAAAAAAAAAAAAAAAAAAAAAAAAAAAAAAAAAAAAAAAAAAAAAAAAAAAAAAAAAAAAAAAAAAAAAAAAAAAAAAAAAAAAAAAAAAAAAAAAAAAAAAAAAAAAAAAAAAAAAAAAAAAAAAAAAAAAAAAAAAAAAAAAAAAAAAAAAAAAAAAAAAAAAAAAAAAAAAAAAAAAAAAAAAAAAAAAAAAAAAAAAAAAAAAAAAAAAAAAAAAAAAAAAAAAAAAAAAAAAAAAAAAAAAAAAAAAAAAAAAAAAAAAAAAAAAAAAAAAAAAAAAAAAAAAAAAAAAAAAAAAAAAAAAAAAAAAAAAAAAAAAAAAAAAAAAAAAAAAAAAAAAAAAAAAAAAAAAAAAAAAAAAAAAAAAAAAAAAAAAAAAAAAAAAAAAAAAAAAAAAAAAAAAAAAAAAAAAAAAAAAAAAAAAAAAAAAAAAAAAAAAAAAAAAAAAAAAAAAAAAAAAAAAAAAAAAAAAAAAAAAAAAAAAAAAAAAAAAAAAAAAAAAAAAAAAAAAAAAAAAAAAAAAAAAAAAAAAAAAAAAAAAAAAAAAAAAAAAAAAAAAAAAAAAAAAAAAAAAAAAAAAAAAAAAAAAAAAAAAAAAAAAAAAAAAAAAAAAAAAAAAAAAAAAAAAAAAAAAAAAAAAAAAAAAAAAAAAAAAAAAAAAAAAAAAAAAAAAAAAAAAAAAAAAAAAAAAAAAAAAAAAAAAAAAAAAAAAAAAAAAAAAAAAAAAAAAAAAAAAAAAAAAAAAAAAAAAAAAAAAAAAAAAAAAAAAAAAAAAAAAAAAAAAAAAAAAAAAAAAAAAAAAAAAAAAAAAAAAAAAAAAAAAAAAAAAAAAAAAAAAAAAAAAAAAAAAAAAAAAAAAAAAAAAAAAAAAAAAAAAAAAAAAAAAAAAAAAAAAAAAAAAAAAAAAAAAAAAAAAAAAAAAAAAAAAAAAAAAAAAAAAAAAAAAAAAAAAAAAAAAAAAAAAAAAAAAAAAAAAAAAAAAAAAAAAAAAAAAAAAAAAAAAAAAAAAAAAAAAAAAAAAAAAAAAAAAAAAAAAAAAAAAAAAAAAAAAAAAAAAAAAAAAAAAAAAAAAAAAAAAAAAAAAAAAAAAAAAAAAAAAAAAAAAAAAAAAAAAAAAAAAAAAAAAAAAAAAAAAAAAAAAAAAAAAAAAAAAAAAAAAAAAAAAAAAAAAAAAAAAAAAAAAAAAAAAAAAAAAAAAAAAAAAAAAAAAAAAAAAAAAAAAAAAAAAAAAAAAAAAAAAAAAAAAAAAAAAAAAAAAAAAAAAAAAAAAAAAAAAAAAAAAAAAAAAAAAAAAAAAAAAAAAAAAAAAAAAAAAAAAAAAAAAAAAAAAAAAAAAAAAAAAAAAAAAAAAAAAAAAAAAAAAAAAAAAAAAAAAAAAAAAAAAAAAAAAAAAAAAAAAAAAAAAAAAAAAAAAAAAAAAAAAAAAAAAAAAAAAAAAAAAAAAAAAAAAAAAAAAAAAAAAAAAAAAAAAAAAAAAAAAAAAAAAAAAAAAAAAAAAAAAAAAAAAAAAAAAAAAAAAAAAAAAAAAAAAAAAAAAAAAAAAAAAAAAAAAAAAAAAAAAAAAAAAAAAAAAAAAAAAAAAAAAAAAAAAAAAAAAAAAAAAAAAAAAAAAAAAAAAAAAAAAAAAAAAAAAAAAAAAAAAAAAAAAAAAAAAAAAAAAAAAAAAAAAAAAAAAAAAAAAAAAAAAAAAAAAAAAAAAAAAAAAAAAAAAAAAAAAAAAAAAAAAAAAAAAAAAAAAAAAAAAAAAAAAAAAAAAAAAAAAAAAAAAAAAAAAAAAAAAAAAAAAAAAAAAAAAAAAAAAAAAAAAAAAAAAAAAAAAAAAAAAAAAAAAAAAAAAAAAAAAAAAAAAAAAAAAAAAAAAAAAAAAAAAAAAAAAAAAAAAAAAAAAAAAAAAAAAAAAAAAAAAAAAAAAAAAAAAAAAAAAAAAAAAAAAAAAAAAAAAAAAAAAAAAAAAAAAAAAAAAAAAAAAAAAAAAAAAAAAAAAAAAAAAAAAAAAAAAAAAAAAAAAAAAAAAAAAAAAAAAAAAAAAAAAAAAAAAAAAAAAAAAAAAAAAAAAAAAAAAAAAAAAAAAAAAAAAAAAAAAAAAAAAAAAAAAAAAAAAAAAAAAAAAAAAAAAAAAAAAAAAAAAAAAAAAAAAAAAAAAAAAAAAAAAAAAAAAAAAAAAAAAAAAAAAAAAAAAAAAAAAAAAAAAAAAAAAAAAAAAAAAAAAAAAAAAAAAAAAAAAAAAAAAAAAAAAAAAAAAAAAAAAAAAAAAAAAAAAAAAAAAAAAAAAAAAAAAAAAAAAAAAAAAAAAAAAAAAAAAAAAAAAAAAAAAAAAAAAAAAAAAAAAAAAAAAAAAAAAAAAAAAAAAAAAAAAAAAAAAAAAAAAAAAAAAAAAAAAAAAAAAAAAAAAAAAAAAAAAAAAAAAAAAAAAAAAAAAAAAAAAAAAAAAAAAAAAAAAAAAAAAAAAAAAAAAAAAAAAAAAAAAAAAAAAAAAAAAAAAAAAAAAAAAAAAAAAAAAAAAAAAAAAAAAAAAAAAAAAAAAAAAAAAAAAAAAAAAAAAAAAAAAAAAAAAAAAAAAAAAAAAAAAAAAAAAAAAAAAAAAAAAAAAAAAAAAAAAAAAAAAAAAAAAAAAAAAAAAAAAAAAAAAAAAAAAAAAAAAAAAAAAAAAAAAAAAAAAAAAAAAAAAAAAAAAAAAAAAAAAAAAAAAAAAAAAAAAAAAAAAAAAAAAAAAAAAAAAAAAAAAAAAAAAAAAAAAAAAAAAAAAAAAAAAAAAAAAAAAAAAAAAAAAAAAAAAAAAAAAAAAAAAAAAAAAAAAAAAAAAAAAAAAAAAAAAAAAAAAAAAAAAAAAAAAAAAAAAAAAAAAAAAAAAAAAAAAAAAAAAAAAAAAAAAAAAAAAAAAAAAAAAAAAAAAAAAAAAAAAAAAAAAAAAAAAAAAAAAAAAAAAAAAAAAAAAAAAAAAAAAAAAAAAAAAAAAAAAAAAAAAAAAAAAAAAAAAAAAAAAAAAAAAAAAAAAAAAAAAAAAAAAAAAAAAAAAAAAAAAAAAAAAAAAAAAAAAAAAAAAAAAAAAAAAAAAAAAAAAAAAAAAAAAAAAAAAAAAAAAAAAAAAAAAAAAAAAAAAAAAAAAAAAAAAAAAAAAAAAAAAAAAAAAAAAAAAAAAAAAAAAAAAAAAAAAAAAAAAAAAAAAAAAAAAAAAAAAAAAAAAAAAAAAAAAAAAAAAAAAAAAAAAAAAAAAAAAAAAAAAAAAAAAAAAAAAAAAAAAAAAAAAAAAAAAAAAAAAAAAAAAAAAAAAAAAAAAAAAAAAAAAAAAAAAAAAAAAAAAAAAAAAAAAAAAAAAAAAAAAAAAAAAAAAAAAAAAAAAAAAAAAAAAAAAAAAAAAAAAAAAAAAAAAAAAAAAAAAAAAAAAAAAAAAAAAAAAAAAAAAAAAAAAAAAAAAAAAAAAAAAAAAAAAAAAAAAAAAAAAAAAAAAAAAAAAAAAAAAAAAAAAAAAAAAAAAAAAAAAAAAAAAAAAAAAAAAAAAAAAAAAAAAAAAAAAAAAAAAAAAAAAAAAAAAAAAAAAAAAAAAAAAAAAAAAAAAAAAAAAAAAAAAAAAAAAAAAAAAAAAAAAAAAAAAAAAAAAAAAAAAAAAAAAAAAAAAAAAAAAAAAAAAAAAAAAAAAAAAAAAAAAAAAAAAAAAAAAAAAAAAAAAAAAAAAAAAAAAAAAAAAAAAAAAAAAAAAAAAAAAAAAAAAAAAAAAAAAAAAAAAAAAAAAAAAAAAAAAAAAAAAAAAAAAAAAAAAAAAAAAAAAAAAAAAAAAAAAAAAAAAAAAAAAAAAAAAAAAAAAAAAAAAAAAAAAAAAAAAAAAAAAAAAAAAAAAAAAAAAAAAAAAAAAAAAAAAAAAAAAAAAAAAAAAAAAAAAAAAAAAAAAAAAAAAAAAAAAAAAAAAAAAAAAAAAAAAAAAAAAAAAAAAAAAAAAAAAAAAAAAAAAAAAAAAAAAAAAAAAAAAAAAAAAAAAAAAAAAAAAAAAAAAAAAAAAAAAAAAAAAAAAAAAAAAAAAAAAAAAAAAAAAAAAAAAAAAAAAAAAAAAAAAAAAAAAAAAAAAAAAAAAAAAAAAAAAAAAAAAAAAAAAAAAAAAAAAAAAAAAAAAAAAAAAAAAAAAAAAAAAAAAAAAAAAAAAAAAAAAAAAAAAAAAAAAAAAAAAAAAAAAAAAAAAAAAAAAAAAAAAAAAAAAAAAAAAAAAAAAAAAAAAAAAAAAAAAAAAAAAAAAAAAAAAAAAAAAAAAAAAAAAAAAAAAAAAAAAAAAAAAAAAAAAAAAAAAAAAAAAAAAAAAAAAAAAAAAAAAAAAAAAAAAAAAAAAAAAAAAAAAAAAAAAAAAAAAAAAAAAAAAAAAAAAAAAAAAAAAAAAAAAAAAAAAAAAAAAAAAAAAAAAAAAAAAAAAAAAAAAAAAAAAAAAAAAAAAAAAAAAAAAAAAAAAAAAAAAAAAAAAAAAAAAAAAAAAAAAAAAAAAAAAAAAAAAAAAAAAAAAAAAAAAAAAAAAAAAAAAAAAAAAAAAAAAAAAAAAAAAAAAAAAAAAAAAAAAAAAAAAAAAAAAAAAAAAAAAAAAAAAAAAAAAAAAAAAAAAAAAAAAAAAAAAAAAAAAAAAAAAAAAAAAAAAAAAAAAAAAAAAAAAAAAAAAAAAAAAAAAAAAAAAAAAAAAAAAAAAAAAAAAAAAAAAAAAAAAAAAAAAAAAAAAAAAAAAAAAAAAAAAAAAAAAAAAAAAAAAAAAAAAAAAAAAAAAAAAAAAAAAAAAAAAAAAAAAAAAAAAAAAAAAAAAAAAAAAAAAAAAAAAAAAAAAAAAAAAAAAAAAAAAAAAAAAAAAAAAAAAAAAAAAAAAAAAAAAAAAAAAAAAAAAAAAAAAAAAAAAAAAAAAAAAAAAAAAAAAAAAAAAAAAAAAAAAAAAAAAAAAAAAAAAAAAAAAAAAAAAAAAAAAAAAAAAAAAAAAAAAAAAAAAAAAAAAAAAAAAAAAAAAAAAAAAAAAAAAAAAAAAAAAAAAAAAAAAAAAAAAAAAAAAAAAAAAAAAAAAAAAAAAAAAAAAAAAAAAAAAAAAAAAAAAAAAAAAAAAAAAAAAAAAAAAAAAAAAAAAAAAAAAAAAAAAAAAAAAAAAAAAAAAAAAAAAAAAAAAAAAAAAAAAAAAAAAAAAAAAAAAAAAAAAAAAAAAAAAAAAAAAAAAAAAAAAAAAAAAAAAAAAAAAAAAAAAAAAAAAAAAAAAAAAAAAAAAAAAAAAAAAAAAAAAAAAAAAAAAAAAAAAAAAAAAAAAAAAAAAAAAAAAAAAAAAAAAAAAAAAAAAAAAAAAAAAAAAAAAAAAAAAAAAAAAAAAAAAAAAAAAAAAAAAAAAAAAAAAAAAAAAAAAAAAAAAAAAAAAAAAAAAAAAAAAAAAAAAAAAAAAAAAAAAAAAAAAAAAAAAAAAAAAAAAAAAAAAAAAAAAAAAAAAAAAAAAAAAAAAAAAAAAAAAAAAAAAAAAAAAAAAAAAAAAAAAAAAAAAAAAAAAAAAAAAAAAAAAAAAAAAAAAAAAAAAAAAAAAAAAAAAAAAAAAAAAAAAAAAAAAAAAAAAAAAAAAAAAAAAAAAAAAAAAAAAAAAAAAAAAAAAAAAAAAAAAAAAAAAAAAAAAAAAAAAAAAAAAAAAAAAAAAAAAAAAAAAAAAAAAAAAAAAAAAAAAAAAAAAAAAAAAAAAAAAAAAAAAAAAAAAAAAAAAAAAAAAAAAAAAAAAAAAAAAAAAAAAAAAAAAAAAAAAAAAAAAAAAAAAAAAAAAAAAAAAAAAAAAAAAAAAAAAAAAAAAAAAAAAAAAAAAAAAAAAAAAAAAAAAAAAAAAAAAAAAAAAAAAAAAAAAAAAAAAAAAAAAAAAAAAAAAAAAAAAAAAAAAAAAAAAAAAAAAAAAAAAAAAAAAAAAAAAAAAAAAAAAAAAAAAAAAAAAAAAAAAAAAAAAAAAAAAAAAAAAAAAAAAAAAAAAAAAAAAAAAAAAAAAAAAAAAAAAAAAAAAAAAAAAAAAAAAAAAAAAAAAAAAAAAAAAAAAAAAAAAAAAAAAAAAAAAAAAAAAAAAAAAAAAAAAAAAAAAAAAAAAAAAAAAAAAAAAAAAAAAAAAAAAAAAAAAAAAAAAAAAAAAAAAAAAAAAAAAAAAAAAAAAAAAAAAAAAAAAAAAAAAAAAAAAAAAAAAAAAAAAAAAAAAAAAAAAAAAAAAAAAAAAAAAAAAAAAAAAAAAAAAAAAAAAAAAAAAAAAAAAAAAAAAAAAAAAAAAAAAAAAAAAAAAAAAAAAAAAAAAAAAAAAAAAAAAAAAAAAAAAAAAAAAAAAAAAAAAAAAAAAAAAAAAAAAAAAAAAAAAAAAAAAAAAAAAAAAAAAAAAAAAAAAAAAAAAAAAAAAAAAAAAAAAAAAAAAAAAAAAAAAAAAAAAAAAAAAAAAAAAAAAAAAAAAAAAAAAAAAAAAAAAAAAAAAAAAAAAAAAAAAAAAAAAAAAAAAAAAAAAAAAAAAAAAAAAAAAAAAAAAAAAAAAAAAAAAAAAAAAAAAAAAAAAAAAAAAAAAAAAAAAAAAAAAAAAAAAAAAAAAAAAAAAAAAAAAAAAAAAAAAAAAAAAAAAAAAAAAAAAAAAAAAAAAAAAAAAAAAAAAAAAAAAAAAAAAAAAAAAAAAAAAAAAAAAAAAAAAAAAAAAAAAAAAAAAAAAAAAAAAAAAAAAAAAAAAAAAAAAAAAAAAAAAAAAAAAAAAAAAAAAAAAAAAAAAAAAAAAAAAAAAAAAAAAAAAAAAAAAAAAAAAAAAAAAAAAAAAAAAAAAAAAAAAAAAAAAAAAAAAAAAAAAAAAAAAAAAAAAAAAAAAAAAAAAAAAAAAAAAAAAAAAAAAAAAAAAAAAAAAAAAAAAAAAAAAAAAAAAAAAAAAAAAAAAAAAAAAAAAAAAAAAAAAAAAAAAAAAAAAAAAAAAAAAAAAAAAAAAAAAAAAAAAAAAAAAAAAAAAAAAAAAAAAAAAAAAAAAAAAAAAAAAAAAAAAAAAAAAAAAAAAAAAAAAAAAAAAAAAAAAAAAAAAAAAAAAAAAAAAAAAAAAAAAAAAAAAAAAAAAAAAAAAAAAAAAAAAAAAAAAAAAAAAAAAAAAAAAAAAAAAAAAAAAAAAAAAAAAAAAAAAAAAAAAAAAAAAAAAAAAAAAAAAAAAAAAAAAAAAAAAAAAAAAAAAAAAAAAAAAAAAAAAAAAAAAAAAAAAAAAAAAAAAAAAAAAAAAAAAAAAAAAAAAAAAAAAAAAAAAAAAAAAAAAAAAAAAAAAAAAAAAAAAAAAAAAAAAAAAAAAAAAAAAAAAAAAAAAAAAAAAAAAAAAAAAAAAAAAAAAAAAAAAAAAAAAAAAAAAAAAAAAAAAAAAAAAAAAAAAAAAAAAAAAAAAAAAAAAAAAAAAAAAAAAAAAAAAAAAAAAAAAAAAAAAAAAAAAAAAAAAAAAAAAAAAAAAAAAAAAAAAAAAAAAAAAAAAAAAAAAAAAAAAAAAAAAAAAAAAAAAAAAAAAAAAAAAAAAAAAAAAAAAAAAAAAAAAAAAAAAAAAAAAAAAAAAAAAAAAAAAAAAAAAAAAAAAAAAAAAAAAAAAAAAAAAAAAAAAAAAAAAAAAAAAAAAAAAAAAAAAAAAAAAAAAAAAAAAAAAAAAAAAAAAAAAAAAAAAAAAAAAAAAAAAAAAAAAAAAAAAAAAAAAAAAAAAAAAAAAAAAAAAAAAAAAAAAAAAAAAAAAAAAAAAAAAAAAAAAAAAAAAAAAAAAAAAAAAAAAAAAAAAAAAAAAAAAAAAAAAAAAAAAAAAAAAAAAAAAAAAAAAAAAAAAAAAAAAAAAAAAAAAAAAAAAAAAAAAAAAAAAAAAAAAAAAAAAAAAAAAAAAAAAAAAAAAAAAAAAAAAAAAAAAAAAAAAAAAAAAAAAAAAAAAAAAAAAAAAAAAAAAAAAAAAAAAAAAAAAAAAAAAAAAAAAAAAAAAAAAAAAAAAAAAAAAAAAAAAAAAAAAAAAAAAAAAAAAAAAAAAAAAAAAAAAAAAAAAAAAAAAAAAAAAAAAAAAAAAAAAAAAAAAAAAAAAAAAAAAAAAAAAAAAAAAAAAAAAAAAAAAAAAAAAAAAAAAAAAAAAAAAAAAAAAAAAAAAAAAAAAAAAAAAAAAAAAAAAAAAAAAAAAAAAAAAAAAAAAAAAAAAAAAAAAAAAAAAAAAAAAAAAAAAAAAAAAAAAAAAAAAAAAAAAAAAAAAAAAAAAAAAAAAAAAAAAAAAAAAAAAAAAAAAAAAAAAAAAAAAAAAAAAAAAAAAAAAAAAAAAAAAAAAAAAAAAAAAAAAAAAAAAAAAAAAAAAAAAAAAAAAAAAAAAAAAAAAAAAAAAAAAAAAAAAAAAAAAAAAAAAAAAAAAAAAAAAAAAAAAAAAAAAAAAAAAAAAAAAAAAAAAAAAAAAAAAAAAAAAAAAAAAAAAAAAAAAAAAAAAAAAAAAAAAAAAAAAAAAAAAAAAAAAAAAAAAAAAAAAAAAAAAAAAAAAAAAAAAAAAAAAAAAAAAAAAAAAAAAAAAAAAAAAAAAAAAAAAAAAAAAAAAAAAAAAAAAAAAAAAAAAAAAAAAAAAAAAAAAAAAAAAAAAAAAAAAAAAAAAAAAAAAAAAAAAAAAAAAAAAAAAAAAAAAAAAAAAAAAAAAAAAAAAAAAAAAAAAAAAAAAAAAAAAAAAAAAAAAAAAAAAAAAAAAAAAAAAAAAAAAAAAAAAAAAAAAAAAAAAAAAAAAAAAAAAAAAAAAAAAAAAAAAAAAAAAAAAAAAAAAAAAAAAAAAAAAAAAAAAAAAAAAAAAAAAAAAAAAAAAAAAAAAAAAAAAAAAAAAAAAAAAAAAAAAAAAAAAAAAAAAAAAAAAAAAAAAAAAAAAAAAAAAAAAAAAAAAAAAAAAAAAAAAAAAAAAAAAAAAAAAAAAAAAAAAAAAAAAAAAAAAAAAAAAAAAAAAAAAAAAAAAAAAAAAAAAAAAAAAAAAAAAAAAAAAAAAAAAAAAAAAAAAAAAAAAAAAAAAAAAAAAAAAAAAAAAAAAAAAAAAAAAAAAAAAAAAAAAAAAAAAAAAAAAAAAAAAAAAAAAAAAAAAAAAAAAAAAAAAAAAAAAAAAAAAAAAAAAAAAAAAAAAAAAAAAAAAAAAAAAAAAAAAAAAAAAAAAAAAAAAAAAAAAAAAAAAAAAAAAAAAAAAAAAAAAAAAAAAAAAAAAAAAAAAAAAAAAAAAAAAAAAAAAAAAAAAAAAAAAAAAAAAAAAAAAAAAAAAAAAAAAAAAAAAAAAAAAAAAAAAAAAAAAAAAAAAAAAAAAAAAAAAAAAAAAAAAAAAAAAAAAAAAAAAAAAAAAAAAAAAAAAAAAAAAAAAAAAAAAAAAAAAAAAAAAAAAAAAAAAAAAAAAAAAAAAAAAAAAAAAAAAAAAAAAAAAAAAAAAAAAAAAAAAAAAAAAAAAAAAAAAAAAAAAAAAAAAAAAAAAAAAAAAAAAAAAAAAAAAAAAAAAAAAAAAAAAAAAAAAAAAAAAAAAAAAAAAAAAAAAAAAAAAAAAAAAAAAAAAAAAAAAAAAAAAAAAAAAAAAAAAAAAAAAAAAAAAAAAAAAAAAAAAAAAAAAAAAAAAAAAAAAAAAAAAAAAAAAAAAAAAAAAAAAAAAAAAAAAAAAAAAAAAAAAAAAAAAAAAAAAAAAAAAAAAAAAAAAAAAAAAAAAAAAAAAAAAAAAAAAAAAAAAAAAAAAAAAAAAAAAAAAAAAAAAAAAAAAAAAAAAAAAAAAAAAAAAAAAAAAAAAAAAAAAAAAAAAAAAAAAAAAAAAAAAAAAAAAAAAAAAAAAAAAAAAAAAAAAAAAAAAAAAAAAAAAAAAAAAAAAAAAAAAAAAAAAAAAAAAAAAAAAAAAAAAAAAAAAAAAAAAAAAAAAAAAAAAAAAAAAAAAAAAAAAAAAAAAAAAAAAAAAAAAAAAAAAAAAAAAAAAAAAAAAAAAAAAAAAAAAAAAAAAAAAAAAAAAAAAAAAAAAAAAAAAAAAAAAAAAAAAAAAAAAAAAAAAAAAAAAAAAAAAAAAAAAAAAAAAAAAAAAAAAAAAAAAAAAAAAAAAAAAAAAAAAAAAAAAAAAAAAAAAAAAAAAAAAAAAAAAAAAAAAAAAAAAAAAAAAAAAAAAAAAAAAAAAAAAAAAAAAAAAAAAAAAAAAAAAAAAAAAAAAAAAAAAAAAAAAAAAAAAAAAAAAAAAAAAAAAAAAAAAAAAAAAAAAAAAAAAAAAAAAAAAAAAAAAAAAAAAAAAAAAAAAAAAAAAAAAAAAAAAAAAAAAAAAAAAAAAAAAAAAAAAAAAAAAAAAAAAAAAAAAAAAAAAAAAAAAAAAAAAAAAAAAAAAAAAAAAAAAAAAAAAAAAAAAAAAAAAAAAAAAAAAAAAAAAAAAAAAAAAAAAAAAAAAAAAAAAAAAAAAAAAAAAAAAAAAAAAAAAAAAAAAAAAAAAAAAAAAAAAAAAAAAAAAAAAAAAAAAAAAAAAAAAAAAAAAAAAAAAAAAAAAAAAAAAAAAAAAAAAAAAAAAAAAAAAAAAAAAAAAAAAAAAAAAAAAAAAAAAAAAAAAAAAAAAAAAAAAAAAAAAAAAAAAAAAAAAAAAAAAAAAAAAAAAAAAAAAAAAAAAAAAAAAAAAAAAAAAAAAAAAAAAAAAAAAAAAAAAAAAAAAAAAAAAAAAAAAAAAAAAAAAAAAAAAAAAAAAAAAAAAAAAAAAAAAAAAAAAAAAAAAAAAAAAAAAAAAAAAAAAAAAAAAAAAAAAAAAAAAAAAAAAAAAAAAAAAAAAAAAAAAAAAAAAAAAAAAAAAAAAAAAAAAAAAAAAAAAAAAAAAAAAAAAAAAAAAAAAAAAAAAAAAAAAAAAAAAAAAAAAAAAAAAAAAAAAAAAAAAAAAAAAAAAAAAAAAAAAAAAAAAAAAAAAAAAAAAAAAAAAAAAAAAAAAAAAAAAAAAAAAAAAAAAAAAAAAAAAAAAAAAAAAAAAAAAAAAAAAAAAAAAAAAAAAAAAAAAAAAAAAAAAAAAAAAAAAAAAAAAAAAAAAAAAAAAAAAAAAAAAAAAAAAAAAAAAAAAAAAAAAAAAAAAAAAAAAAAAAAAAAAAAAAAAAAAAAAAAAAAAAAAAAAAAAAAAAAAAAAAAAAAAAAAAAAAAAAAAAAAAAAAAAAAAAAAAAAAAAAAAAAAAAAAAAAAAAAAAAAAAAAAAAAAAAAAAAAAAAAAAAAAAAAAAAAAAAAAAAAAAAAAAAAAAAAAAAAAAAAAAAAAAAAAAAAAAAAAAAAAAAAAAAAAAAAAAAAAAAAAAAAAAAAAAAAAAAAAAAAAAAAAAAAAAAAAAAAAAAAAAAAAAAAAAAAAAAAAAAAAAAAAAAAAAAAAAAAAAAAAAAAAAAAAAAAAAAAAAAAAAAAAAAAAAAAAAAAAAAAAAAAAAAAAAAAAAAAAAAAAAAAAAAAAAAAAAAAAAAAAAAAAAAAAAAAAAAAAAAAAAAAAAAAAAAAAAAAAAAAAAAAAAAAAAAAAAAAAAAAAAAAAAAAAAAAAAAAAAAAAAAAAAAAAAAAAAAAAAAAAAAAAAAAAAAAAAAAAAAAAAAAAAAAAAAAAAAAAAAAAAAAAAAAAAAAAAAAAAAAAAAAAAAAAAAAAAAAAAAAAAAAAAAAAAAAAAAAAAAAAAAAAAAAAAAAAAAAAAAAAAAAAAAAAAAAAAAAAAAAAAAAAAAAAAAAAAAAAAAAAAAAAAAAAAAAAAAAAAAAAAAAAAAAAAAAAAAAAAAAAAAAAAAAAAAAAAAAAAAAAAAAAAAAAAAAAAAAAAAAAAAAAAAAAAAAAAAAAAAAAAAAAAAAAAAAAAAAAAAAAAAAAAAAAAAAAAAAAAAAAAAAAAAAAAAAAAAAAAAAAAAAAAAAAAAAAAAAAAAAAAAAAAAAAAAAAAAAAAAAAAAAAAAAAAAAAAAAAAAAAAAAAAAAAAAAAAAAAAAAAAAAAAAAAAAAAAAAAAAAAAAAAAAAAAAAAAAAAAAAAAAAAAAAAAAAAAAAAAAAAAAAAAAAAAAAAAAAAAAAAAAAAAAAAAAAAAAAAAAAAAAAAAAAAAAAAAAAAAAAAAAAAAAAAAAAAAAAAAAAAAAAAAAAAAAAAAAAAAAAAAAAAAAAAAAAAAAAAAAAAAAAAAAAAAAAAAAAAAAAAAAAAAAAAAAAAAAAAAAAAAAAAAAAAAAAAAAAAAAAAAAAAAAAAAAAAAAAAAAAAAAAAAAAAAAAAAAAAAAAAAAAAAAAAAAAAAAAAAAAAAAAAAAAAAAAAAAAAAAAAAAAAAAAAAAAAAAAAAAAAAAAAAAAAAAAAAAAAAAAAAAAAAAAAAAAAAAAAAAAAAAAAAAAAAAAAAAAAAAAAAAAAAAAAAAAAAAAAAAAAAAAAAAAAAAAAAAAAAAAAAAAAAAAAAAAAAAAAAAAAAAAAAAAAAAAAAAAAAAAAAAAAAAAAAAAAAAAAAAAAAAAAAAAAAAAAAAAAAAAAAAAAAAAAAAAAAAAAAAAAAAAAAAAAAAAAAAAAAAAAAAAAAAAAAAAAAAAAAAAAAAAAAAAAAAAAAAAAAAAAAAAAAAAAAAAAAAAAAAAAAAAAAAAAAAAAAAAAAAAAAAAAAAAAAAAAAAAAAAAAAAAAAAAAAAAAAAAAAAAAAAAAAAAAAAAAAAAAAAAAAAAAAAAAAAAAAAAAAAAAAAAAAAAAAAAAAAAAAAAAAAAAAAAAAAAAAAAAAAAAAAAAAAAAAAAAAAAAAAAAAAAAAAAAAAAAAAAAAAAAAAAAAAAAAAAAAAAAAAAAAAAAAAAAAAAAAAAAAAAAAAAAAAAAAAAAAAAAAAAAAAAAAAAAAAAAAAAAAAAAAAAAAAAAAAAAAAAAAAAAAAAAAAAAAAAAAAAAAAAAAAAAAAAAAAAAAAAAAAAAAAAAAAAAAAAAAAAAAAAAAAAAAAAAAAAAAAAAAAAAAAAAAAAAAAAAAAAAAAAAAAAAAAAAAAAAAAAAAAAAAAAAAAAAAAAAAAAAAAAAAAAAAAAAAAAAAAAAAAAAAAAAAAAAAAAAAAAAAAAAAAAAAAAAAAAAAAAAAAAAAAAAAAAAAAAAAAAAAAAAAAAAAAAAAAAAAAAAAAAAAAAAAAAAAAAAAAAAAAAAAAAAAAAAAAAAAAAAAAAAAAAAAAAAAAAAAAAAAAAAAAAAAAAAAAAAAAAAAAAAAAAAAAAAAAAAAAAAAAAAAAAAAAAAAAAAAAAAAAAAAAAAAAAAAAAAAAAAAAAAAAAAAAAAAAAAAAAAAAAAAAAAAAAAAAAAAAAAAAAAAAAAAAAAAAAAAAAAAAAAAAAAAAAAAAAAAAAAAAAAAAAAAAAAAAAAAAAAAAAAAAAAAAAAAAAAAAAAAAAAAAAAAAAAAAAAAAAAAAAAAAAAAAAAAAAAAAAAAAAAAAAAAAAAAAAAAAAAAAAAAAAAAAAAAAAAAAAAAAAAAAAAAAAAAAAAAAAAAAAAAAAAAAAAAAAAAAAAAAAAAAAAAAAAAAAAAAAAAAAAAAAAAAAAAAAAAAAAAAAAAAAAAAAAAAAAAAAAAAAAAAAAAAAAAAAAAAAAAAAAAAAAAAAAAAAAAAAAAAAAAAAAAAAAAAAAAAAAAAAAAAAAAAAAAAAAAAAAAAAAAAAAAAAAAAAAAAAAAAAAAAAAAAAAAAAAAAAAAAAAAAAAAAAAAAAAAAAAAAAAAAAAAAAAAAAAAAAAAAAAAAAAAAAAAAAAAAAAAAAAAAAAAAAAAAAAAAAAAAAAAAAAAAAAAAAAAAAAAAAAAAAAAAAAAAAAAAAAAAAAAAAAAAAAAAAAAAAAAAAAAAAAAAAAAAAAAAAAAAAAAAAAAAAAAAAAAAAAAAAAAAAAAAAAAAAAAAAAAAAAAAAAAAAAAAAAAAAAAAAAAAAAAAAAAAAAAAAAAAAAAAAAAAAAAAAAAAAAAAAAAAAAAAAAAAAAAAAAAAAAAAAAAAAAAAAAAAAAAAAAAAAAAAAAAAAAAAAAAAAAAAAAAAAAAAAAAAAAAAAAAAAAAAAAAAAAAAAAAAAAAAAAAAAAAAAAAAAAAAAAAAAAAAAAAAAAAAAAAAAAAAAAAAAAAAAAAAAAAAAAAAAAAAAAAAAAAAAAAAAAAAAAAAAAAAAAAAAAAAAAAAAAAAAAAAAAAAAAAAAAAAAAAAAAAAAAAAAAAAAAAAAAAAAAAAAAAAAAAAAAAAAAAAAAAAAAAAAAAAAAAAAAAAAAAAAAAAAAAAAAAAAAAAAAAAAAAAAAAAAAAAAAAAAAAAAAAAAAAAAAAAAAAAAAAAAAAAAAAAAAAAAAAAAAAAAAAAAAAAAAAAAAAAAAAAAAAAAAAAAAAAAAAAAAAAAAAAAAAAAAAAAAAAAAAAAAAAAAAAAAAAAAAAAAAAAAAAAAAAAAAAAAAAAAAAAAAAAAAAAAAAAAAAAAAAAAAAAAAAAAAAAAAAAAAAAAAAAAAAAAAAAAAAAAAAAAAAAAAAAAAAAAAAAAAAAAAAAAAAAAAAAAAAAAAAAAAAAAAAAAAAAAAAAAAAAAAAAAAAAAAAAAAAAAAAAAAAAAAAAAAAAAAAAAAAAAAAAAAAAAAAAAAAAAAAAAAAAAAAAAAAAAAAAAAAAAAAAAAAAAAAAAAAAAAAAAAAAAAAAAAAAAAAAAAAAAAAAAAAAAAAAAAAAAAAAAAAAAAAAAAAAAAAAAAAAAAAAAAAAAAAAAAAAAAAAAAAAAAAAAAAAAAAAAAAAAAAAAAAAAAAAAAAAAAAAAAAAAAAAAAAAAAAAAAAAAAAAAAAAAAAAAAAAAAAAAAAAAAAAAAAAAAAAAAAAAAAAAAAAAAAAAAAAAAAAAAAAAAAAAAAAAAAAAAAAAAAAAAAAAAAAAAAAAAAAAAAAAAAAAAAAAAAAAAAAAAAAAAAAAAAAAAAAAAAAAAAAAAAAAAAAAAAAAAAAAAAAAAAAAAAAAAAAAAAAAAAAAAAAAAAAAAAAAAAAAAAAAAAAAAAAAAAAAAAAAAAAAAAAAAAAAAAAAAAAAAAAAAAAAAAAAAAAAAAAAAAAAAAAAAAAAAAAAAAAAAAAAAAAAAAAAAAAAAAAAAAAAAAAAAAAAAAAAAAAAAAAAAAAAAAAAAAAAAAAAAAAAAAAAAAAAAAAAAAAAAAAAAAAAAAAAAAAAAAAAAAAAAAAAAAAAAAAAAAAAAAAAAAAAAAAAAAAAAAAAAAAAAAAAAAAAAAAAAAAAAAAAAAAAAAAAAAAAAAAAAAAAAAAAAAAAAAAAAAAAAAAAAAAAAAAAAAAAAAAAAAAAAAAAAAAAAAAAAAAAAAAAAAAAAAAAAAAAAAAAAAAAAAAAAAAAAAAAAAAAAAAAAAAAAAAAAAAAAAAAAAAAAAAAAAAAAAAAAAAAAAAAAAAAAAAAAAAAAAAAAAAAAAAAAAAAAAAAAAAAAAAAAAAAAAAAAAAAAAAAAAAAAAAAAAAAAAAAAAAAAAAAAAAAAAAAAAAAAAAAAAAAAAAAAAAAAAAAAAAAAAAAAAAAAAAAAAAAAAAAAAAAAAAAAAAAAAAAAAAAAAAAAAAAAAAAAAAAAAAAAAAAAAAAAAAAAAAAAAAAAAAAAAAAAAAAAAAAAAAAAAAAAAAAAAAAAAAAAAAAAAAAAAAAAAAAAAAAAAAAAAAAAAAAAAAAAAAAAAAAAAAAAAAAAAAAAAAAAAAAAAAAAAAAAAAAAAAAAAAAAAAAAAAAAAAAAAAAAAAAAAAAAAAAAAAAAAAAAAAAAAAAAAAAAAAAAAAAAAAAAAAAAAAAAAAAAAAAAAAAAAAAAAAAAAAAAAAAAAAAAAAAAAAAAAAAAAAAAAAAAAAAAAAAAAAAAAAAAAAAAAAAAAAAAAAAAAAAAAAAAAAAAAAAAAAAAAAAAAAAAAAAAAAAAAAAAAAAAAAAAAAAAAAAAAAAAAAAAAAAAAAAAAAAAAAAAAAAAAAAAAAAAAAAAAAAAAAAAAAAAAAAAAAAAAAAAAAAAAAAAAAAAAAAAAAAAAAAAAAAAAAAAAAAAAAAAAAAAAAAAAAAAAAAAAAAAAAAAAAAAAAAAAAAAAAAAAAAAAAAAAAAAAAAAAAAAAAAAAAAAAAAAAAAAAAAAAAAAAAAAAAAAAAAAAAAAAAAAAAAAAAAAAAAAAAAAAAAAAAAAAAAAAAAAAAAAAAAAAAAAAAAAAAAAAAAAAAAAAAAAAAAAAAAAAAAAAAAAAAAAAAAAAAAAAAAAAAAAAAAAAAAAAAAAAAAAAAAAAAAAAAAAAAAAAAAAAAAAAAAAAAAAAAAAAAAAAAAAAAAAAAAAAAAAAAAAAAAAAAAAAAAAAAAAAAAAAAAAAAAAAAAAAAAAAAAAAAAAAAAAAAAAAAAAAAAAAAAAAAAAAAAAAAAAAAAAAAAAAAAAAAAAAAAAAAAAAAAAAAAAAAAAAAAAAAAAAAAAAAAAAAAAAAAAAAAAAAAAAAAAAAAAAAAAAAAAAAAAAAAAAAAAAAAAAAAAAAAAAAAAAAAAAAAAAAAAAAAAAAAAAAAAAAAAAAAAAAAAAAAAAAAAAAAAAAAAAAAAAAAAAAAAAAAAAAAAAAAAAAAAAAAAAAAAAAAAAAAAAAAAAAAAAAAAAAAAAAAAAAAAAAAAAAAAAAAAAAAAAAAAAAAAAAAAAAAAAAAAAAAAAAAAAAAAAAAAAAAAAAAAAAAAAAAAAAAAAAAAAAAAAAAAAAAAAAAAAAAAAAAAAAAAAAAAAAAAAAAAAAAAAAAAAAAAAAAAAAAAAAAAAAAAAAAAAAAAAAAAAAAAAAAAAAAAAAAAAAAAAAAAAAAAAAAAAAAAAAAAAAAAAAAAAAAAAAAAAAAAAAAAAAAAAAAAAAAAAAAAAAAAAAAAAAAAAAAAAAAAAAAAAAAAAAAAAAAAAAAAAAAAAAAAAAAAAAAAAAAAAAAAAAAAAAAAAAAAAAAAAAAAAAAAAAAAAAAAAAAAAAAAAAAAAAAAAAAAAAAAAAAAAAAAAAAAAAAAAAAAAAAAAAAAAAAAAAAAAAAAAAAAAAAAAAAAAAAAAAAAAAAAAAAAAAAAAAAAAAAAAAAAAAAAAAAAAAAAAAAAAAAAAAAAAAAAAAAAAAAAAAAAAAAAAAAAAAAAAAAAAAAAAAAAAAAAAAAAAAAAAAAAAAAAAAAAAAAAAAAAAAAAAAAAAAAAAAAAAAAAAAAAAAAAAAAAAAAAAAAAAAAAAAAAAAAAAAAAAAAAAAAAAAAAAAAAAAAAAAAAAAAAAAAAAAAAAAAAAAAAAAAAAAAAAAAAAAAAAAAAAAAAAAAAAAAAAAAAAAAAAAAAAAAAAAAAAAAAAAAAAAAAAAAAAAAAAAAAAAAAAAAAAAAAAAAAAAAAAAAAAAAAAAAAAAAAAAAAAAAAAAAAAAAAAAAAAAAAAAAAAAAAAAAAAAAAAAAAAAAAAAAAAAAAAAAAAAAAAAAAAAAAAAAAAAAAAAAAAAAAAAAAAAAAAAAAAAAAAAAAAAAAAAAAAAAAAAAAAAAAAAAAAAAAAAAAAAAAAAAAAAAAAAAAAAAAAAAAAAAAAAAAAAAAAAAAAAAAAAAAAAAAAAAAAAAAAAAAAAAAAAAAAAAAAAAAAAAAAAAAAAAAAAAAAAAAAAAAAAAAAAAAAAAAAAAAAAAAAAAAAAAAAAAAAAAAAAAAAAAAAAAAAAAAAAAAAAAAAAAAAAAAAAAAAAAAAAAAAAAAAAAAAAAAAAAAAAAAAAAAAAAAAAAAAAAAAAAAAAAAAAAAAAAAAAAAAAAAAAAAAAAAAAAAAAAAAAAAAAAAAAAAAAAAAAAAAAAAAAAAAAAAAAAAAAAAAAAAAAAAAAAAAAAAAAAAAAAAAAAAAAAAAAAAAAAAAAAAAAAAAAAAAAAAAAAAAAAAAAAAAAAAAAAAAAAAAAAAAAAAAAAAAAAAAAAAAAAAAAAAAAAAAAAAAAAAAAAAAAAAAAAAAAAAAAAAAAAAAAAAAAAAAAAAAAAAAAAAAAAAAAAAAAAAAAAAAAAAAAAAAAAAAAAAAAAAAAAAAAAAAAAAAAAAAAAAAAAAAAAAAAAAAAAAAAAAAAAAAAAAAAAAAAAAAAAAAAAAAAAAAAAAAAAAAAAAAAAAAAAAAAAAAAAAAAAAAAAAAAAAAAAAAAAAAAAAAAAAAAAAAAAAAAAAAAAAAAAAAAAAAAAAAAAAAAAAAAAAAAAAAAAAAAAAAAAAAAAAAAAAAAAAAAAAAAAAAAAAAAAAAAAAAAAAAAAAAAAAAAAAAAAAAAAAAAAAAAAAAAAAAAAAAAAAAAAAAAAAAAAAAAAAAAAAAAAAAAAAAAAAAAAAAAAAAAAAAAAAAAAAAAAAAAAAAAAAAAAAAAAAAAAAAAAAAAAAAAAAAAAAAAAAAAAAAAAAAAAAAAAAAAAAAAAAAAAAAAAAAAAAAAAAAAAAAAAAAAAAAAAAAAAAAAAAAAAAAAAAAAAAAAAAAAAAAAAAAAAAAAAAAAAAAAAAAAAAAAAAAAAAAAAAAAAAAAAAAAAAAAAAAAAAAAAAAAAAAAAAAAAAAAAAAAAAAAAAAAAAAAAAAAAAAAAAAAAAAAAAAAAAAAAAAAAAAAAAAAAAAAAAAAAAAAAAAAAAAAAAAAAAAAAAAAAAAAAAAAAAAAAAAAAAAAAAAAAAAAAAAAAAAAAAAAAAAAAAAAAAAAAAAAAAAAAAAAAAAAAAAAAAAAAAAAAAAAAAAAAAAAAAAAAAAAAAAAAAAAAAAAAAAAAAAAAAAAAAAAAAAAAAAAAAAAAAAAAAAAAAAAAAAAAAAAAAAAAAAAAAAAAAAAAAAAAAAAAAAAAAAAAAAAAAAAAAAAAAAAAAAAAAAAAAAAAAAAAAAAAAAAAAAAAAAAAAAAAAAAAAAAAAAAAAAAAAAAAAAAAAAAAAAAAAAAAAAAAAAAAAAAAAAAAAAAAAAAAAAAAAAAAAAAAAAAAAAAAAAAAAAAAAAAAAAAAAAAAAAAAAAAAAAAAAAAAAAAAAAAAAAAAAAAAAAAAAAAAAAAAAAAAAAAAAAAAAAAAAAAAAAAAAAAAAAAAAAAAAAAAAAAAAAAAAAAAAAAAAAAAAAAAAAAAAAAAAAAAAAAAAAAAAAAAAAAAAAAAAAAAAAAAAAAAAAAAAAAAAAAAAAAAAAAAAAAAAAAAAAAAAAAAAAAAAAAAAAAAAAAAAAAAAAAAAAAAAAAAAAAAAAAAAAAAAAAAAAAAAAAAAAAAAAAAAAAAAAAAAAAAAAAAAAAAAAAAAAAAAAAAAAAAAAAAAAAAAAAAAAAAAAAAAAAAAAAAAAAAAAAAAAAAAAAAAAAAAAAAAAAAAAAAAAAAAAAAAAAAAAAAAAAAAAAAAAAAAAAAAAAAAAAAAAAAAAAAAAAAAAAAAAAAAAAAAAAAAAAAAAAAAAAAAAAAAAAAAAAAAAAAAAAAAAAAAAAAAAAAAAAAAAAAAAAAAAAAAAAAAAAAAAAAAAAAAAAAAAAAAAAAAAAAAAAAAAAAAAAAAAAAAAAAAAAAAAAAAAAAAAAAAAAAAAAAAAAAAAAAAAAAAAAAAAAAAAAAAAAAAAAAAAAAAAAAAAAAAAAAAAAAAAAAAAAAAAAAAAAAAAAAAAAAAAAAAAAAAAAAAAAAAAAAAAAAAAAAAAAAAAAAAAAAAAAAAAAAAAAAAAAAAAAAAAAAAAAAAAAAAAAAAAAAAAAAAAAAAAAAAAAAAAAAAAAAAAAAAAAAAAAAAAAAAAAAAAAAAAAAAAAAAAAAAAAAAAAAAAAAAAAAAAAAAAAAAAAAAAAAAAAAAAAAAAAAAAAAAAAAAAAAAAAAAAAAAAAAAAAAAAAAAAAAAAAAAAAAAAAAAAAAAAAAAAAAAAAAAAAAAAAAAAAAAAAAAAAAAAAAAAAAAAAAAAAAAAAAAAAAAAAAAAAAAAAAAAAAAAAAAAAAAAAAAAAAAAAAAAAAAAAAAAAAAAAAAAAAAAAAAAAAAAAAAAAAAAAAAAAAAAAAAAAAAAAAAAAAAAAAAAAAAAAAAAAAAAAAAAAAAAAAAAAAAAAAAAAAAAAAAAAAAAAAAAAAAAAAAAAAAAAAAAAAAAAAAAAAAAAAAAAAAAAAAAAAAAAAAAAAAAAAAAAAAAAAAAAAAAAAAAAAAAAAAAAAAAAAAAAAAAAAAAAAAAAAAAAAAAAAAAAAAAAAAAAAAAAAAAAAAAAAAAAAAAAAAAAAAAAAAAAAAAAAAAAAAAAAAAAAAAAAAAAAAAAAAAAAAAAAAAAAAAAAAAAAAAAAAAAAAAAAAAAAAAAAAAAAAAAAAAAAAAAAAAAAAAAAAAAAAAAAAAAAAAAAAAAAAAAAAAAAAAAAAAAAAAAAAAAAAAAAAAAAAAAAAAAAAAAAAAAAAAAAAAAAAAAAAAAAAAAAAAAAAAAAAAAAAAAAAAAAAAAAAAAAAAAAAAAAAAAAAAAAAAAAAAAAAAAAAAAAAAAAAAAAAAAAAAAAAAAAAAAAAAAAAAAAAAAAAAAAAAAAAAAAAAAAAAAAAAAAAAAAAAAAAAAAAAAAAAAAAAAAAAAAAAAAAAAAAAAAAAAAAAAAAAAAAAAAAAAAAAAAAAAAAAAAAAAAAAAAAAAAAAAAAAAAAAAAAAAAAAAAAAAAAAAAAAAAAAAAAAAAAAAAAAAAAAAAAAAAAAAAAAAAAAAAAAAAAAAAAAAAAAAAAAAAAAAAAAAAAAAAAAAAAAAAAAAAAAAAAAAAAAAAAAAAAAAAAAAAAAAAAAAAAAAAAAAAAAAAAAAAAAAAAAAAAAAAAAAAAAAAAAAAAAAAAAAAAAAAAAAAAAAAAAAAAAAAAAAAAAAAAAAAAAAAAAAAAAAAAAAAAAAAAAAAAAAAAAAAAAAAAAAAAAAAAAAAAAAAAAAAAAAAAAAAAAAAAAAAAAAAAAAAAAAAAAAAAAAAAAAAAAAAAAAAAAAAAAAAAAAAAAAAAAAAAAAAAAAAAAAAAAAAAAAAAAAAAAAAAAAAAAAAAAAAAAAAAAAAAAAAAAAAAAAAAAAAAAAAAAAAAAAAAAAAAAAAAAAAAAAAAAAAAAAAAAAAAAAAAAAAAAAAAAAAAAAAAAAAAAAAAAAAAAAAAAAAAAAAAAAAAAAAAAAAAAAAAAAAAAAAAAAAAAAAAAAAAAAAAAAAAAAAAAAAAAAAAAAAAAAAAAAAAAAAAAAAAAAAAAAAAAAAAAAAAAAAAAAAAAAAAAAAAAAAAAAAAAAAAAAAAAAAAAAAAAAAAAAAAAAAAAAAAAAAAAAAAAAAAAAAAAAAAAAAAAAAAAAAAAAAAAAAAAAAAAAAAAAAAAAAAAAAAAAAAAAAAAAAAAAAAAAAAAAAAAAAAAAAAAAAAAAAAAAAAAAAAAAAAAAAAAAAAAAAAAAAAAAAAAAAAAAAAAAAAAAAAAAAAAAAAAAAAAAAAAAAAAAAAAAAAAAAAAAAAAAAAAAAAAAAAAAAAAAAAAAAAAAAAAAAAAAAAAAAAAAAAAAAAAAAAAAAAAAAAAAAAAAAAAAAAAAAAAAAAAAAAAAAAAAAAAAAAAAAAAAAAAAAAAAAAAAAAAAAAAAAAAAAAAAAAAAAAAAAAAAAAAAAAAAAAAAAAAAAAAAAAAAAAAAAAAAAAAAAAAAAAAAAAAAAAAAAAAAAAAAAAAAAAAAAAAAAAAAAAAAAAAAAAAAAAAAAAAAAAAAAAAAAAAAAAAAAAAAAAAAAAAAAAAAAAAAAAAAAAAAAAAAAAAAAAAAAAAAAAAAAAAAAAAAAAAAAAAAAAAAAAAAAAAAAAAAAAAAAAAAAAAAAAAAAAAAAAAAAAAAAAAAAAAAAAAAAAAAAAAAAAAAAAAAAAAAAAAAAAAAAAAAAAAAAAAAAAAAAAAAAAAAAAAAAAAAAAAAAAAAAAAAAAAAAAAAAAAAAAAAAAAAAAAAAAAAAAAAAAAAAAAAAAAAAAAAAAAAAAAAAAAAAAAAAAAAAAAAAAAAAAAAAAAAAAAAAAAAAAAAAAAAAAAAAAAAAAAAAAAAAAAAAAAAAAAAAAAAAAAAAAAAAAAAAAAAAAAAAAAAAAAAAAAAAAAAAAAAAAAAAAAAAAAAAAAAAAAAAAAAAAAAAAAAAAAAAAAAAAAAAAAAAAAAAAAAAAAAAAAAAAAAAAAAAAAAAAAAAAAAAAAAAAAAAAAAAAAAAAAAAAAAAAAAAAAAAAAAAAAAAAAAAAAAAAAAAAAAAAAAAAAAAAAAAAAAAAAAAAAAAAAAAAAAAAAAAAAAAAAAAAAAAAAAAAAAAAAAAAAAAAAAAAAAAAAAAAAAAAAAAAAAAAAAAAAAAAAAAAAAAAAAAAAAAAAAAAAAAAAAAAAAAAAAAAAAAAAAAAAAAAAAAAAAAAAAAAAAAAAAAAAAAAAAAAAAAAAAAAAAAAAAAAAAAAAAAAAAAAAAAAAAAAAAAAAAAAAAAAAAAAAAAAAAAAAAAAAAAAAAAAAAAAAAAAAAAAAAAAAAAAAAAAAAAAAAAAAAAAAAAAAAAAAAAAAAAAAAAAAAAAAAAAAAAAAAAAAAAAAAAAAAAAAAAAAAAAAAAAAAAAAAAAAAAAAAAAAAAAAAAAAAAAAAAAAAAAAAAAAAAAAAAAAAAAAAAAAAAAAAAAAAAAAAAAAAAAAAAAAAAAAAAAAAAAAAAAAAAAAAAAAAAAAAAAAAAAAAAAAAAAAAAAAAAAAAAAAAAAAAAAAAAAAAAAAAAAAAAAAAAAAAAAAAAAAAAAAAAAAAAAAAAAAAAAAAAAAAAAAAAAAAAAAAAAAAAAAAAAAAAAAAAAAAAAAAAAAAAAAAAAAAAAAAAAAAAAAAAAAAAAAAAAAAAAAAAAAAAAAAAAAAAAAAAAAAAAAAAAAAAAAAAAAAAAAAAAAAAAAAAAAAAAAAAAAAAAAAAAAAAAAAAAAAAAAAAAAAAAAAAAAAAAAAAAAAAAAAAAAAAAAAAAAAAAAAAAAAAAAAAAAAAAAAAAAAAAAAAAAAAAAAAAAAAAAAAAAAAAAAAAAAAAAAAAAAAAAAAAAAAAAAAAAAAAAAAAAAAAAAAAAAAAAAAAAAAAAAAAAAAAAAAAAAAAAAAAAAAAAAAAAAAAAAAAAAAAAAAAAAAAAAAAAAAAAAAAAAAAAAAAAAAAAAAAAAAAAAAAAAAAAAAAAAAAAAAAAAAAAAAAAAAAAAAAAAAAAAAAAAAAAAAAAAAAAAAAAAAAAAAAAAAAAAAAAAAAAAAAAAAAAAAAAAAAAAAAAAAAAAAAAAAAAAAAAAAAAAAAAAAAAAAAAAAAAAAAAAAAAAAAAAAAAAAAAAAAAAAAAAAAAAAAAAAAAAAAAAAAAAAAAAAAAAAAAAAAAAAAAAAAAAAAAAAAAAAAAAAAAAAAAAAAAAAAAAAAAAAAAAAAAAAAAAAAAAAAAAAAAAAAAAAAAAAAAAAAAAAAAAAAAAAAAAAAAAAAAAAAAAAAAAAAAAAAAAAAAAAAAAAAAAAAAAAAAAAAAAAAAAAAAAAAAAAAAAAAAAAAAAAAAAAAAAAAAAAAAAAAAAAAAAAAAAAAAAAAAAAAAAAAAAAAAAAAAAAAAAAAAAAAAAAAAAAAAAAAAAAAAAAAAAAAAAAAAAAAAAAAAAAAAAAAAAAAAAAAAAAAAAAAAAAAAAAAAAAAAAAAAAAAAAAAAAAAAAAAAAAAAAAAAAAAAAAAAAAAAAAAAAAAAAAAAAAAAAAAAAAAAAAAAAAAAAAAAAAAAAAAAAAAAAAAAAAAAAAAAAAAAAAAAAAAAAAAAAAAAAAAAAAAAAAAAAAAAAAAAAAAAAAAAAAAAAAAAAAAAAAAAAAAAAAAAAAAAAAAAAAAAAAAAAAAAAAAAAAAAAAAAAAAAAAAAAAAAAAAAAAAAAAAAAAAAAAAAAAAAAAAAAAAAAAAAAAAAAAAAAAAAAAAAAAAAAAAAAAAAAAAAAAAAAAAAAAAAAAAAAAAAAAAAAAAAAAAAAAAAAAAAAAAAAAAAAAAAAAAAAAAAAAAAAAAAAAAAAAAAAAAAAAAAAAAAAAAAAAAAAAAAAAAAAAAAAAAAAAAAAAAAAAAAAAAAAAAAAAAAAAAAAAAAAAAAAAAAAAAAAAAAAAAAAAAAAAAAAAAAAAAAAAAAAAAAAAAAAAAAAAAAAAAAAAAAAAAAAAAAAAAAAAAAAAAAAAAAAAAAAAAAAAAAAAAAAAAAAAAAAAAAAAAAAAAAAAAAAAAAAAAAAAAAAAAAAAAAAAAAAAAAAAAAAAAAAAAAAAAAAAAAAAAAAAAAAAAAAAAAAAAAAAAAAAAAAAAAAAAAAAAAAAAAAAAAAAAAAAAAAAAAAAAAAAAAAAAAAAAAAAAAAAAAAAAAAAAAAAAAAAAAAAAAAAAAAAAAAAAAAAAAAAAAAAAAAAAAAAAAAAAAAAAAAAAAAAAAAAAAAAAAAAAAAAAAAAAAAAAAAAAAAAAAAAAAAAAAAAAAAAAAAAAAAAAAAAAAAAAAAAAAAAAAAAAAAAAAAAAAAAAAAAAAAAAAAAAAAAAAAAAAAAAAAAAAAAAAAAAAAAAAAAAAAAAAAAAAAAAAAAAAAAAAAAAAAAAAAAAAAAAAAAAAAAAAAAAAAAAAAAAAAAAAAAAAAAAAAAAAAAAAAAAAAAAAAAAAAAAAAAAAAAAAAAAAAAAAAAAAAAAAAAAAAAAAAAAAAAAAAAAAAAAAAAAAAAAAAAAAAAAAAAAAAAAAAAAAAAAAAAAAAAAAAAAAAAAAAAAAAAAAAAAAAAAAAAAAAAAAAAAAAAAAAAAAAAAAAAAAAAAAAAAAAAAAAAAAAAAAAAAAAAAAAAAAAAAAAAAAAAAAAAAAAAAAAAAAAAAAAAAAAAAAAAAAAAAAAAAAAAAAAAAAAAAAAAAAAAAAAAAAAAAAAAAAAAAAAAAAAAAAAAAAAAAAAAAAAAAAAAAAAAAAAAAAAAAAAAAAAAAAAAAAAAAAAAAAAAAAAAAAAAAAAAAAAAAAAAAAAAAAAAAAAAAAAAAAAAAAAAAAAAAAAAAAAAAAAAAAAAAAAAAAAAAAAAAAAAAAAAAAAAAAAAAAAAAAAAAAAAAAAAAAAAAAAAAAAAAAAAAAAAAAAAAAAAAAAAAAAAAAAAAAAAAAAAAAAAAAAAAAAAAAAAAAAAAAAAAAAAAAAAAAAAAAAAAAAAAAAAAAAAAAAAAAAAAAAAAAAAAAAAAAAAAAAAAAAAAAAAAAAAAAAAAAAAAAAAAAAAAAAAAAAAAAAAAAAAAAAAAAAAAAAAAAAAAAAAAAAAAAAAAAAAAAAAAAAAAAAAAAAAAAAAAAAAAAAAAAAAAAAAAAAAAAAAAAAAAAAAAAAAAAAAAAAAAAAAAAAAAAAAAAAAAAAAAAAAAAAAAAAAAAAAAAAAAAAAAAAAAAAAAAAAAAAAAAAAAAAAAAAAAAAAAAAAAAAAAAAAAAAAAAAAAAAAAAAAAAAAAAAAAAAAAAAAAAAAAAAAAAAAAAAAAAAAAAAAAAAAAAAAAAAAAAAAAAAAAAAAAAAAAAAAAAAAAAAAAAAAAAAAAAAAAAAAAAAAAAAAAAAAAAAAAAAAAAAAAAAAAAAAAAAAAAAAAAAAAAAAAAAAAAAAAAAAAAAAAAAAAAAAAAAAAAAAAAAAAAAAAAAAAAAAAAAAAAAAAAAAAAAAAAAAAAAAAAAAAAAAAAAAAAAAAAAAAAAAAAAAAAAAAAAAAAAAAAAAAAAAAAAAAAAAAAAAAAAAAAAAAAAAAAAAAAAAAAAAAAAAAAAAAAAAAAAAAAAAAAAAAAAAAAAAAAAAAAAAAAAAAAAAAAAAAAAAAAAAAAAAAAAAAAAAAAAAAAAAAAAAAAAAAAAAAAAAAAAAAAAAAAAAAAAAAAAAAAAAAAAAAAAAAAAAAAAAAAAAAAAAAAAAAAAAAAAAAAAAAAAAAAAAAAAAAAAAAAAAAAAAAAAAAAAAAAAAAAAAAAAAAAAAAAAAAAAAAAAAAAAAAAAAAAAAAAAAAAAAAAAAAAAAAAAAAAAAAAAAAAAAAAAAAAAAAAAAAAAAAAAAAAAAAAAAAAAAAAAAAAAAAAAAAAAAAAAAAAAAAAAAAAAAAAAAAAAAAAAAAAAAAAAAAAAAAAAAAAAAAAAAAAAAAAAAAAAAAAAAAAAAAAAAAAAAAAAAAAAAAAAAAAAAAAAAAAAAAAAAAAAAAAAAAAAAAAAAAAAAAAAAAAAAAAAAAAAAAAAAAAAAAAAAAAAAAAAAAAAAAAAAAAAAAAAAAAAAAAAAAAAAAAAAAAAAAAAAAAAAAAAAAAAAAAAAAAAAAAAAAAAAAAAAAAAAAAAAAAAAAAAAAAAAAAAAAAAAAAAAAAAAAAAAAAAAAAAAAAAAAAAAAAAAAAAAAAAAAAAAAAAAAAAAAAAAAAAAAAAAAAAAAAAAAAAAAAAAAAAAAAAAAAAAAAAAAAAAAAAAAAAAAAAAAAAAAAAAAAAAAAAAAAAAAAAAAAAAAAAAAAAAAAAAAAAAAAAAAAAAAAAAAAAAAAAAAAAAAAAAAAAAAAAAAAAAAAAAAAAAAAAAAAAAAAAAAAAAAAAAAAAAAAAAAAAAAAAAAAAAAAAAAAAAAAAAAAAAAAAAAAAAAAAAAAAAAAAAAAAAAAAAAAAAAAAAAAAAAAAAAAAAAAAAAAAAAAAAAAAAAAAAAAAAAAAAAAAAAAAAAAAAAAAAAAAAAAAAAAAAAAAAAAAAAAAAAA=",
                    "dtype": "i4"
                  },
                  "x0": " ",
                  "xaxis": "x",
                  "y": {
                    "bdata": "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",
                    "dtype": "i1"
                  },
                  "y0": " ",
                  "yaxis": "y"
                },
                {
                  "alignmentgroup": "True",
                  "hovertemplate": "ESTADO DEL CLIENTE=%{x}<br>CANTIDAD DE SERVICIOS=%{y}<extra></extra>",
                  "legendgroup": "1",
                  "marker": {
                    "color": "#d56e00"
                  },
                  "name": "1",
                  "notched": false,
                  "offsetgroup": "1",
                  "orientation": "v",
                  "showlegend": true,
                  "type": "box",
                  "x": {
                    "bdata": "AQAAAAEAAAABAAAAAQAAAAEAAAABAAAAAQAAAAEAAAABAAAAAQAAAAEAAAABAAAAAQAAAAEAAAABAAAAAQAAAAEAAAABAAAAAQAAAAEAAAABAAAAAQAAAAEAAAABAAAAAQAAAAEAAAABAAAAAQAAAAEAAAABAAAAAQAAAAEAAAABAAAAAQAAAAEAAAABAAAAAQAAAAEAAAABAAAAAQAAAAEAAAABAAAAAQAAAAEAAAABAAAAAQAAAAEAAAABAAAAAQAAAAEAAAABAAAAAQAAAAEAAAABAAAAAQAAAAEAAAABAAAAAQAAAAEAAAABAAAAAQAAAAEAAAABAAAAAQAAAAEAAAABAAAAAQAAAAEAAAABAAAAAQAAAAEAAAABAAAAAQAAAAEAAAABAAAAAQAAAAEAAAABAAAAAQAAAAEAAAABAAAAAQAAAAEAAAABAAAAAQAAAAEAAAABAAAAAQAAAAEAAAABAAAAAQAAAAEAAAABAAAAAQAAAAEAAAABAAAAAQAAAAEAAAABAAAAAQAAAAEAAAABAAAAAQAAAAEAAAABAAAAAQAAAAEAAAABAAAAAQAAAAEAAAABAAAAAQAAAAEAAAABAAAAAQAAAAEAAAABAAAAAQAAAAEAAAABAAAAAQAAAAEAAAABAAAAAQAAAAEAAAABAAAAAQAAAAEAAAABAAAAAQAAAAEAAAABAAAAAQAAAAEAAAABAAAAAQAAAAEAAAABAAAAAQAAAAEAAAABAAAAAQAAAAEAAAABAAAAAQAAAAEAAAABAAAAAQAAAAEAAAABAAAAAQAAAAEAAAABAAAAAQAAAAEAAAABAAAAAQAAAAEAAAABAAAAAQAAAAEAAAABAAAAAQAAAAEAAAABAAAAAQAAAAEAAAABAAAAAQAAAAEAAAABAAAAAQAAAAEAAAABAAAAAQAAAAEAAAABAAAAAQAAAAEAAAABAAAAAQAAAAEAAAABAAAAAQAAAAEAAAABAAAAAQAAAAEAAAABAAAAAQAAAAEAAAABAAAAAQAAAAEAAAABAAAAAQAAAAEAAAABAAAAAQAAAAEAAAABAAAAAQAAAAEAAAABAAAAAQAAAAEAAAABAAAAAQAAAAEAAAABAAAAAQAAAAEAAAABAAAAAQAAAAEAAAABAAAAAQAAAAEAAAABAAAAAQAAAAEAAAABAAAAAQAAAAEAAAABAAAAAQAAAAEAAAABAAAAAQAAAAEAAAABAAAAAQAAAAEAAAABAAAAAQAAAAEAAAABAAAAAQAAAAEAAAABAAAAAQAAAAEAAAABAAAAAQAAAAEAAAABAAAAAQAAAAEAAAABAAAAAQAAAAEAAAABAAAAAQAAAAEAAAABAAAAAQAAAAEAAAABAAAAAQAAAAEAAAABAAAAAQAAAAEAAAABAAAAAQAAAAEAAAABAAAAAQAAAAEAAAABAAAAAQAAAAEAAAABAAAAAQAAAAEAAAABAAAAAQAAAAEAAAABAAAAAQAAAAEAAAABAAAAAQAAAAEAAAABAAAAAQAAAAEAAAABAAAAAQAAAAEAAAABAAAAAQAAAAEAAAABAAAAAQAAAAEAAAABAAAAAQAAAAEAAAABAAAAAQAAAAEAAAABAAAAAQAAAAEAAAABAAAAAQAAAAEAAAABAAAAAQAAAAEAAAABAAAAAQAAAAEAAAABAAAAAQAAAAEAAAABAAAAAQAAAAEAAAABAAAAAQAAAAEAAAABAAAAAQAAAAEAAAABAAAAAQAAAAEAAAABAAAAAQAAAAEAAAABAAAAAQAAAAEAAAABAAAAAQAAAAEAAAABAAAAAQAAAAEAAAABAAAAAQAAAAEAAAABAAAAAQAAAAEAAAABAAAAAQAAAAEAAAABAAAAAQAAAAEAAAABAAAAAQAAAAEAAAABAAAAAQAAAAEAAAABAAAAAQAAAAEAAAABAAAAAQAAAAEAAAABAAAAAQAAAAEAAAABAAAAAQAAAAEAAAABAAAAAQAAAAEAAAABAAAAAQAAAAEAAAABAAAAAQAAAAEAAAABAAAAAQAAAAEAAAABAAAAAQAAAAEAAAABAAAAAQAAAAEAAAABAAAAAQAAAAEAAAABAAAAAQAAAAEAAAABAAAAAQAAAAEAAAABAAAAAQAAAAEAAAABAAAAAQAAAAEAAAABAAAAAQAAAAEAAAABAAAAAQAAAAEAAAABAAAAAQAAAAEAAAABAAAAAQAAAAEAAAABAAAAAQAAAAEAAAABAAAAAQAAAAEAAAABAAAAAQAAAAEAAAABAAAAAQAAAAEAAAABAAAAAQAAAAEAAAABAAAAAQAAAAEAAAABAAAAAQAAAAEAAAABAAAAAQAAAAEAAAABAAAAAQAAAAEAAAABAAAAAQAAAAEAAAABAAAAAQAAAAEAAAABAAAAAQAAAAEAAAABAAAAAQAAAAEAAAABAAAAAQAAAAEAAAABAAAAAQAAAAEAAAABAAAAAQAAAAEAAAABAAAAAQAAAAEAAAABAAAAAQAAAAEAAAABAAAAAQAAAAEAAAABAAAAAQAAAAEAAAABAAAAAQAAAAEAAAABAAAAAQAAAAEAAAABAAAAAQAAAAEAAAABAAAAAQAAAAEAAAABAAAAAQAAAAEAAAABAAAAAQAAAAEAAAABAAAAAQAAAAEAAAABAAAAAQAAAAEAAAABAAAAAQAAAAEAAAABAAAAAQAAAAEAAAABAAAAAQAAAAEAAAABAAAAAQAAAAEAAAABAAAAAQAAAAEAAAABAAAAAQAAAAEAAAABAAAAAQAAAAEAAAABAAAAAQAAAAEAAAABAAAAAQAAAAEAAAABAAAAAQAAAAEAAAABAAAAAQAAAAEAAAABAAAAAQAAAAEAAAABAAAAAQAAAAEAAAABAAAAAQAAAAEAAAABAAAAAQAAAAEAAAABAAAAAQAAAAEAAAABAAAAAQAAAAEAAAABAAAAAQAAAAEAAAABAAAAAQAAAAEAAAABAAAAAQAAAAEAAAABAAAAAQAAAAEAAAABAAAAAQAAAAEAAAABAAAAAQAAAAEAAAABAAAAAQAAAAEAAAABAAAAAQAAAAEAAAABAAAAAQAAAAEAAAABAAAAAQAAAAEAAAABAAAAAQAAAAEAAAABAAAAAQAAAAEAAAABAAAAAQAAAAEAAAABAAAAAQAAAAEAAAABAAAAAQAAAAEAAAABAAAAAQAAAAEAAAABAAAAAQAAAAEAAAABAAAAAQAAAAEAAAABAAAAAQAAAAEAAAABAAAAAQAAAAEAAAABAAAAAQAAAAEAAAABAAAAAQAAAAEAAAABAAAAAQAAAAEAAAABAAAAAQAAAAEAAAABAAAAAQAAAAEAAAABAAAAAQAAAAEAAAABAAAAAQAAAAEAAAABAAAAAQAAAAEAAAABAAAAAQAAAAEAAAABAAAAAQAAAAEAAAABAAAAAQAAAAEAAAABAAAAAQAAAAEAAAABAAAAAQAAAAEAAAABAAAAAQAAAAEAAAABAAAAAQAAAAEAAAABAAAAAQAAAAEAAAABAAAAAQAAAAEAAAABAAAAAQAAAAEAAAABAAAAAQAAAAEAAAABAAAAAQAAAAEAAAABAAAAAQAAAAEAAAABAAAAAQAAAAEAAAABAAAAAQAAAAEAAAABAAAAAQAAAAEAAAABAAAAAQAAAAEAAAABAAAAAQAAAAEAAAABAAAAAQAAAAEAAAABAAAAAQAAAAEAAAABAAAAAQAAAAEAAAABAAAAAQAAAAEAAAABAAAAAQAAAAEAAAABAAAAAQAAAAEAAAABAAAAAQAAAAEAAAABAAAAAQAAAAEAAAABAAAAAQAAAAEAAAABAAAAAQAAAAEAAAABAAAAAQAAAAEAAAABAAAAAQAAAAEAAAABAAAAAQAAAAEAAAABAAAAAQAAAAEAAAABAAAAAQAAAAEAAAABAAAAAQAAAAEAAAABAAAAAQAAAAEAAAABAAAAAQAAAAEAAAABAAAAAQAAAAEAAAABAAAAAQAAAAEAAAABAAAAAQAAAAEAAAABAAAAAQAAAAEAAAABAAAAAQAAAAEAAAABAAAAAQAAAAEAAAABAAAAAQAAAAEAAAABAAAAAQAAAAEAAAABAAAAAQAAAAEAAAABAAAAAQAAAAEAAAABAAAAAQAAAAEAAAABAAAAAQAAAAEAAAABAAAAAQAAAAEAAAABAAAAAQAAAAEAAAABAAAAAQAAAAEAAAABAAAAAQAAAAEAAAABAAAAAQAAAAEAAAABAAAAAQAAAAEAAAABAAAAAQAAAAEAAAABAAAAAQAAAAEAAAABAAAAAQAAAAEAAAABAAAAAQAAAAEAAAABAAAAAQAAAAEAAAABAAAAAQAAAAEAAAABAAAAAQAAAAEAAAABAAAAAQAAAAEAAAABAAAAAQAAAAEAAAABAAAAAQAAAAEAAAABAAAAAQAAAAEAAAABAAAAAQAAAAEAAAABAAAAAQAAAAEAAAABAAAAAQAAAAEAAAABAAAAAQAAAAEAAAABAAAAAQAAAAEAAAABAAAAAQAAAAEAAAABAAAAAQAAAAEAAAABAAAAAQAAAAEAAAABAAAAAQAAAAEAAAABAAAAAQAAAAEAAAABAAAAAQAAAAEAAAABAAAAAQAAAAEAAAABAAAAAQAAAAEAAAABAAAAAQAAAAEAAAABAAAAAQAAAAEAAAABAAAAAQAAAAEAAAABAAAAAQAAAAEAAAABAAAAAQAAAAEAAAABAAAAAQAAAAEAAAABAAAAAQAAAAEAAAABAAAAAQAAAAEAAAABAAAAAQAAAAEAAAABAAAAAQAAAAEAAAABAAAAAQAAAAEAAAABAAAAAQAAAAEAAAABAAAAAQAAAAEAAAABAAAAAQAAAAEAAAABAAAAAQAAAAEAAAABAAAAAQAAAAEAAAABAAAAAQAAAAEAAAABAAAAAQAAAAEAAAABAAAAAQAAAAEAAAABAAAAAQAAAAEAAAABAAAAAQAAAAEAAAABAAAAAQAAAAEAAAABAAAAAQAAAAEAAAABAAAAAQAAAAEAAAABAAAAAQAAAAEAAAABAAAAAQAAAAEAAAABAAAAAQAAAAEAAAABAAAAAQAAAAEAAAABAAAAAQAAAAEAAAABAAAAAQAAAAEAAAABAAAAAQAAAAEAAAABAAAAAQAAAAEAAAABAAAAAQAAAAEAAAABAAAAAQAAAAEAAAABAAAAAQAAAAEAAAABAAAAAQAAAAEAAAABAAAAAQAAAAEAAAABAAAAAQAAAAEAAAABAAAAAQAAAAEAAAABAAAAAQAAAAEAAAABAAAAAQAAAAEAAAABAAAAAQAAAAEAAAABAAAAAQAAAAEAAAABAAAAAQAAAAEAAAABAAAAAQAAAAEAAAABAAAAAQAAAAEAAAABAAAAAQAAAAEAAAABAAAAAQAAAAEAAAABAAAAAQAAAAEAAAABAAAAAQAAAAEAAAABAAAAAQAAAAEAAAABAAAAAQAAAAEAAAABAAAAAQAAAAEAAAABAAAAAQAAAAEAAAABAAAAAQAAAAEAAAABAAAAAQAAAAEAAAABAAAAAQAAAAEAAAABAAAAAQAAAAEAAAABAAAAAQAAAAEAAAABAAAAAQAAAAEAAAABAAAAAQAAAAEAAAABAAAAAQAAAAEAAAABAAAAAQAAAAEAAAABAAAAAQAAAAEAAAABAAAAAQAAAAEAAAABAAAAAQAAAAEAAAABAAAAAQAAAAEAAAABAAAAAQAAAAEAAAABAAAAAQAAAAEAAAABAAAAAQAAAAEAAAABAAAAAQAAAAEAAAABAAAAAQAAAAEAAAABAAAAAQAAAAEAAAABAAAAAQAAAAEAAAABAAAAAQAAAAEAAAABAAAAAQAAAAEAAAABAAAAAQAAAAEAAAABAAAAAQAAAAEAAAABAAAAAQAAAAEAAAABAAAAAQAAAAEAAAABAAAAAQAAAAEAAAABAAAAAQAAAAEAAAABAAAAAQAAAAEAAAABAAAAAQAAAAEAAAABAAAAAQAAAAEAAAABAAAAAQAAAAEAAAABAAAAAQAAAAEAAAABAAAAAQAAAAEAAAABAAAAAQAAAAEAAAABAAAAAQAAAAEAAAABAAAAAQAAAAEAAAABAAAAAQAAAAEAAAABAAAAAQAAAAEAAAABAAAAAQAAAAEAAAABAAAAAQAAAAEAAAABAAAAAQAAAAEAAAABAAAAAQAAAAEAAAABAAAAAQAAAAEAAAABAAAAAQAAAAEAAAABAAAAAQAAAAEAAAABAAAAAQAAAAEAAAABAAAAAQAAAAEAAAABAAAAAQAAAAEAAAABAAAAAQAAAAEAAAABAAAAAQAAAAEAAAABAAAAAQAAAAEAAAABAAAAAQAAAAEAAAABAAAAAQAAAAEAAAABAAAAAQAAAAEAAAABAAAAAQAAAAEAAAABAAAAAQAAAAEAAAABAAAAAQAAAAEAAAABAAAAAQAAAAEAAAABAAAAAQAAAAEAAAABAAAAAQAAAAEAAAABAAAAAQAAAAEAAAABAAAAAQAAAAEAAAABAAAAAQAAAAEAAAABAAAAAQAAAAEAAAABAAAAAQAAAAEAAAABAAAAAQAAAAEAAAABAAAAAQAAAAEAAAABAAAAAQAAAAEAAAABAAAAAQAAAAEAAAABAAAAAQAAAAEAAAABAAAAAQAAAAEAAAABAAAAAQAAAAEAAAABAAAAAQAAAAEAAAABAAAAAQAAAAEAAAABAAAAAQAAAAEAAAABAAAAAQAAAAEAAAABAAAAAQAAAAEAAAABAAAAAQAAAAEAAAABAAAAAQAAAAEAAAABAAAAAQAAAAEAAAABAAAAAQAAAAEAAAABAAAAAQAAAAEAAAABAAAAAQAAAAEAAAABAAAAAQAAAAEAAAABAAAAAQAAAAEAAAABAAAAAQAAAAEAAAABAAAAAQAAAAEAAAABAAAAAQAAAAEAAAABAAAAAQAAAAEAAAABAAAAAQAAAAEAAAABAAAAAQAAAAEAAAABAAAAAQAAAAEAAAABAAAAAQAAAAEAAAABAAAAAQAAAAEAAAABAAAAAQAAAAEAAAABAAAAAQAAAAEAAAABAAAAAQAAAAEAAAABAAAAAQAAAAEAAAABAAAAAQAAAAEAAAABAAAAAQAAAAEAAAABAAAAAQAAAAEAAAABAAAAAQAAAAEAAAABAAAAAQAAAAEAAAABAAAAAQAAAAEAAAABAAAAAQAAAAEAAAABAAAAAQAAAAEAAAABAAAAAQAAAAEAAAABAAAAAQAAAAEAAAABAAAAAQAAAAEAAAABAAAAAQAAAAEAAAABAAAAAQAAAAEAAAABAAAAAQAAAAEAAAABAAAAAQAAAAEAAAABAAAAAQAAAAEAAAABAAAAAQAAAAEAAAABAAAAAQAAAAEAAAABAAAAAQAAAAEAAAABAAAAAQAAAAEAAAABAAAAAQAAAAEAAAABAAAAAQAAAAEAAAABAAAAAQAAAAEAAAABAAAAAQAAAAEAAAABAAAAAQAAAAEAAAABAAAAAQAAAAEAAAABAAAAAQAAAAEAAAABAAAAAQAAAAEAAAABAAAAAQAAAAEAAAABAAAAAQAAAAEAAAABAAAAAQAAAAEAAAABAAAAAQAAAAEAAAABAAAAAQAAAAEAAAABAAAAAQAAAAEAAAABAAAAAQAAAAEAAAABAAAAAQAAAAEAAAABAAAAAQAAAAEAAAABAAAAAQAAAAEAAAABAAAAAQAAAAEAAAABAAAAAQAAAAEAAAABAAAAAQAAAAEAAAABAAAAAQAAAAEAAAABAAAAAQAAAAEAAAABAAAAAQAAAAEAAAABAAAAAQAAAAEAAAABAAAAAQAAAAEAAAABAAAAAQAAAAEAAAABAAAAAQAAAAEAAAABAAAAAQAAAAEAAAABAAAAAQAAAAEAAAABAAAAAQAAAAEAAAABAAAAAQAAAAEAAAABAAAAAQAAAAEAAAABAAAAAQAAAAEAAAABAAAAAQAAAAEAAAABAAAAAQAAAAEAAAABAAAAAQAAAAEAAAABAAAAAQAAAAEAAAABAAAAAQAAAAEAAAABAAAAAQAAAAEAAAABAAAAAQAAAAEAAAABAAAAAQAAAAEAAAABAAAAAQAAAAEAAAABAAAAAQAAAAEAAAABAAAAAQAAAAEAAAABAAAAAQAAAAEAAAABAAAAAQAAAAEAAAABAAAAAQAAAAEAAAABAAAAAQAAAAEAAAABAAAAAQAAAAEAAAABAAAAAQAAAAEAAAABAAAAAQAAAAEAAAABAAAAAQAAAAEAAAABAAAAAQAAAAEAAAABAAAAAQAAAAEAAAABAAAAAQAAAAEAAAABAAAAAQAAAAEAAAABAAAAAQAAAAEAAAABAAAAAQAAAAEAAAABAAAAAQAAAAEAAAABAAAAAQAAAAEAAAABAAAAAQAAAAEAAAABAAAAAQAAAAEAAAABAAAAAQAAAAEAAAABAAAAAQAAAAEAAAABAAAAAQAAAAEAAAABAAAAAQAAAAEAAAABAAAAAQAAAAEAAAABAAAAAQAAAAEAAAABAAAAAQAAAAEAAAABAAAAAQAAAAEAAAABAAAAAQAAAAEAAAABAAAAAQAAAAEAAAABAAAAAQAAAAEAAAABAAAAAQAAAAEAAAABAAAAAQAAAAEAAAABAAAAAQAAAAEAAAABAAAAAQAAAAEAAAABAAAAAQAAAAEAAAABAAAAAQAAAAEAAAABAAAAAQAAAAEAAAABAAAAAQAAAAEAAAABAAAAAQAAAAEAAAABAAAAAQAAAAEAAAABAAAAAQAAAAEAAAABAAAAAQAAAAEAAAABAAAAAQAAAAEAAAABAAAAAQAAAAEAAAABAAAAAQAAAAEAAAABAAAAAQAAAAEAAAABAAAAAQAAAAEAAAABAAAAAQAAAAEAAAABAAAAAQAAAAEAAAABAAAAAQAAAAEAAAABAAAAAQAAAAEAAAABAAAAAQAAAAEAAAABAAAAAQAAAAEAAAABAAAAAQAAAAEAAAABAAAAAQAAAAEAAAABAAAAAQAAAAEAAAABAAAAAQAAAAEAAAABAAAAAQAAAAEAAAABAAAAAQAAAAEAAAABAAAAAQAAAAEAAAABAAAAAQAAAAEAAAABAAAAAQAAAAEAAAABAAAAAQAAAAEAAAABAAAAAQAAAAEAAAABAAAAAQAAAAEAAAABAAAAAQAAAAEAAAABAAAAAQAAAAEAAAABAAAAAQAAAAEAAAABAAAAAQAAAAEAAAABAAAAAQAAAAEAAAABAAAAAQAAAAEAAAABAAAAAQAAAAEAAAABAAAAAQAAAAEAAAABAAAAAQAAAAEAAAABAAAAAQAAAAEAAAABAAAAAQAAAAEAAAABAAAAAQAAAAEAAAABAAAAAQAAAAEAAAABAAAAAQAAAAEAAAABAAAAAQAAAAEAAAABAAAAAQAAAAEAAAABAAAAAQAAAAEAAAABAAAAAQAAAAEAAAABAAAAAQAAAAEAAAABAAAAAQAAAAEAAAABAAAAAQAAAAEAAAABAAAAAQAAAAEAAAABAAAAAQAAAAEAAAABAAAAAQAAAAEAAAABAAAAAQAAAAEAAAABAAAAAQAAAAEAAAABAAAAAQAAAAEAAAABAAAAAQAAAAEAAAABAAAAAQAAAAEAAAABAAAAAQAAAAEAAAABAAAAAQAAAAEAAAABAAAAAQAAAAEAAAABAAAAAQAAAAEAAAABAAAAAQAAAAEAAAABAAAAAQAAAAEAAAABAAAAAQAAAAEAAAABAAAAAQAAAAEAAAABAAAAAQAAAAEAAAABAAAAAQAAAAEAAAABAAAAAQAAAAEAAAABAAAAAQAAAAEAAAABAAAAAQAAAAEAAAABAAAAAQAAAAEAAAABAAAAAQAAAAEAAAABAAAAAQAAAAEAAAABAAAAAQAAAAEAAAABAAAAAQAAAAEAAAABAAAAAQAAAAEAAAABAAAAAQAAAAEAAAABAAAAAQAAAAEAAAABAAAAAQAAAAEAAAABAAAA",
                    "dtype": "i4"
                  },
                  "x0": " ",
                  "xaxis": "x",
                  "y": {
                    "bdata": "AwYEBQIGBQMDBwUFBggIBQMGBQUEBQUCBAcEBAkGBwUEAwMEBQMDBAYDBQUHBQYFBgQDBgIDBgUCBgIEBwQHBgQIAwUFBAUDAgUHAwYGAgIFBAUFBgQGAgMEBQMCAgUEAgYEAwUFCAYGBAMGBAUEAgIGAwMCBAYFAwQGBwQHBgICBgUCBwQIBQQGAwYDAwYEBAMEAggFBQUDBgQEAgQDBQQDBAYEBAYDBAQHBgUGAgcGBwQDAwYEBgMDBgUCBAYDBQUFAgMFAgUCBgIFBAYCAgUDBgUHBAQCAwQIAwMFBAMEAwMFAwcEBQQGAwMFBgQFBQMEBwMDBgQCBAcFAgUFBQUDBwQDAwkCBQMFBgMEBgcGBQICBwUGBQYFBAkEBQYEBgUFBQgDBgIEAwYGAwIDBAUEBAUFBQMFAwMEAwYECAUGAgMDAwIGBQMCAgMHAgIEBgMEBwUFBAcFAwIEBAUCBQQFAgMDAwgDBQYDBAYEAwYDBwUHBAYFAgQCAwQCAgUFAwYEAwQCAgUFBwQGBwUEBwQEBAQDAwIFBwMDBgcHAgYDAwkDBQUHBQUGBwQHBAcCBAYDAwMCCAgDBgQGAgYGBQUGBQIFAwQHAgMDBgMFBgYCBgICAwIDBgMCAwYFAgUEBAUDBgQIBQUCBAUGBQQDAgUFAwcEBAMGBQMDBQMEBwMCBQIIBAUFAgYFAgQEBAUDAwQFBQUCBwkDBgYDBQYGAgMEBQMFBAIDAgYGAwUDAwQGBwYFBgQEBAIEBgQFBwMCBQMDAggDBQMHAwQFBAQEBgQDBQUFAgIGBQYIBAQGAwIFBAcDAwIEBAUHBQMDAwQDBAUFBwUIAwgFBQYEBgIFBwYFAgUEBwIIAwIGBQYDAgYFBgMEBQQDBAQDBggCAwUIBwYCAwUFBQQEBgQFAgQEAwIDBwUFAwQDAgIEBAYEAwIDBAICBwcDBgMGBQICBAUHBAYEBAQHBQMCAwUIAgUEAggEBQYEAgIFBwcDAgMDBwYDBAUIAgYEBgYDBgMHBgYEBQMHBQMHAgQDBQQEBQQEBQUFBQQFBQQFAgUEAgMFBQMGAgQFBAgFAwMDBAQGBAYGAwcEBQIEAwcJAgQFBQUHBQcEAwcFBAIGBAMHBQUDBwUHAgMDAgQCBAYDBQQDBAIHBQUHAgMEAwMDBAcFAwYGBgIEBwMDBQQEAgMEAwMHBgQFAgMCBAUGBAICBAYDBQIGBQMEAgUCBgcFCAYEBQcFBgIDAgQEBgQEBQYEBAUFBAMCBwICBAUCBQUFBgUEBAUEBwMFAgUDBQUEAwYCBQMIAwgCAgIFAwUHAwUFAgQIBQgCAwcCBwYDBQcDAgUFAgUEAgQDAwQEBwMEAwgDBQIJAwIEBQcHBwMGBgQEBAUFBAQFBQQCAwUHBAcDAwYGBgUIBQMHAwcGBwIGBQIFBAMFBwUGBQUHBQYEAgICBAMFBQQGAwQFAgYCBAYFBQUGAwUCBQQEBQQFBQICBQQGBAMGBwMGBQQCBQYCAwMFAwQCBAYCBgQDAwQDAwUDBQcCAgQEBAUDBQMCBQUEBAMFBAIDBgYCBAYGAgQDBQcFBQYDBQQCAgUCAgMCAgQFBAcEBwYEAwIEAwMHBQQFBgQHAwcDBgMEBQYFBAQFBAUDBAUDBQIDAwIIAwUHBgQHAgUCAwcFAwUCAwYEBQcGAgMHBQUDBgUDBQUCBQUDCAMGBQQDAwgCBwcGAgcIBwMEBgQGAwMFBQMFBAUHBAUHBAUHBgcFBgMCBQcGBQUFBgMDBAUHAwUHAwMGAwMCAwUGAgMDBAIFBAQIAgMEBAIFBgYCBwYCBwQGBgcCBAcDBAQEBwIEAwcDAgcFBgUEBgMFBQYCBQQDBAIFBAQIBAYECAUFAwIGAwIDBAMCAwMFBgUFBQUFBgQEBAMEBAQDBQUDAgUGBQcEBQUDBAMDAwQCAgIDAwMHAwQFBAQDAwQIAwMHBgICAgQCBQQHBAQEAwQFAwcDAwcDBwMEBgcEAgYDBwIEBQIFBQUFBQUDBAUGAwcFBAIDBAUCBgUGBAIFBQUDAgUEBQcDBQICBQMEAgQFAwMFBgIDAwUDBwcEBQMHBgYFAwMDCQUDAgUFAwICBwYDBQQFBwUEBQUFAwMDBgICBAMFBgQFBAQGAwQGAwQEAwUCAwYGBAMHAwUDCQQDBAUDBgUFBwYIBwYEBgQCAwcDAwQDAwMFBQMFBQMGBgMGBAIFBAUGBgUDBAcDBgMEAgQHBQcEBAcFAwYDBgMFBAQHAwMGBgQEBAUCBAMFBQMGBgUFCQMFAwUFCAcDCAQEAgQEAgYJBggGBAUEBQUDBgUHBQIDAgUDCAMFBgYDAwQDAwUDBgMDBQYIBAQFBAMDAgYHBQYFBQMGAgQDBAQCBAUFAwUEBgUDBQQCBQMDBQIIBgIFBgUHBAQFBAMGBwYHAwQGAwMFBwIEAgQDBgMGBAMHAgUDAwICBggDAwQDCAcDBAcDAwYDAwUCBgQGAwUDBAUEAgUE",
                    "dtype": "i1"
                  },
                  "y0": " ",
                  "yaxis": "y"
                }
              ],
              "layout": {
                "boxmode": "overlay",
                "legend": {
                  "title": {
                    "text": "ESTADO DEL CLIENTE"
                  },
                  "tracegroupgap": 0
                },
                "template": {
                  "data": {
                    "bar": [
                      {
                        "error_x": {
                          "color": "#2a3f5f"
                        },
                        "error_y": {
                          "color": "#2a3f5f"
                        },
                        "marker": {
                          "line": {
                            "color": "#E5ECF6",
                            "width": 0.5
                          },
                          "pattern": {
                            "fillmode": "overlay",
                            "size": 10,
                            "solidity": 0.2
                          }
                        },
                        "type": "bar"
                      }
                    ],
                    "barpolar": [
                      {
                        "marker": {
                          "line": {
                            "color": "#E5ECF6",
                            "width": 0.5
                          },
                          "pattern": {
                            "fillmode": "overlay",
                            "size": 10,
                            "solidity": 0.2
                          }
                        },
                        "type": "barpolar"
                      }
                    ],
                    "carpet": [
                      {
                        "aaxis": {
                          "endlinecolor": "#2a3f5f",
                          "gridcolor": "white",
                          "linecolor": "white",
                          "minorgridcolor": "white",
                          "startlinecolor": "#2a3f5f"
                        },
                        "baxis": {
                          "endlinecolor": "#2a3f5f",
                          "gridcolor": "white",
                          "linecolor": "white",
                          "minorgridcolor": "white",
                          "startlinecolor": "#2a3f5f"
                        },
                        "type": "carpet"
                      }
                    ],
                    "choropleth": [
                      {
                        "colorbar": {
                          "outlinewidth": 0,
                          "ticks": ""
                        },
                        "type": "choropleth"
                      }
                    ],
                    "contour": [
                      {
                        "colorbar": {
                          "outlinewidth": 0,
                          "ticks": ""
                        },
                        "colorscale": [
                          [
                            0,
                            "#0d0887"
                          ],
                          [
                            0.1111111111111111,
                            "#46039f"
                          ],
                          [
                            0.2222222222222222,
                            "#7201a8"
                          ],
                          [
                            0.3333333333333333,
                            "#9c179e"
                          ],
                          [
                            0.4444444444444444,
                            "#bd3786"
                          ],
                          [
                            0.5555555555555556,
                            "#d8576b"
                          ],
                          [
                            0.6666666666666666,
                            "#ed7953"
                          ],
                          [
                            0.7777777777777778,
                            "#fb9f3a"
                          ],
                          [
                            0.8888888888888888,
                            "#fdca26"
                          ],
                          [
                            1,
                            "#f0f921"
                          ]
                        ],
                        "type": "contour"
                      }
                    ],
                    "contourcarpet": [
                      {
                        "colorbar": {
                          "outlinewidth": 0,
                          "ticks": ""
                        },
                        "type": "contourcarpet"
                      }
                    ],
                    "heatmap": [
                      {
                        "colorbar": {
                          "outlinewidth": 0,
                          "ticks": ""
                        },
                        "colorscale": [
                          [
                            0,
                            "#0d0887"
                          ],
                          [
                            0.1111111111111111,
                            "#46039f"
                          ],
                          [
                            0.2222222222222222,
                            "#7201a8"
                          ],
                          [
                            0.3333333333333333,
                            "#9c179e"
                          ],
                          [
                            0.4444444444444444,
                            "#bd3786"
                          ],
                          [
                            0.5555555555555556,
                            "#d8576b"
                          ],
                          [
                            0.6666666666666666,
                            "#ed7953"
                          ],
                          [
                            0.7777777777777778,
                            "#fb9f3a"
                          ],
                          [
                            0.8888888888888888,
                            "#fdca26"
                          ],
                          [
                            1,
                            "#f0f921"
                          ]
                        ],
                        "type": "heatmap"
                      }
                    ],
                    "histogram": [
                      {
                        "marker": {
                          "pattern": {
                            "fillmode": "overlay",
                            "size": 10,
                            "solidity": 0.2
                          }
                        },
                        "type": "histogram"
                      }
                    ],
                    "histogram2d": [
                      {
                        "colorbar": {
                          "outlinewidth": 0,
                          "ticks": ""
                        },
                        "colorscale": [
                          [
                            0,
                            "#0d0887"
                          ],
                          [
                            0.1111111111111111,
                            "#46039f"
                          ],
                          [
                            0.2222222222222222,
                            "#7201a8"
                          ],
                          [
                            0.3333333333333333,
                            "#9c179e"
                          ],
                          [
                            0.4444444444444444,
                            "#bd3786"
                          ],
                          [
                            0.5555555555555556,
                            "#d8576b"
                          ],
                          [
                            0.6666666666666666,
                            "#ed7953"
                          ],
                          [
                            0.7777777777777778,
                            "#fb9f3a"
                          ],
                          [
                            0.8888888888888888,
                            "#fdca26"
                          ],
                          [
                            1,
                            "#f0f921"
                          ]
                        ],
                        "type": "histogram2d"
                      }
                    ],
                    "histogram2dcontour": [
                      {
                        "colorbar": {
                          "outlinewidth": 0,
                          "ticks": ""
                        },
                        "colorscale": [
                          [
                            0,
                            "#0d0887"
                          ],
                          [
                            0.1111111111111111,
                            "#46039f"
                          ],
                          [
                            0.2222222222222222,
                            "#7201a8"
                          ],
                          [
                            0.3333333333333333,
                            "#9c179e"
                          ],
                          [
                            0.4444444444444444,
                            "#bd3786"
                          ],
                          [
                            0.5555555555555556,
                            "#d8576b"
                          ],
                          [
                            0.6666666666666666,
                            "#ed7953"
                          ],
                          [
                            0.7777777777777778,
                            "#fb9f3a"
                          ],
                          [
                            0.8888888888888888,
                            "#fdca26"
                          ],
                          [
                            1,
                            "#f0f921"
                          ]
                        ],
                        "type": "histogram2dcontour"
                      }
                    ],
                    "mesh3d": [
                      {
                        "colorbar": {
                          "outlinewidth": 0,
                          "ticks": ""
                        },
                        "type": "mesh3d"
                      }
                    ],
                    "parcoords": [
                      {
                        "line": {
                          "colorbar": {
                            "outlinewidth": 0,
                            "ticks": ""
                          }
                        },
                        "type": "parcoords"
                      }
                    ],
                    "pie": [
                      {
                        "automargin": true,
                        "type": "pie"
                      }
                    ],
                    "scatter": [
                      {
                        "fillpattern": {
                          "fillmode": "overlay",
                          "size": 10,
                          "solidity": 0.2
                        },
                        "type": "scatter"
                      }
                    ],
                    "scatter3d": [
                      {
                        "line": {
                          "colorbar": {
                            "outlinewidth": 0,
                            "ticks": ""
                          }
                        },
                        "marker": {
                          "colorbar": {
                            "outlinewidth": 0,
                            "ticks": ""
                          }
                        },
                        "type": "scatter3d"
                      }
                    ],
                    "scattercarpet": [
                      {
                        "marker": {
                          "colorbar": {
                            "outlinewidth": 0,
                            "ticks": ""
                          }
                        },
                        "type": "scattercarpet"
                      }
                    ],
                    "scattergeo": [
                      {
                        "marker": {
                          "colorbar": {
                            "outlinewidth": 0,
                            "ticks": ""
                          }
                        },
                        "type": "scattergeo"
                      }
                    ],
                    "scattergl": [
                      {
                        "marker": {
                          "colorbar": {
                            "outlinewidth": 0,
                            "ticks": ""
                          }
                        },
                        "type": "scattergl"
                      }
                    ],
                    "scattermap": [
                      {
                        "marker": {
                          "colorbar": {
                            "outlinewidth": 0,
                            "ticks": ""
                          }
                        },
                        "type": "scattermap"
                      }
                    ],
                    "scattermapbox": [
                      {
                        "marker": {
                          "colorbar": {
                            "outlinewidth": 0,
                            "ticks": ""
                          }
                        },
                        "type": "scattermapbox"
                      }
                    ],
                    "scatterpolar": [
                      {
                        "marker": {
                          "colorbar": {
                            "outlinewidth": 0,
                            "ticks": ""
                          }
                        },
                        "type": "scatterpolar"
                      }
                    ],
                    "scatterpolargl": [
                      {
                        "marker": {
                          "colorbar": {
                            "outlinewidth": 0,
                            "ticks": ""
                          }
                        },
                        "type": "scatterpolargl"
                      }
                    ],
                    "scatterternary": [
                      {
                        "marker": {
                          "colorbar": {
                            "outlinewidth": 0,
                            "ticks": ""
                          }
                        },
                        "type": "scatterternary"
                      }
                    ],
                    "surface": [
                      {
                        "colorbar": {
                          "outlinewidth": 0,
                          "ticks": ""
                        },
                        "colorscale": [
                          [
                            0,
                            "#0d0887"
                          ],
                          [
                            0.1111111111111111,
                            "#46039f"
                          ],
                          [
                            0.2222222222222222,
                            "#7201a8"
                          ],
                          [
                            0.3333333333333333,
                            "#9c179e"
                          ],
                          [
                            0.4444444444444444,
                            "#bd3786"
                          ],
                          [
                            0.5555555555555556,
                            "#d8576b"
                          ],
                          [
                            0.6666666666666666,
                            "#ed7953"
                          ],
                          [
                            0.7777777777777778,
                            "#fb9f3a"
                          ],
                          [
                            0.8888888888888888,
                            "#fdca26"
                          ],
                          [
                            1,
                            "#f0f921"
                          ]
                        ],
                        "type": "surface"
                      }
                    ],
                    "table": [
                      {
                        "cells": {
                          "fill": {
                            "color": "#EBF0F8"
                          },
                          "line": {
                            "color": "white"
                          }
                        },
                        "header": {
                          "fill": {
                            "color": "#C8D4E3"
                          },
                          "line": {
                            "color": "white"
                          }
                        },
                        "type": "table"
                      }
                    ]
                  },
                  "layout": {
                    "annotationdefaults": {
                      "arrowcolor": "#2a3f5f",
                      "arrowhead": 0,
                      "arrowwidth": 1
                    },
                    "autotypenumbers": "strict",
                    "coloraxis": {
                      "colorbar": {
                        "outlinewidth": 0,
                        "ticks": ""
                      }
                    },
                    "colorscale": {
                      "diverging": [
                        [
                          0,
                          "#8e0152"
                        ],
                        [
                          0.1,
                          "#c51b7d"
                        ],
                        [
                          0.2,
                          "#de77ae"
                        ],
                        [
                          0.3,
                          "#f1b6da"
                        ],
                        [
                          0.4,
                          "#fde0ef"
                        ],
                        [
                          0.5,
                          "#f7f7f7"
                        ],
                        [
                          0.6,
                          "#e6f5d0"
                        ],
                        [
                          0.7,
                          "#b8e186"
                        ],
                        [
                          0.8,
                          "#7fbc41"
                        ],
                        [
                          0.9,
                          "#4d9221"
                        ],
                        [
                          1,
                          "#276419"
                        ]
                      ],
                      "sequential": [
                        [
                          0,
                          "#0d0887"
                        ],
                        [
                          0.1111111111111111,
                          "#46039f"
                        ],
                        [
                          0.2222222222222222,
                          "#7201a8"
                        ],
                        [
                          0.3333333333333333,
                          "#9c179e"
                        ],
                        [
                          0.4444444444444444,
                          "#bd3786"
                        ],
                        [
                          0.5555555555555556,
                          "#d8576b"
                        ],
                        [
                          0.6666666666666666,
                          "#ed7953"
                        ],
                        [
                          0.7777777777777778,
                          "#fb9f3a"
                        ],
                        [
                          0.8888888888888888,
                          "#fdca26"
                        ],
                        [
                          1,
                          "#f0f921"
                        ]
                      ],
                      "sequentialminus": [
                        [
                          0,
                          "#0d0887"
                        ],
                        [
                          0.1111111111111111,
                          "#46039f"
                        ],
                        [
                          0.2222222222222222,
                          "#7201a8"
                        ],
                        [
                          0.3333333333333333,
                          "#9c179e"
                        ],
                        [
                          0.4444444444444444,
                          "#bd3786"
                        ],
                        [
                          0.5555555555555556,
                          "#d8576b"
                        ],
                        [
                          0.6666666666666666,
                          "#ed7953"
                        ],
                        [
                          0.7777777777777778,
                          "#fb9f3a"
                        ],
                        [
                          0.8888888888888888,
                          "#fdca26"
                        ],
                        [
                          1,
                          "#f0f921"
                        ]
                      ]
                    },
                    "colorway": [
                      "#636efa",
                      "#EF553B",
                      "#00cc96",
                      "#ab63fa",
                      "#FFA15A",
                      "#19d3f3",
                      "#FF6692",
                      "#B6E880",
                      "#FF97FF",
                      "#FECB52"
                    ],
                    "font": {
                      "color": "#2a3f5f"
                    },
                    "geo": {
                      "bgcolor": "white",
                      "lakecolor": "white",
                      "landcolor": "#E5ECF6",
                      "showlakes": true,
                      "showland": true,
                      "subunitcolor": "white"
                    },
                    "hoverlabel": {
                      "align": "left"
                    },
                    "hovermode": "closest",
                    "mapbox": {
                      "style": "light"
                    },
                    "paper_bgcolor": "white",
                    "plot_bgcolor": "#E5ECF6",
                    "polar": {
                      "angularaxis": {
                        "gridcolor": "white",
                        "linecolor": "white",
                        "ticks": ""
                      },
                      "bgcolor": "#E5ECF6",
                      "radialaxis": {
                        "gridcolor": "white",
                        "linecolor": "white",
                        "ticks": ""
                      }
                    },
                    "scene": {
                      "xaxis": {
                        "backgroundcolor": "#E5ECF6",
                        "gridcolor": "white",
                        "gridwidth": 2,
                        "linecolor": "white",
                        "showbackground": true,
                        "ticks": "",
                        "zerolinecolor": "white"
                      },
                      "yaxis": {
                        "backgroundcolor": "#E5ECF6",
                        "gridcolor": "white",
                        "gridwidth": 2,
                        "linecolor": "white",
                        "showbackground": true,
                        "ticks": "",
                        "zerolinecolor": "white"
                      },
                      "zaxis": {
                        "backgroundcolor": "#E5ECF6",
                        "gridcolor": "white",
                        "gridwidth": 2,
                        "linecolor": "white",
                        "showbackground": true,
                        "ticks": "",
                        "zerolinecolor": "white"
                      }
                    },
                    "shapedefaults": {
                      "line": {
                        "color": "#2a3f5f"
                      }
                    },
                    "ternary": {
                      "aaxis": {
                        "gridcolor": "white",
                        "linecolor": "white",
                        "ticks": ""
                      },
                      "baxis": {
                        "gridcolor": "white",
                        "linecolor": "white",
                        "ticks": ""
                      },
                      "bgcolor": "#E5ECF6",
                      "caxis": {
                        "gridcolor": "white",
                        "linecolor": "white",
                        "ticks": ""
                      }
                    },
                    "title": {
                      "x": 0.05
                    },
                    "xaxis": {
                      "automargin": true,
                      "gridcolor": "white",
                      "linecolor": "white",
                      "ticks": "",
                      "title": {
                        "standoff": 15
                      },
                      "zerolinecolor": "white",
                      "zerolinewidth": 2
                    },
                    "yaxis": {
                      "automargin": true,
                      "gridcolor": "white",
                      "linecolor": "white",
                      "ticks": "",
                      "title": {
                        "standoff": 15
                      },
                      "zerolinecolor": "white",
                      "zerolinewidth": 2
                    }
                  }
                },
                "title": {
                  "text": "RELACIÓN ENTRE LA CANTIDAD DE SERVICIOS Y EL ESTADO DEL CLIENTE"
                },
                "xaxis": {
                  "anchor": "y",
                  "categoryarray": [
                    0,
                    1
                  ],
                  "categoryorder": "array",
                  "domain": [
                    0,
                    1
                  ],
                  "title": {
                    "text": "ESTADO DEL CLIENTE"
                  }
                },
                "yaxis": {
                  "anchor": "x",
                  "domain": [
                    0,
                    1
                  ],
                  "title": {
                    "text": "CANTIDAD DE SERVICIOS"
                  }
                }
              }
            }
          },
          "metadata": {},
          "output_type": "display_data"
        }
      ],
      "source": [
        "columnas_servicios = [\n",
        "    'phone.PhoneService', 'phone.MultipleLines', 'internet.InternetService', 'internet.OnlineSecurity',\n",
        "    'internet.OnlineBackup', 'internet.DeviceProtection','internet.TechSupport',\n",
        "    'internet.StreamingTV', 'internet.StreamingMovies'\n",
        "]\n",
        "\n",
        "servicios_binarios = df_tel[columnas_servicios].apply(lambda col: ((col == 'Yes') | (col == 'DSL') | (col == 'Fiber optic') | (col == 1))).astype(int)\n",
        "\n",
        "df_tel['cantidad_servicios'] = servicios_binarios.sum(axis=1)\n",
        "\n",
        "fig = px.box(\n",
        "    df_tel,\n",
        "    x=\"Churn\",\n",
        "    y=\"cantidad_servicios\",\n",
        "    color=\"Churn\",\n",
        "    color_discrete_map={0: '#0083d5', 1: '#d56e00'},\n",
        "    title=\"RELACIÓN ENTRE LA CANTIDAD DE SERVICIOS Y EL ESTADO DEL CLIENTE\",\n",
        "    labels={'Churn': 'ESTADO DEL CLIENTE', 'cantidad_servicios': 'CANTIDAD DE SERVICIOS'}\n",
        ")\n",
        "fig.show()"
      ]
    },
    {
      "cell_type": "markdown",
      "metadata": {},
      "source": [
        "#Realizando una matriz de correlación"
      ]
    },
    {
      "cell_type": "code",
      "execution_count": 15,
      "metadata": {},
      "outputs": [
        {
          "data": {
            "application/vnd.plotly.v1+json": {
              "config": {
                "plotlyServerURL": "https://plot.ly"
              },
              "data": [
                {
                  "coloraxis": "coloraxis",
                  "hovertemplate": "x: %{x}<br>y: %{y}<br>color: %{z}<extra></extra>",
                  "name": "0",
                  "texttemplate": "%{z:.2f}",
                  "type": "heatmap",
                  "x": [
                    "Churn",
                    "customer.tenure",
                    "account.Charges.Total",
                    "cuentas_diarias"
                  ],
                  "xaxis": "x",
                  "y": [
                    "Churn",
                    "customer.tenure",
                    "account.Charges.Total",
                    "cuentas_diarias"
                  ],
                  "yaxis": "y",
                  "z": {
                    "bdata": "AAAAAAAA8D8TWrYe6orWvz9jf8exiMm/vdb9Oue/yD8TWrYe6orWvwAAAAAAAPA/zqFD3Jxt6j9/T7e3LrvPPz9jf8exiMm/zqFD3Jxt6j8AAAAAAADwP97crdqF1eQ/vdb9Oue/yD9/T7e3LrvPP97crdqF1eQ/AAAAAAAA8D8=",
                    "dtype": "f8",
                    "shape": "4, 4"
                  }
                }
              ],
              "layout": {
                "coloraxis": {
                  "colorscale": [
                    [
                      0,
                      "rgb(36, 86, 104)"
                    ],
                    [
                      0.16666666666666666,
                      "rgb(15, 114, 121)"
                    ],
                    [
                      0.3333333333333333,
                      "rgb(13, 143, 129)"
                    ],
                    [
                      0.5,
                      "rgb(57, 171, 126)"
                    ],
                    [
                      0.6666666666666666,
                      "rgb(110, 197, 116)"
                    ],
                    [
                      0.8333333333333334,
                      "rgb(169, 220, 103)"
                    ],
                    [
                      1,
                      "rgb(237, 239, 93)"
                    ]
                  ]
                },
                "margin": {
                  "b": 40,
                  "l": 40,
                  "r": 40,
                  "t": 40
                },
                "template": {
                  "data": {
                    "bar": [
                      {
                        "error_x": {
                          "color": "#2a3f5f"
                        },
                        "error_y": {
                          "color": "#2a3f5f"
                        },
                        "marker": {
                          "line": {
                            "color": "#E5ECF6",
                            "width": 0.5
                          },
                          "pattern": {
                            "fillmode": "overlay",
                            "size": 10,
                            "solidity": 0.2
                          }
                        },
                        "type": "bar"
                      }
                    ],
                    "barpolar": [
                      {
                        "marker": {
                          "line": {
                            "color": "#E5ECF6",
                            "width": 0.5
                          },
                          "pattern": {
                            "fillmode": "overlay",
                            "size": 10,
                            "solidity": 0.2
                          }
                        },
                        "type": "barpolar"
                      }
                    ],
                    "carpet": [
                      {
                        "aaxis": {
                          "endlinecolor": "#2a3f5f",
                          "gridcolor": "white",
                          "linecolor": "white",
                          "minorgridcolor": "white",
                          "startlinecolor": "#2a3f5f"
                        },
                        "baxis": {
                          "endlinecolor": "#2a3f5f",
                          "gridcolor": "white",
                          "linecolor": "white",
                          "minorgridcolor": "white",
                          "startlinecolor": "#2a3f5f"
                        },
                        "type": "carpet"
                      }
                    ],
                    "choropleth": [
                      {
                        "colorbar": {
                          "outlinewidth": 0,
                          "ticks": ""
                        },
                        "type": "choropleth"
                      }
                    ],
                    "contour": [
                      {
                        "colorbar": {
                          "outlinewidth": 0,
                          "ticks": ""
                        },
                        "colorscale": [
                          [
                            0,
                            "#0d0887"
                          ],
                          [
                            0.1111111111111111,
                            "#46039f"
                          ],
                          [
                            0.2222222222222222,
                            "#7201a8"
                          ],
                          [
                            0.3333333333333333,
                            "#9c179e"
                          ],
                          [
                            0.4444444444444444,
                            "#bd3786"
                          ],
                          [
                            0.5555555555555556,
                            "#d8576b"
                          ],
                          [
                            0.6666666666666666,
                            "#ed7953"
                          ],
                          [
                            0.7777777777777778,
                            "#fb9f3a"
                          ],
                          [
                            0.8888888888888888,
                            "#fdca26"
                          ],
                          [
                            1,
                            "#f0f921"
                          ]
                        ],
                        "type": "contour"
                      }
                    ],
                    "contourcarpet": [
                      {
                        "colorbar": {
                          "outlinewidth": 0,
                          "ticks": ""
                        },
                        "type": "contourcarpet"
                      }
                    ],
                    "heatmap": [
                      {
                        "colorbar": {
                          "outlinewidth": 0,
                          "ticks": ""
                        },
                        "colorscale": [
                          [
                            0,
                            "#0d0887"
                          ],
                          [
                            0.1111111111111111,
                            "#46039f"
                          ],
                          [
                            0.2222222222222222,
                            "#7201a8"
                          ],
                          [
                            0.3333333333333333,
                            "#9c179e"
                          ],
                          [
                            0.4444444444444444,
                            "#bd3786"
                          ],
                          [
                            0.5555555555555556,
                            "#d8576b"
                          ],
                          [
                            0.6666666666666666,
                            "#ed7953"
                          ],
                          [
                            0.7777777777777778,
                            "#fb9f3a"
                          ],
                          [
                            0.8888888888888888,
                            "#fdca26"
                          ],
                          [
                            1,
                            "#f0f921"
                          ]
                        ],
                        "type": "heatmap"
                      }
                    ],
                    "histogram": [
                      {
                        "marker": {
                          "pattern": {
                            "fillmode": "overlay",
                            "size": 10,
                            "solidity": 0.2
                          }
                        },
                        "type": "histogram"
                      }
                    ],
                    "histogram2d": [
                      {
                        "colorbar": {
                          "outlinewidth": 0,
                          "ticks": ""
                        },
                        "colorscale": [
                          [
                            0,
                            "#0d0887"
                          ],
                          [
                            0.1111111111111111,
                            "#46039f"
                          ],
                          [
                            0.2222222222222222,
                            "#7201a8"
                          ],
                          [
                            0.3333333333333333,
                            "#9c179e"
                          ],
                          [
                            0.4444444444444444,
                            "#bd3786"
                          ],
                          [
                            0.5555555555555556,
                            "#d8576b"
                          ],
                          [
                            0.6666666666666666,
                            "#ed7953"
                          ],
                          [
                            0.7777777777777778,
                            "#fb9f3a"
                          ],
                          [
                            0.8888888888888888,
                            "#fdca26"
                          ],
                          [
                            1,
                            "#f0f921"
                          ]
                        ],
                        "type": "histogram2d"
                      }
                    ],
                    "histogram2dcontour": [
                      {
                        "colorbar": {
                          "outlinewidth": 0,
                          "ticks": ""
                        },
                        "colorscale": [
                          [
                            0,
                            "#0d0887"
                          ],
                          [
                            0.1111111111111111,
                            "#46039f"
                          ],
                          [
                            0.2222222222222222,
                            "#7201a8"
                          ],
                          [
                            0.3333333333333333,
                            "#9c179e"
                          ],
                          [
                            0.4444444444444444,
                            "#bd3786"
                          ],
                          [
                            0.5555555555555556,
                            "#d8576b"
                          ],
                          [
                            0.6666666666666666,
                            "#ed7953"
                          ],
                          [
                            0.7777777777777778,
                            "#fb9f3a"
                          ],
                          [
                            0.8888888888888888,
                            "#fdca26"
                          ],
                          [
                            1,
                            "#f0f921"
                          ]
                        ],
                        "type": "histogram2dcontour"
                      }
                    ],
                    "mesh3d": [
                      {
                        "colorbar": {
                          "outlinewidth": 0,
                          "ticks": ""
                        },
                        "type": "mesh3d"
                      }
                    ],
                    "parcoords": [
                      {
                        "line": {
                          "colorbar": {
                            "outlinewidth": 0,
                            "ticks": ""
                          }
                        },
                        "type": "parcoords"
                      }
                    ],
                    "pie": [
                      {
                        "automargin": true,
                        "type": "pie"
                      }
                    ],
                    "scatter": [
                      {
                        "fillpattern": {
                          "fillmode": "overlay",
                          "size": 10,
                          "solidity": 0.2
                        },
                        "type": "scatter"
                      }
                    ],
                    "scatter3d": [
                      {
                        "line": {
                          "colorbar": {
                            "outlinewidth": 0,
                            "ticks": ""
                          }
                        },
                        "marker": {
                          "colorbar": {
                            "outlinewidth": 0,
                            "ticks": ""
                          }
                        },
                        "type": "scatter3d"
                      }
                    ],
                    "scattercarpet": [
                      {
                        "marker": {
                          "colorbar": {
                            "outlinewidth": 0,
                            "ticks": ""
                          }
                        },
                        "type": "scattercarpet"
                      }
                    ],
                    "scattergeo": [
                      {
                        "marker": {
                          "colorbar": {
                            "outlinewidth": 0,
                            "ticks": ""
                          }
                        },
                        "type": "scattergeo"
                      }
                    ],
                    "scattergl": [
                      {
                        "marker": {
                          "colorbar": {
                            "outlinewidth": 0,
                            "ticks": ""
                          }
                        },
                        "type": "scattergl"
                      }
                    ],
                    "scattermap": [
                      {
                        "marker": {
                          "colorbar": {
                            "outlinewidth": 0,
                            "ticks": ""
                          }
                        },
                        "type": "scattermap"
                      }
                    ],
                    "scattermapbox": [
                      {
                        "marker": {
                          "colorbar": {
                            "outlinewidth": 0,
                            "ticks": ""
                          }
                        },
                        "type": "scattermapbox"
                      }
                    ],
                    "scatterpolar": [
                      {
                        "marker": {
                          "colorbar": {
                            "outlinewidth": 0,
                            "ticks": ""
                          }
                        },
                        "type": "scatterpolar"
                      }
                    ],
                    "scatterpolargl": [
                      {
                        "marker": {
                          "colorbar": {
                            "outlinewidth": 0,
                            "ticks": ""
                          }
                        },
                        "type": "scatterpolargl"
                      }
                    ],
                    "scatterternary": [
                      {
                        "marker": {
                          "colorbar": {
                            "outlinewidth": 0,
                            "ticks": ""
                          }
                        },
                        "type": "scatterternary"
                      }
                    ],
                    "surface": [
                      {
                        "colorbar": {
                          "outlinewidth": 0,
                          "ticks": ""
                        },
                        "colorscale": [
                          [
                            0,
                            "#0d0887"
                          ],
                          [
                            0.1111111111111111,
                            "#46039f"
                          ],
                          [
                            0.2222222222222222,
                            "#7201a8"
                          ],
                          [
                            0.3333333333333333,
                            "#9c179e"
                          ],
                          [
                            0.4444444444444444,
                            "#bd3786"
                          ],
                          [
                            0.5555555555555556,
                            "#d8576b"
                          ],
                          [
                            0.6666666666666666,
                            "#ed7953"
                          ],
                          [
                            0.7777777777777778,
                            "#fb9f3a"
                          ],
                          [
                            0.8888888888888888,
                            "#fdca26"
                          ],
                          [
                            1,
                            "#f0f921"
                          ]
                        ],
                        "type": "surface"
                      }
                    ],
                    "table": [
                      {
                        "cells": {
                          "fill": {
                            "color": "#EBF0F8"
                          },
                          "line": {
                            "color": "white"
                          }
                        },
                        "header": {
                          "fill": {
                            "color": "#C8D4E3"
                          },
                          "line": {
                            "color": "white"
                          }
                        },
                        "type": "table"
                      }
                    ]
                  },
                  "layout": {
                    "annotationdefaults": {
                      "arrowcolor": "#2a3f5f",
                      "arrowhead": 0,
                      "arrowwidth": 1
                    },
                    "autotypenumbers": "strict",
                    "coloraxis": {
                      "colorbar": {
                        "outlinewidth": 0,
                        "ticks": ""
                      }
                    },
                    "colorscale": {
                      "diverging": [
                        [
                          0,
                          "#8e0152"
                        ],
                        [
                          0.1,
                          "#c51b7d"
                        ],
                        [
                          0.2,
                          "#de77ae"
                        ],
                        [
                          0.3,
                          "#f1b6da"
                        ],
                        [
                          0.4,
                          "#fde0ef"
                        ],
                        [
                          0.5,
                          "#f7f7f7"
                        ],
                        [
                          0.6,
                          "#e6f5d0"
                        ],
                        [
                          0.7,
                          "#b8e186"
                        ],
                        [
                          0.8,
                          "#7fbc41"
                        ],
                        [
                          0.9,
                          "#4d9221"
                        ],
                        [
                          1,
                          "#276419"
                        ]
                      ],
                      "sequential": [
                        [
                          0,
                          "#0d0887"
                        ],
                        [
                          0.1111111111111111,
                          "#46039f"
                        ],
                        [
                          0.2222222222222222,
                          "#7201a8"
                        ],
                        [
                          0.3333333333333333,
                          "#9c179e"
                        ],
                        [
                          0.4444444444444444,
                          "#bd3786"
                        ],
                        [
                          0.5555555555555556,
                          "#d8576b"
                        ],
                        [
                          0.6666666666666666,
                          "#ed7953"
                        ],
                        [
                          0.7777777777777778,
                          "#fb9f3a"
                        ],
                        [
                          0.8888888888888888,
                          "#fdca26"
                        ],
                        [
                          1,
                          "#f0f921"
                        ]
                      ],
                      "sequentialminus": [
                        [
                          0,
                          "#0d0887"
                        ],
                        [
                          0.1111111111111111,
                          "#46039f"
                        ],
                        [
                          0.2222222222222222,
                          "#7201a8"
                        ],
                        [
                          0.3333333333333333,
                          "#9c179e"
                        ],
                        [
                          0.4444444444444444,
                          "#bd3786"
                        ],
                        [
                          0.5555555555555556,
                          "#d8576b"
                        ],
                        [
                          0.6666666666666666,
                          "#ed7953"
                        ],
                        [
                          0.7777777777777778,
                          "#fb9f3a"
                        ],
                        [
                          0.8888888888888888,
                          "#fdca26"
                        ],
                        [
                          1,
                          "#f0f921"
                        ]
                      ]
                    },
                    "colorway": [
                      "#636efa",
                      "#EF553B",
                      "#00cc96",
                      "#ab63fa",
                      "#FFA15A",
                      "#19d3f3",
                      "#FF6692",
                      "#B6E880",
                      "#FF97FF",
                      "#FECB52"
                    ],
                    "font": {
                      "color": "#2a3f5f"
                    },
                    "geo": {
                      "bgcolor": "white",
                      "lakecolor": "white",
                      "landcolor": "#E5ECF6",
                      "showlakes": true,
                      "showland": true,
                      "subunitcolor": "white"
                    },
                    "hoverlabel": {
                      "align": "left"
                    },
                    "hovermode": "closest",
                    "mapbox": {
                      "style": "light"
                    },
                    "paper_bgcolor": "white",
                    "plot_bgcolor": "#E5ECF6",
                    "polar": {
                      "angularaxis": {
                        "gridcolor": "white",
                        "linecolor": "white",
                        "ticks": ""
                      },
                      "bgcolor": "#E5ECF6",
                      "radialaxis": {
                        "gridcolor": "white",
                        "linecolor": "white",
                        "ticks": ""
                      }
                    },
                    "scene": {
                      "xaxis": {
                        "backgroundcolor": "#E5ECF6",
                        "gridcolor": "white",
                        "gridwidth": 2,
                        "linecolor": "white",
                        "showbackground": true,
                        "ticks": "",
                        "zerolinecolor": "white"
                      },
                      "yaxis": {
                        "backgroundcolor": "#E5ECF6",
                        "gridcolor": "white",
                        "gridwidth": 2,
                        "linecolor": "white",
                        "showbackground": true,
                        "ticks": "",
                        "zerolinecolor": "white"
                      },
                      "zaxis": {
                        "backgroundcolor": "#E5ECF6",
                        "gridcolor": "white",
                        "gridwidth": 2,
                        "linecolor": "white",
                        "showbackground": true,
                        "ticks": "",
                        "zerolinecolor": "white"
                      }
                    },
                    "shapedefaults": {
                      "line": {
                        "color": "#2a3f5f"
                      }
                    },
                    "ternary": {
                      "aaxis": {
                        "gridcolor": "white",
                        "linecolor": "white",
                        "ticks": ""
                      },
                      "baxis": {
                        "gridcolor": "white",
                        "linecolor": "white",
                        "ticks": ""
                      },
                      "bgcolor": "#E5ECF6",
                      "caxis": {
                        "gridcolor": "white",
                        "linecolor": "white",
                        "ticks": ""
                      }
                    },
                    "title": {
                      "x": 0.05
                    },
                    "xaxis": {
                      "automargin": true,
                      "gridcolor": "white",
                      "linecolor": "white",
                      "ticks": "",
                      "title": {
                        "standoff": 15
                      },
                      "zerolinecolor": "white",
                      "zerolinewidth": 2
                    },
                    "yaxis": {
                      "automargin": true,
                      "gridcolor": "white",
                      "linecolor": "white",
                      "ticks": "",
                      "title": {
                        "standoff": 15
                      },
                      "zerolinecolor": "white",
                      "zerolinewidth": 2
                    }
                  }
                },
                "title": {
                  "text": "MATRIZ DE CORRELACIÓN"
                },
                "xaxis": {
                  "anchor": "y",
                  "domain": [
                    0,
                    1
                  ]
                },
                "yaxis": {
                  "anchor": "x",
                  "autorange": "reversed",
                  "domain": [
                    0,
                    1
                  ]
                }
              }
            }
          },
          "metadata": {},
          "output_type": "display_data"
        }
      ],
      "source": [
        "import plotly.express as px\n",
        "\n",
        "columnas_numericas = [\n",
        "    'customer.tenure',\n",
        "    'account.Charges.Total',\n",
        "    'cuentas_diarias',\n",
        "    'Churn'\n",
        "]\n",
        "\n",
        "correlaciones = df_tel[columnas_numericas].corr()\n",
        "orden = correlaciones['Churn'].abs().sort_values(ascending=False).index.tolist()\n",
        "correlaciones_ordenadas = correlaciones.loc[orden, orden]\n",
        "\n",
        "fig = px.imshow(\n",
        "    correlaciones_ordenadas,\n",
        "    text_auto=\".2f\",\n",
        "    aspect=\"auto\",\n",
        "    color_continuous_scale=\"Aggrnyl\",\n",
        "    title=\"MATRIZ DE CORRELACIÓN\",\n",
        ")\n",
        "\n",
        "fig.update_layout(margin=dict(l=40, r=40, t=40, b=40))\n",
        "fig.show()\n",
        "\n",
        "     "
      ]
    },
    {
      "cell_type": "markdown",
      "metadata": {},
      "source": [
        "📄 Informe final"
      ]
    },
    {
      "cell_type": "markdown",
      "metadata": {},
      "source": [
        "🔹 Introducción:\n",
        "\n",
        "Este informe enmarca el proyecto de Telecom X, una empresa que enfrenta una alarmante tasa de cancelaciones de su clientela. El objetivo principal del análisis es comprender los factores que influyen en la tasa de evasión y aportar información que permita diseñar modelos predictivos y emprender acciones concretas de forma estratégica para mejorar la retención de clientes.\n",
        "\n",
        "El proyecto se desarrolló con un proceso ETL para garantizar datos limpios y estructurados. A través de un Análisis Exploratorio de Datos (EDA) se identificaron patrones, correlaciones e indicadores de riesgo de abandono.\n",
        "\n",
        "🔹 Limpieza y Tratamiento de datos:\n",
        "\n",
        "Primero se descargaron los archivos una API y luego fueron importados mediante un lector de archivos JSON utilizando Pandas. Como resultado se obtuvo un DataFrame sin datos procesados.\n",
        "\n",
        "El 2do paso fue limpiar y tratar el DataFrame mediante diferentes métodos. Uno de ellos fue el tratamiento por datos nulos y datos duplicados, los cuales dieron sus resultados, se eliminaron 11 filas con valores faltantes irreparables para que el análisis sea consistente y se reemplazaron 224 filas con el valor de 'Yes' para que la EDA tuviera suficiente información para la investigación.\n",
        "\n",
        "Se renombraron las columnas al español para facilitar el manejo del DataFrame, lo que también mejora la comunicación con equipos no técnicos. Como varias estaban en formato 'object', se verificó su tipo de dato para su correcta conversión. Algunas fueron transformadas al tipo de dato 'int64' para una fácil interpretación. Otras fueron transformadas al tipo 'str' pero conservaron el tipo 'object' ya que Pandas lo define como una cadena de texto. Por último, algunas fueron transformadas al tipo de dato 'float64' para realizar cálculos. Además se tradujeron algunas palabras de las filas para mejor interpretación.\n",
        "\n",
        "Por último, se generaró una nueva columna para calcular el valor diario de cada cliente para ofrecer una mejor perspectiva analítica.\n",
        "\n",
        "🔹 Análisis Exploratorio de Datos:\n",
        "\n",
        "Como primera medida, se realizó un análisis descriptivo a los datos al calcular algunas métricas como la media, la mediana, la desviación estándar, entre otras. Esto ayudó a comprender mejor la distribución y el comportamiento de los clientes. Para los gráficos se usó matplotlob y seaborn.\n",
        "\n",
        "Luego se hizo un gráfico de torta (Pie) para ver cómo se distribuía la variable \"churn\" (evasión) de los clientes, donde se reveló una tasa de churn del 28.8%. Y tras utilizar un gráfico de barras y un gráfico de barras horizontal, se llegó a la conclusión de que más de la mitad de los clientes tienen contratos a corto plazo, además de que la mayoría solo contrata los servicios básicos (teléfono e Internet), pero no contrata servicios adicionales.\n",
        "\n",
        "Tras hacer un Boxplot, un Violinplot y un KDE, se descubrió que: la duración del contrato es un fuerte indicador de fidelidad ya que los clientes que se van lo hacen mayormente en los primeros 12 meses. Además, los cargos mensuales altos están asociados a mayor riesgo de fuga porque es posible que los clientes perciban que el servicio no justifica el costo o que sea muy excesivo.\n",
        "\n",
        "Después se realizó un análisis de correlación para identificar qué factores tienen mayor relación con la evasión de clientes. Para esto se utilizaron gráficos interactivos con Plotly y una matriz de correlación de datos.\n",
        "\n",
        "🔹 Hallazgos clave:\n",
        "\n",
        "El 28.8% de los clientes abandonaron la empresa.\n",
        "La duración del contrato es el factor más fuertemente asociado con la retención.\n",
        "Cargos mensuales elevados incrementan ligeramente la probabilidad de fuga.\n",
        "Los clientes que contratan más servicios generan más ingresos, pero no necesariamente permanecen más tiempo.\n",
        "La mayoría de las bajas se concentran en los primeros 12 meses.\n",
        "🔹 Conclusión:\n",
        "\n",
        "Una vez realizado el exhaustivo análisis exploratorio de datos, puedo llegar a la conclusión de que el número de servicios que un cliente contrata, por sí solo, no parece ser un factor determinante para que se quede o se vaya, así que ofrecer más servicios no garantiza directamente la retención. Por lo que el contrato y el costo de esos servicios son más importantes. A continuación doy los detalles:\n",
        "\n",
        "Dado que la correlación es negativa entre 'churn' y 'meses de contrato' y la más fuerte, significa que a medida que aumenta la cantidad de meses que un cliente permanece con la empresa, la probabilidad de que cancele su servicio disminuye, por lo que la lealtad y retención aumentan con el tiempo. Por eso los primeros meses de un cliente en la empresa son los más críticos.\n",
        "\n",
        "Los clientes con cargos mensuales más altos tienen una ligera tendencia a cancelar más el servicio. Porque aunque no es el factor principal, el precio mensual es relevante. Ya sean aumentos de precios o tarifas altas, estas podrían contribuir al abandono.\n",
        "\n",
        "A pesar de que los cargos totales altos podrían indicar un gasto excesivo y un motivo de fuga, en realidad tiene su justificación. La fuerte influencia de los meses de contrato provocan que los clientes que acumularon cargos totales elevados son en su mayoría de larga permanencia. Por lo que el valor total de un cliente a lo largo del tiempo es un indicador de lealtad al igual que el contrato.\n",
        "\n",
        "A medida que un cliente contrata más servicios, sus cargos mensuales y diarios aumentan de forma directamente proporcional. Por lo que se confirma que la estrategia de venta cruzada es efectiva para aumentar el ingreso por usuario.\n",
        "\n",
        "Por último, los cargos totales acumulados por un cliente están fuertemente ligados tanto al número de servicios que tiene como, sobre todo, al tiempo que lleva en la compañía. Así que el valor de vida del cliente se impulsa por la longevidad y la profundidad del servicio.\n",
        "\n",
        "🔹 Recomendaciones:\n",
        "\n",
        "Tras mi conclusión, recomiendo identificar que clientes tienen una mayor tendencia a irse en base a los datos analizados y así ofrecerles una bonificación extra si mantienen el contrato a largo plazo.\n",
        "\n",
        "Como ya vimos, el factor más importante para reducir la probabilidad del abandono es la duración del contrato. Sería bueno sacar promociones que motiven a más clientes a tomar el contrato por 1 año o 2 años en vez del contrato mes a mes, por ejemplo: Sacar un descuento importante mientras más tiempo se queden en la empresa, o sacar un beneficio del cliente mientras más servicios contrate.\n",
        "\n",
        "Dado que la fuga ocurre en los primeros meses, recomendaría implementar unos programas de bienvenida muy robustos, y que hayan varias llamadas de seguimiento y encuestas de satisfacción en los servicios para abordar cualquier incoveniente que tenga el cliente, además de asegurar que sus planes de servicio se alineen con su uso intensivo. Así la calidad de atención al cliente mejora y lo motivaría a quedarse.\n",
        "\n",
        "Otra recomendación sería revisar el costo de los servicios, ya que los cargos mensuales y diarios más altos están levemente asociados con una mayor fuga. Dado que los clientes con más servicios generan lógicamente más ingresos recurrentes pero a su vez tienen un mayor gasto, sería bueno sacar packs de ofertas donde el costo por adquirir esos servicios sea mucho menor si se contrata el pack completo, eso motivaría a la clientela a pagar el pack que contiene más servicios a un menor precio que contratar de forma individual.\n",
        "\n",
        "También recomendaría investigar las razones del porqué la facturación sin papel tiene mayor tendencia al abandono. Se debe mejorar la experiencia digital y ofrecer canales de soporte eficientes para retener a los clientes que prefieran ese formato, así como una mejora en la calidad de la Fibra Óptica en servicio de Internet y promover activamente los métodos de pago de transferencia bancaria y tarjeta de crédito.\n",
        "\n",
        "Por último, dado que el 28.8% de los clientes ya han abandonado la empresa, es fundamental implementar estas estrategias de forma inmediata para evitar una pérdida aún mayor de la base de usuarios y, por lo tanto, pérdidas más significativas.\n",
        "\n",
        "🔹 Final:\n",
        "\n",
        "Todo este análisis permite sentar las bases para un sistema de predicción del abandono, optimización de ofertas y retención inteligente de clientes en función del tiempo de su contrato, su comportamiento y los servicios que decidan contratar en la empresa."
      ]
    }
  ],
  "metadata": {
    "colab": {
      "provenance": []
    },
    "kernelspec": {
      "display_name": "Python 3",
      "name": "python3"
    },
    "language_info": {
      "codemirror_mode": {
        "name": "ipython",
        "version": 3
      },
      "file_extension": ".py",
      "mimetype": "text/x-python",
      "name": "python",
      "nbconvert_exporter": "python",
      "pygments_lexer": "ipython3",
      "version": "3.11.5"
    }
  },
  "nbformat": 4,
  "nbformat_minor": 0
}
